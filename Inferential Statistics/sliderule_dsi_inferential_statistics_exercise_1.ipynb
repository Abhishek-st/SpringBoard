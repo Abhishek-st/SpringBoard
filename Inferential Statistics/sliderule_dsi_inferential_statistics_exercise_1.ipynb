{
 "cells": [
  {
   "cell_type": "markdown",
   "metadata": {},
   "source": [
    "# What is the True Normal Human Body Temperature? \n",
    "\n",
    "#### Background\n",
    "\n",
    "The mean normal body temperature was held to be 37$^{\\circ}$C or 98.6$^{\\circ}$F for more than 120 years since it was first conceptualized and reported by Carl Wunderlich in a famous 1868 book. But, is this value statistically correct?"
   ]
  },
  {
   "cell_type": "markdown",
   "metadata": {},
   "source": [
    "<h3>Exercises</h3>\n",
    "\n",
    "<p>In this exercise, you will analyze a dataset of human body temperatures and employ the concepts of hypothesis testing, confidence intervals, and statistical significance.</p>\n",
    "\n",
    "<p>Answer the following questions <b>in this notebook below and submit to your Github account</b>.</p> \n",
    "\n",
    "<ol>\n",
    "<li>  Is the distribution of body temperatures normal? \n",
    "    <ul>\n",
    "    <li> Although this is not a requirement for the Central Limit Theorem to hold (read the introduction on Wikipedia's page about the CLT carefully: https://en.wikipedia.org/wiki/Central_limit_theorem), it gives us some peace of mind that the population may also be normally distributed if we assume that this sample is representative of the population.\n",
    "    <li> Think about the way you're going to check for the normality of the distribution. Graphical methods are usually used first, but there are also other ways: https://en.wikipedia.org/wiki/Normality_test\n",
    "    </ul>\n",
    "<li>  Is the sample size large? Are the observations independent?\n",
    "    <ul>\n",
    "    <li> Remember that this is a condition for the Central Limit Theorem, and hence the statistical tests we are using, to apply.\n",
    "    </ul>\n",
    "<li>  Is the true population mean really 98.6 degrees F?\n",
    "    <ul>\n",
    "    <li> First, try a bootstrap hypothesis test.\n",
    "    <li> Now, let's try frequentist statistical testing. Would you use a one-sample or two-sample test? Why?\n",
    "    <li> In this situation, is it appropriate to use the $t$ or $z$ statistic? \n",
    "    <li> Now try using the other test. How is the result be different? Why?\n",
    "    </ul>\n",
    "<li>  Draw a small sample of size 10 from the data and repeat both frequentist tests. \n",
    "    <ul>\n",
    "    <li> Which one is the correct one to use? \n",
    "    <li> What do you notice? What does this tell you about the difference in application of the $t$ and $z$ statistic?\n",
    "    </ul>\n",
    "<li>  At what temperature should we consider someone's temperature to be \"abnormal\"?\n",
    "    <ul>\n",
    "    <li> As in the previous example, try calculating everything using the boostrap approach, as well as the frequentist approach.\n",
    "    <li> Start by computing the margin of error and confidence interval. When calculating the confidence interval, keep in mind that you should use the appropriate formula for one draw, and not N draws.\n",
    "    </ul>\n",
    "<li>  Is there a significant difference between males and females in normal temperature?\n",
    "    <ul>\n",
    "    <li> What testing approach did you use and why?\n",
    "    <li> Write a story with your conclusion in the context of the original problem.\n",
    "    </ul>\n",
    "</ol>\n",
    "\n",
    "You can include written notes in notebook cells using Markdown: \n",
    "   - In the control panel at the top, choose Cell > Cell Type > Markdown\n",
    "   - Markdown syntax: http://nestacms.com/docs/creating-content/markdown-cheat-sheet\n",
    "\n",
    "#### Resources\n",
    "\n",
    "+ Information and data sources: http://www.amstat.org/publications/jse/datasets/normtemp.txt, http://www.amstat.org/publications/jse/jse_data_archive.htm\n",
    "+ Markdown syntax: http://nestacms.com/docs/creating-content/markdown-cheat-sheet\n",
    "\n",
    "****"
   ]
  },
  {
   "cell_type": "code",
   "execution_count": 2,
   "metadata": {
    "collapsed": true
   },
   "outputs": [],
   "source": [
    "import pandas as pd\n",
    "import matplotlib.pyplot as plt\n",
    "from scipy.stats.mstats import normaltest\n",
    "import numpy as np\n",
    "import scipy.stats as st\n",
    "\n",
    "df = pd.read_csv('data/human_body_temperature.csv')"
   ]
  },
  {
   "cell_type": "code",
   "execution_count": 5,
   "metadata": {
    "collapsed": true
   },
   "outputs": [
    {
     "data": {
      "image/png": "[encoded data removed]",
      "text/plain": [
       "<Figure size 432x288 with 1 Axes>"
      ]
     },
     "metadata": {},
     "output_type": "display_data"
    },
    {
     "name": "stdout",
     "output_type": "stream",
     "text": [
      "The null hypothesis that the data is normally distributed has a p-value of 0.26.\n"
     ]
    }
   ],
   "source": [
    "# Your work here.\n",
    "df['temperature'].plot.hist(bins=30)\n",
    "plt.annotate('The skewness is {:.3f}'.format(df.temperature.skew()), xy=(99, 10), xytext=(96.2, 17), fontsize=15)\n",
    "plt.show()\n",
    "print('The null hypothesis that the data is normally distributed has a p-value of {:.2f}.'.format(normaltest(df.temperature)[1]))"
   ]
  },
  {
   "cell_type": "markdown",
   "metadata": {},
   "source": [
    "**1. Answer**: The data is normally distributed as evidenced by both skewness that is close to 0, and the large p-value that does not reject the null hypothesis that the data is\n",
    "normally distributed."
   ]
  },
  {
   "cell_type": "code",
   "execution_count": 6,
   "metadata": {},
   "outputs": [
    {
     "name": "stdout",
     "output_type": "stream",
     "text": [
      "The sample size is 130.\n"
     ]
    }
   ],
   "source": [
    "print('The sample size is {:.0f}.'.format(len(df)))"
   ]
  },
  {
   "cell_type": "markdown",
   "metadata": {},
   "source": [
    "**2. Answer**: The sample size is pretty small (only 130), but the observations are independent because we cannot infer the gender/temperature/heart rate of one person from the other in the given data."
   ]
  },
  {
   "cell_type": "code",
   "execution_count": 10,
   "metadata": {},
   "outputs": [
    {
     "name": "stdout",
     "output_type": "stream",
     "text": [
      "\n",
      " ################ bootstrap method ################ \n",
      " \n",
      "The sample mean (and the null hypothesis) is 98.25 °F.\n",
      "The bootstrap mean is 98.60.\n",
      "p-value = 1.0000. \n",
      "\n",
      "\n",
      " ################ frequentist statistical testing ################ \n",
      " \n",
      "The standard deviation of the sample is 0.73, whereas the population is approximately 0.06.\n",
      "The z-score is -5.4759 and the p-value is 1.0000.\n",
      "The t-score is -0.4784 and the p-value is 0.3166.\n"
     ]
    }
   ],
   "source": [
    "print('\\n ################ bootstrap method ################ \\n ')\n",
    "\n",
    "print('The sample mean (and the null hypothesis) is {:.2f} °F.'.format(df.temperature.mean()))\n",
    "\n",
    "def draw_bs_reps(data, size=1):\n",
    "    \"\"\"Draw bootstrap replicates.\"\"\"\n",
    "\n",
    "    # Initialize array of replicates: bs_replicates\n",
    "    bs_replicates = np.empty(size)\n",
    "\n",
    "    # Generate replicates\n",
    "    for i in range(size):\n",
    "        bs_replicates[i] = np.average(np.random.choice(data, size=data.size, replace=True))\n",
    "\n",
    "    return bs_replicates\n",
    "\n",
    "# Make an array of translated temperature\n",
    "temp = np.array(df.temperature.values.tolist()) - df.temperature.mean() + 98.6\n",
    "\n",
    "# Take bootstrap replicates of Frog B's translated impact forces: bs_replicates\n",
    "bs_replicates = draw_bs_reps(temp, 10000)\n",
    "print('The bootstrap mean is {:.2f}.'.format(np.average(bs_replicates)))\n",
    "\n",
    "# Compute fraction of replicates that are less than the observed sample means: p\n",
    "p = 1 - np.sum(bs_replicates <= df.temperature.mean()) / 100000 # make it survival function\n",
    "\n",
    "#Print the p-value\n",
    "print('p-value = {:.4f}. \\n'.format(p))\n",
    "\n",
    "\n",
    "print('\\n ################ frequentist statistical testing ################ \\n ')\n",
    "\n",
    "pop_std = np.std(temp)/np.sqrt(len(temp))\n",
    "print('The standard deviation of the sample is {:.2f}, whereas the population is approximately {:.2f}.'.format(np.std(temp), pop_std))\n",
    "z_score = (df.temperature.mean() - 98.6)/pop_std\n",
    "p_val = 1 - st.norm.cdf(z_score) # make it survival function\n",
    "print('The z-score is {:.4f} and the p-value is {:.4f}.'.format(z_score, p_val))\n",
    "\n",
    "t_score = (df.temperature.mean() - 98.6)/df.temperature.std()\n",
    "pval = st.t.sf(np.abs(t_score), 130-1) #survival function already\n",
    "print('The t-score is {:.4f} and the p-value is {:.4f}.'.format(t_score, pval))"
   ]
  },
  {
   "cell_type": "markdown",
   "metadata": {},
   "source": [
    "**3. Answer**:\n",
    "\n",
    "* The bootstrap hypothesis does indicate that the mean of the population is 98.60 °F, with p-value indicating that we rejects the null hypothesis that the mean is 98.25.\n",
    "* For frequentist statistical testing we would use one sample-test with z-statistics. One sample test is used because we are compaing just 1 dataset with a number (98.6). Z-statistics is used because we can approximate the variance of the population and also the sample indicated that it would be normally distributed. The results showed similarly very high p-value.\n",
    "* Using t-stats instead significantly changed the results (although not the conclusion). This makes p-value drops to 0.3166. This is because t-score uses sample standard deviation and the distribution is not assumed to be normal like z-score, but is Student's t-distribution."
   ]
  },
  {
   "cell_type": "code",
   "execution_count": 12,
   "metadata": {},
   "outputs": [
    {
     "name": "stdout",
     "output_type": "stream",
     "text": [
      "\n",
      " ################ small scale frequentist statistical testing ################ \n",
      " \n",
      "The standard deviation of the sample is 0.51, whereas the population is approximately 0.23.\n",
      "The z-score is -0.6928 and the p-value is 0.7558.\n",
      "The t-score is -0.3148 and the p-value is 0.3801.\n"
     ]
    }
   ],
   "source": [
    "index = list(np.random.randint(0, len(df), 10))\n",
    "small_sample =[df.temperature.values.tolist()[i] for i in index]\n",
    "\n",
    "print('\\n ################ small scale frequentist statistical testing ################ \\n ')\n",
    "\n",
    "pop_std = np.std(temp)/np.sqrt(len(small_sample))\n",
    "print('The standard deviation of the sample is {:.2f}, whereas the population is approximately {:.2f}.'.format(np.std(small_sample), pop_std))\n",
    "z_score = (np.mean(small_sample) - 98.6)/pop_std\n",
    "p_val = 1 - st.norm.cdf(z_score) # make it survival function\n",
    "print('The z-score is {:.4f} and the p-value is {:.4f}.'.format(z_score, p_val))\n",
    "\n",
    "t_score = (np.mean(small_sample) - 98.6)/np.std(small_sample)\n",
    "pval = st.t.sf(np.abs(t_score), 10-1) #survival function already\n",
    "print('The t-score is {:.4f} and the p-value is {:.4f}.'.format(t_score, pval))"
   ]
  },
  {
   "cell_type": "markdown",
   "metadata": {},
   "source": [
    "**4. Answer**:\n",
    "\n",
    "* t-score is the correct one to use.\n",
    "* We can notice that z-score can vary vary heavily (from 0.1 to 0.99) because the number of sample is very low."
   ]
  },
  {
   "cell_type": "code",
   "execution_count": 16,
   "metadata": {},
   "outputs": [
    {
     "name": "stdout",
     "output_type": "stream",
     "text": [
      "The temperature corresponding for upper and lower CI from a given populatio mean is (98.7260 and 98.4740) with a margin error of 12.60%.\n",
      "The temperature corresponding for upper and lower CI from a bootstrap method is (98.7266 and 98.4746).\n",
      "The temperature corresponding for upper and lower CI from a frequentist statistics method is (98.7256 and 98.4744).\n"
     ]
    }
   ],
   "source": [
    "np.random.seed(42)\n",
    "\n",
    "z95 = 1.96\n",
    "upper_true = 98.6 + z95*df.temperature.std()/np.sqrt(len(df))\n",
    "lower_true = 98.6 - z95*df.temperature.std()/np.sqrt(len(df))\n",
    "m_err = z95 * df.temperature.std()/np.sqrt(len(df))*100\n",
    "\n",
    "# Make an array of translated temperature\n",
    "temp = np.array(df.temperature.values.tolist()) - df.temperature.mean() + 98.6\n",
    "\n",
    "# bootstrap method \n",
    "bs_replicates = draw_bs_reps(temp, 10000)\n",
    "#print('The bootstrap mean is {:.2f}.'.format(np.average(bs_replicates)))\n",
    "#print('The bootstrap std is {:.2f}.'.format(np.std(bs_replicates)))\n",
    "upper_bs = np.average(bs_replicates) + z95*df.temperature.std()/np.sqrt(len(df))\n",
    "lower_bs = np.average(bs_replicates) - z95*df.temperature.std()/np.sqrt(len(df))\n",
    "margin_bs = z95 * np.std(bs_replicates)/np.sqrt(10000)\n",
    "\n",
    "# frequentist statistical testing\n",
    "pop_std = np.std(temp)/np.sqrt(len(temp))\n",
    "#print('The standard deviation of the sample is {:.2f}, whereas the population is approximately {:.2f}.'.format(np.std(temp), pop_std))\n",
    "upper_zs = z95*pop_std + 98.6\n",
    "lower_zs = -z95*pop_std + 98.6\n",
    "\n",
    "print('The temperature corresponding for upper and lower CI from a given populatio mean is ({:.4f} and {:.4f}) with a margin error of {:.2f}%.'.format(upper_true, lower_true, m_err))\n",
    "print('The temperature corresponding for upper and lower CI from a bootstrap method is ({:.4f} and {:.4f}).'.format(upper_bs, lower_bs))\n",
    "print('The temperature corresponding for upper and lower CI from a frequentist statistics method is ({:.4f} and {:.4f}).'.format(upper_zs, lower_zs))"
   ]
  },
  {
   "cell_type": "markdown",
   "metadata": {},
   "source": [
    "**5. Answer**: Using 95% confident interval for considertaion of \"normal\" temperature, all methods indicate that abnormal temperatures are ones that either below 98.474 °F or ones that beyond 98.726 °F."
   ]
  },
  {
   "cell_type": "code",
   "execution_count": 17,
   "metadata": {},
   "outputs": [
    {
     "name": "stdout",
     "output_type": "stream",
     "text": [
      "The p-value is 0.0239\n"
     ]
    }
   ],
   "source": [
    "male_temp = df.temperature[df['gender']=='M'].values.tolist()\n",
    "female_temp = df.temperature[df['gender']=='F'].values.tolist()\n",
    "_, p = st.f_oneway(male_temp, female_temp)\n",
    "print('The p-value is {:.4f}'.format(p))"
   ]
  },
  {
   "cell_type": "code",
   "execution_count": 18,
   "metadata": {},
   "outputs": [
    {
     "data": {
      "text/plain": [
       "0.2892307692307696"
      ]
     },
     "execution_count": 18,
     "metadata": {},
     "output_type": "execute_result"
    }
   ],
   "source": [
    "np.average(female_temp) - np.average(male_temp) "
   ]
  },
  {
   "cell_type": "markdown",
   "metadata": {},
   "source": [
    "**6. Answer**: As p-value from ANOVA test is lower than 0.05, we could say that the mean values of temperature in males and females are statistically different. This is an interesting finding, we can see that male's temperature is about 0.29 °F lower than female's. Upon further research, we found that this is due to several reasons including,\n",
    "\n",
    "* Women have higher core body temperatures than men.\n",
    "* Women on birth control have even higher core body temperatures.\n",
    "* Women have slower metabolic rates than men.\n",
    "\n",
    "Ref: <html>http://www.foxnews.com/health/2017/01/15/theres-scientific-reason-women-are-always-colder-than-men.html"
   ]
  }
 ],
 "metadata": {
  "kernelspec": {
   "display_name": "Python 3",
   "language": "python",
   "name": "python3"
  },
  "language_info": {
   "codemirror_mode": {
    "name": "ipython",
    "version": 3
   },
   "file_extension": ".py",
   "mimetype": "text/x-python",
   "name": "python",
   "nbconvert_exporter": "python",
   "pygments_lexer": "ipython3",
   "version": "3.6.1"
  }
 },
 "nbformat": 4,
 "nbformat_minor": 2
}
