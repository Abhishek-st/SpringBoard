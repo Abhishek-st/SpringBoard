{
 "cells": [
  {
   "cell_type": "markdown",
   "metadata": {},
   "source": [
    "# Examining Racial Discrimination in the US Job Market\n",
    "\n",
    "### Background\n",
    "Racial discrimination continues to be pervasive in cultures throughout the world. Researchers examined the level of racial discrimination in the United States labor market by randomly assigning identical résumés to black-sounding or white-sounding names and observing the impact on requests for interviews from employers.\n",
    "\n",
    "### Data\n",
    "In the dataset provided, each row represents a resume. The 'race' column has two values, 'b' and 'w', indicating black-sounding and white-sounding. The column 'call' has two values, 1 and 0, indicating whether the resume received a call from employers or not.\n",
    "\n",
    "Note that the 'b' and 'w' values in race are assigned randomly to the resumes when presented to the employer."
   ]
  },
  {
   "cell_type": "markdown",
   "metadata": {},
   "source": [
    "<div class=\"span5 alert alert-info\">\n",
    "### Exercises\n",
    "You will perform a statistical analysis to establish whether race has a significant impact on the rate of callbacks for resumes.\n",
    "\n",
    "Answer the following questions **in this notebook below and submit to your Github account**. \n",
    "\n",
    "   1. What test is appropriate for this problem? Does CLT apply?\n",
    "   2. What are the null and alternate hypotheses?\n",
    "   3. Compute margin of error, confidence interval, and p-value. Try using both the bootstrapping and the frequentist statistical approaches.\n",
    "   4. Write a story describing the statistical significance in the context or the original problem.\n",
    "   5. Does your analysis mean that race/name is the most important factor in callback success? Why or why not? If not, how would you amend your analysis?\n",
    "\n",
    "You can include written notes in notebook cells using Markdown: \n",
    "   - In the control panel at the top, choose Cell > Cell Type > Markdown\n",
    "   - Markdown syntax: http://nestacms.com/docs/creating-content/markdown-cheat-sheet\n",
    "\n",
    "\n",
    "#### Resources\n",
    "+ Experiment information and data source: http://www.povertyactionlab.org/evaluation/discrimination-job-market-united-states\n",
    "+ Scipy statistical methods: http://docs.scipy.org/doc/scipy/reference/stats.html \n",
    "+ Markdown syntax: http://nestacms.com/docs/creating-content/markdown-cheat-sheet\n",
    "+ Formulas for the Bernoulli distribution: https://en.wikipedia.org/wiki/Bernoulli_distribution\n",
    "</div>\n",
    "****"
   ]
  },
  {
   "cell_type": "code",
   "execution_count": 1,
   "metadata": {},
   "outputs": [],
   "source": [
    "import pandas as pd\n",
    "import numpy as np\n",
    "from scipy import stats"
   ]
  },
  {
   "cell_type": "code",
   "execution_count": 4,
   "metadata": {},
   "outputs": [],
   "source": [
    "data = pd.io.stata.read_stata('data/us_job_market_discrimination.dta')"
   ]
  },
  {
   "cell_type": "code",
   "execution_count": 5,
   "metadata": {},
   "outputs": [
    {
     "data": {
      "text/plain": [
       "235.0"
      ]
     },
     "execution_count": 5,
     "metadata": {},
     "output_type": "execute_result"
    }
   ],
   "source": [
    "# number of callbacks for black-sounding names\n",
    "sum(data[data.race=='w'].call)"
   ]
  },
  {
   "cell_type": "code",
   "execution_count": 7,
   "metadata": {},
   "outputs": [
    {
     "data": {
      "text/html": [
       "<div>\n",
       "<style scoped>\n",
       "    .dataframe tbody tr th:only-of-type {\n",
       "        vertical-align: middle;\n",
       "    }\n",
       "\n",
       "    .dataframe tbody tr th {\n",
       "        vertical-align: top;\n",
       "    }\n",
       "\n",
       "    .dataframe thead th {\n",
       "        text-align: right;\n",
       "    }\n",
       "</style>\n",
       "<table border=\"1\" class=\"dataframe\">\n",
       "  <thead>\n",
       "    <tr style=\"text-align: right;\">\n",
       "      <th></th>\n",
       "      <th>call</th>\n",
       "      <th>race</th>\n",
       "    </tr>\n",
       "  </thead>\n",
       "  <tbody>\n",
       "    <tr>\n",
       "      <th>0</th>\n",
       "      <td>0.0</td>\n",
       "      <td>w</td>\n",
       "    </tr>\n",
       "    <tr>\n",
       "      <th>1</th>\n",
       "      <td>0.0</td>\n",
       "      <td>w</td>\n",
       "    </tr>\n",
       "    <tr>\n",
       "      <th>2</th>\n",
       "      <td>0.0</td>\n",
       "      <td>b</td>\n",
       "    </tr>\n",
       "    <tr>\n",
       "      <th>3</th>\n",
       "      <td>0.0</td>\n",
       "      <td>b</td>\n",
       "    </tr>\n",
       "    <tr>\n",
       "      <th>4</th>\n",
       "      <td>0.0</td>\n",
       "      <td>w</td>\n",
       "    </tr>\n",
       "  </tbody>\n",
       "</table>\n",
       "</div>"
      ],
      "text/plain": [
       "   call race\n",
       "0   0.0    w\n",
       "1   0.0    w\n",
       "2   0.0    b\n",
       "3   0.0    b\n",
       "4   0.0    w"
      ]
     },
     "execution_count": 7,
     "metadata": {},
     "output_type": "execute_result"
    }
   ],
   "source": [
    "data[['call', 'race']].head()"
   ]
  },
  {
   "cell_type": "markdown",
   "metadata": {},
   "source": [
    "<div class=\"span5 alert alert-success\">\n",
    "<p>Your answers to Q1 and Q2 here</p>\n",
    "</div>"
   ]
  },
  {
   "cell_type": "markdown",
   "metadata": {},
   "source": [
    "**1. Answer**: The appropriate test for this problem is the check if the probability of getting call back is the significantly different between black and white sounding name. CLT is applied to it because the observations are independent random variables.\n",
    "\n",
    "**2. Answer**: \n",
    "* Null hypothesis: The mean acceptance between white and black sounding name is not significantly different.\n",
    "* Alternate hypothesis: The mean acceptance between white and black sounding name is significantly different.\n",
    "              "
   ]
  },
  {
   "cell_type": "code",
   "execution_count": 140,
   "metadata": {},
   "outputs": [],
   "source": [
    "w = np.array(data.call[data.race=='w'].values.tolist())\n",
    "b = np.array(data.call[data.race=='b'].values.tolist())"
   ]
  },
  {
   "cell_type": "code",
   "execution_count": 172,
   "metadata": {},
   "outputs": [
    {
     "name": "stdout",
     "output_type": "stream",
     "text": [
      "################# boot straping method ###################### \n",
      " \n",
      "The mean difference between black and white sounding name is 0.02\n",
      "The margin of error is 0.0208%.\n",
      "The confidence interval for the difference is 0.030 for upper and 0.001 for lower.\n",
      "p-value for the null hypothesis is 0.0149. \n",
      "\n",
      "################# frequentionist method ###################### \n",
      " \n",
      "The mean difference between black and white sounding name probability is 0.03\n",
      "The margin of error is 0.0219%.\n",
      "The confidence interval for the difference is 0.047 for upper and 0.017 for lower.\n",
      "p-value for the null hypothesis is 0.0000. \n",
      "\n"
     ]
    }
   ],
   "source": [
    "print('################# boot straping method ###################### \\n ')\n",
    "# prove that the prob of hired difference is 0\n",
    "\n",
    "np.random.seed(42)\n",
    "rounds = 1000\n",
    "w_bs = np.empty(rounds)\n",
    "b_bs = np.empty(rounds)\n",
    "\n",
    "for i in range(rounds):\n",
    "    w_bs[i] = np.sum(np.random.choice(w, size=500, replace=False))\n",
    "    b_bs[i] = np.sum(np.random.choice(b, size=500, replace=False))\n",
    "\n",
    "\n",
    "diff = (w_bs - b_bs)/rounds\n",
    "diff_mean = (w_bs.mean() - b_bs.mean())/rounds\n",
    "diff_std = (np.sqrt(w_bs.std()**2 + b_bs.std()**2))/rounds\n",
    "diff_CIup = np.percentile(diff, 97.5)\n",
    "diff_CIlow = np.percentile(diff, 2.5)\n",
    "\n",
    "\n",
    "z_scores = (0 - diff_mean)/diff_std\n",
    "p_value_bs = stats.norm.sf(abs(z_scores))\n",
    "\n",
    "z95 = 1.96\n",
    "margin_bs = z95 * diff_std/np.sqrt(len(data))*100\n",
    "\n",
    "print('The mean difference between black and white sounding name is {:.2f}'.format(diff_mean))\n",
    "print('The margin of error is {:.4f}%.'.format(margin_bs))\n",
    "print('The confidence interval for the difference is {:.3f} for upper and {:.3f} for lower.'.format(diff_CIup, diff_CIlow))\n",
    "print('p-value for the null hypothesis is {:.4f}. \\n'.format(p_value_bs))\n",
    "\n",
    "\n",
    "print('################# frequentionist method ###################### \\n ')\n",
    "# prove that the probability is the same (the difference in probability is zero)\n",
    "\n",
    "w_prob_mean = np.sum(w)/len(w)\n",
    "b_prob_mean = np.sum(b)/len(b)\n",
    "w_std = np.sqrt(w_prob*(1-w_prob)/len(w))\n",
    "b_std = np.sqrt(b_prob*(1-b_prob)/len(b))\n",
    "\n",
    "diff_mean = w_prob_mean - b_prob_mean\n",
    "diff_std = np.sqrt(w_std**2 + b_std**2)\n",
    "\n",
    "z95 = 1.96\n",
    "upper_fs = diff_mean + z95*diff_std\n",
    "lower_fs = diff_mean - z95*diff_std\n",
    "\n",
    "z_scores = (0 - diff_mean)/diff_std\n",
    "p_value_fs = stats.norm.sf(abs(z_scores))\n",
    "\n",
    "margin_fs = z95 * diff_std/np.sqrt(len(data))*100\n",
    "\n",
    "print('The mean difference between black and white sounding name probability is {:.2f}'.format(diff_mean))\n",
    "print('The margin of error is {:.4f}%.'.format(margin_fs))\n",
    "print('The confidence interval for the difference is {:.3f} for upper and {:.3f} for lower.'.format(upper_fs, lower_fs))\n",
    "print('p-value for the null hypothesis is {:.4f}. \\n'.format(p_value_fs))"
   ]
  },
  {
   "cell_type": "code",
   "execution_count": 7,
   "metadata": {},
   "outputs": [],
   "source": [
    "# Your solution to Q3 here"
   ]
  },
  {
   "cell_type": "markdown",
   "metadata": {},
   "source": [
    "<div class=\"span5 alert alert-success\">\n",
    "<p> Your answers to Q4 and Q5 here </p>\n",
    "</div>"
   ]
  },
  {
   "cell_type": "markdown",
   "metadata": {},
   "source": [
    "Write a story describing the statistical significance in the context or the original problem.\n",
    "Does your analysis mean that race/name is the most important factor in callback success? Why or why not? If not, how would you amend your analysis?\n",
    "\n",
    "**4. Answer**: Both of the statistical test from bootstrapping and frequentionist methods are very low (p<0.05), suggesting that the null hypothesis is rejected, i.e. the difference in the acceptance rate of white-sounding name is in fact significantly higher than the acceptance rate of black-sounding name.\n",
    "\n",
    "**5. Answer**: No, not necessarily. There could be other factors that related to the call, such as education levels, ages, industries, and genders. To amend my analysis, we have to perform multivariate analysis to see how strongly correlated calls are to each of these variables."
   ]
  }
 ],
 "metadata": {
  "kernelspec": {
   "display_name": "Python 3",
   "language": "python",
   "name": "python3"
  },
  "language_info": {
   "codemirror_mode": {
    "name": "ipython",
    "version": 3
   },
   "file_extension": ".py",
   "mimetype": "text/x-python",
   "name": "python",
   "nbconvert_exporter": "python",
   "pygments_lexer": "ipython3",
   "version": "3.6.1"
  }
 },
 "nbformat": 4,
 "nbformat_minor": 2
}
