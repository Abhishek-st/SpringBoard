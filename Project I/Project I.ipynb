{
 "cells": [
  {
   "cell_type": "code",
   "execution_count": 1,
   "metadata": {
    "collapsed": true
   },
   "outputs": [],
   "source": [
    "import pandas as pd\n",
    "import numpy as np\n",
    "import matplotlib.pyplot as plt\n",
    "from tqdm import tqdm_notebook, tqdm\n",
    "import glob, os    \n",
    "import plotly.plotly as py\n",
    "import plotly.graph_objs as go\n",
    "import plotly.figure_factory as ff\n",
    "import plotly\n",
    "import addfips\n",
    "plotly.tools.set_credentials_file(username='tpjoe33', api_key='rc1Ncjms567YGfGS9VlU')\n",
    "\n",
    "states = [\"AL\", \"AK\", \"AZ\", \"AR\", \"CA\", \"CO\", \"CT\", \"DC\", \"DE\", \"FL\", \"GA\", \n",
    "          \"HI\", \"ID\", \"IL\", \"IN\", \"IA\", \"KS\", \"KY\", \"LA\", \"ME\", \"MD\", \n",
    "          \"MA\", \"MI\", \"MN\", \"MS\", \"MO\", \"MT\", \"NE\", \"NV\", \"NH\", \"NJ\", \n",
    "          \"NM\", \"NY\", \"NC\", \"ND\", \"OH\", \"OK\", \"OR\", \"PA\", \"RI\", \"SC\", \n",
    "          \"SD\", \"TN\", \"TX\", \"UT\", \"VT\", \"VA\", \"WA\", \"WV\", \"WI\", \"WY\"]"
   ]
  },
  {
   "cell_type": "code",
   "execution_count": 50,
   "metadata": {},
   "outputs": [
    {
     "name": "stdout",
     "output_type": "stream",
     "text": [
      "The data has a size of (2413136, 9)\n"
     ]
    }
   ],
   "source": [
    "# importing data\n",
    "part_d_exp_df = pd.concat(map(pd.read_csv, glob.glob(os.path.join('Data/cms_medicare_test/', \\\n",
    "                                                              \"part_d_prescriber_2014000000000000.csv\"))))\n",
    "exclusion_df = pd.read_csv('Data/Exclusion_list.csv', low_memory=False)\n",
    "\n",
    "part_d_exp_df = part_d_exp_df[['npi', 'nppes_provider_city','nppes_provider_state', 'specialty_description', 'description_flag',\\\n",
    "                        'drug_name', 'generic_name', 'bene_count', 'total_claim_count','total_day_supply', \\\n",
    "                        'total_drug_cost', 'bene_count_ge65', 'total_claim_count_ge65', 'total_day_supply_ge65',\\\n",
    "                        'total_drug_cost_ge65']]\n",
    "\n",
    "# assigning exclusion (False = 0, True = 1)\n",
    "exclusion_npi = exclusion_df['NPI'][exclusion_df['NPI'] != 0].values.tolist()\n",
    "part_d_exp_df['is_excluded'] = 0\n",
    "num_excluded = len(part_d_exp_df.loc[part_d_exp_df['npi'].isin(exclusion_npi)])\n",
    "part_d_exp_df.loc[part_d_exp_df['npi'].isin(exclusion_npi), 'is_excluded'] = 1\n",
    "\n",
    "# separating dataset for training models and for data exploration\n",
    "part_d_df = part_d_exp_df[['npi', 'nppes_provider_city', 'nppes_provider_state', 'specialty_description', \\\n",
    "                      'drug_name', 'total_claim_count', 'total_day_supply', 'total_drug_cost', 'is_excluded']]\n",
    "part_d_exp_df = part_d_exp_df[part_d_df['nppes_provider_state'].isin(states)]\n",
    "\n",
    "print(\"The data has a size of {}\".format(part_d_df.shape))"
   ]
  },
  {
   "cell_type": "markdown",
   "metadata": {},
   "source": [
    "# Medicare Data Exploration"
   ]
  },
  {
   "cell_type": "code",
   "execution_count": 3,
   "metadata": {
    "collapsed": true
   },
   "outputs": [],
   "source": [
    "tqdm.pandas()\n",
    "county_ref = pd.read_csv('Data/uscitiesv1.4.csv')\n",
    "county_ref['city'] = county_ref['city'].apply(str.upper)\n",
    "def get_fip(city, state):\n",
    "    #if all(x in county_ref[['city', 'state']].values for x in [city, state]):\n",
    "    try:\n",
    "        county = county_ref[(county_ref['city'] == city.upper()) &\\\n",
    "                            (county_ref['state_id'] == state.upper())]['county_fips'].values[0]\n",
    "    except IndexError:\n",
    "        county = None\n",
    "    return county\n",
    "        \n",
    "#part_d_exp_df['county'] = part_d_exp_df.progress_apply(lambda x: find_county(x['nppes_provider_city'], \\\n",
    "#                                                                    x['nppes_provider_state']), axis=1)"
   ]
  },
  {
   "cell_type": "code",
   "execution_count": 4,
   "metadata": {
    "collapsed": true
   },
   "outputs": [],
   "source": [
    "# Dataprocessing\n",
    "part_d_exp_df['cost_per_bene'] = part_d_exp_df['total_drug_cost']/part_d_exp_df['bene_count']\n",
    "part_d_df_city_mean = part_d_exp_df.groupby(['nppes_provider_state', 'nppes_provider_city']).mean()\n",
    "part_d_df_city_mean = part_d_df_city_mean.reset_index()\n",
    "part_d_df_city_mean['fip'] = part_d_df_city_mean.apply(lambda x: get_fip(x['nppes_provider_city'], \\\n",
    "                                                                         x['nppes_provider_state']), axis=1)\n",
    "\n",
    "part_d_df_state_sum = part_d_exp_df.groupby(['nppes_provider_state']).sum()\n",
    "part_d_df_state_sum = part_d_df_state_sum.reset_index()"
   ]
  },
  {
   "cell_type": "code",
   "execution_count": 5,
   "metadata": {},
   "outputs": [
    {
     "data": {
      "text/html": [
       "<div>\n",
       "<style>\n",
       "    .dataframe thead tr:only-child th {\n",
       "        text-align: right;\n",
       "    }\n",
       "\n",
       "    .dataframe thead th {\n",
       "        text-align: left;\n",
       "    }\n",
       "\n",
       "    .dataframe tbody tr th {\n",
       "        vertical-align: top;\n",
       "    }\n",
       "</style>\n",
       "<table border=\"1\" class=\"dataframe\">\n",
       "  <thead>\n",
       "    <tr style=\"text-align: right;\">\n",
       "      <th></th>\n",
       "      <th>npi</th>\n",
       "      <th>nppes_provider_city</th>\n",
       "      <th>nppes_provider_state</th>\n",
       "      <th>specialty_description</th>\n",
       "      <th>description_flag</th>\n",
       "      <th>drug_name</th>\n",
       "      <th>generic_name</th>\n",
       "      <th>bene_count</th>\n",
       "      <th>total_claim_count</th>\n",
       "      <th>total_day_supply</th>\n",
       "      <th>total_drug_cost</th>\n",
       "      <th>bene_count_ge65</th>\n",
       "      <th>total_claim_count_ge65</th>\n",
       "      <th>total_day_supply_ge65</th>\n",
       "      <th>total_drug_cost_ge65</th>\n",
       "      <th>is_excluded</th>\n",
       "      <th>cost_per_bene</th>\n",
       "    </tr>\n",
       "  </thead>\n",
       "  <tbody>\n",
       "    <tr>\n",
       "      <th>0</th>\n",
       "      <td>1205995735</td>\n",
       "      <td>GRAND RAPIDS</td>\n",
       "      <td>MI</td>\n",
       "      <td>Psychiatry</td>\n",
       "      <td>S</td>\n",
       "      <td>RISPERIDONE</td>\n",
       "      <td>RISPERIDONE</td>\n",
       "      <td>34.0</td>\n",
       "      <td>448</td>\n",
       "      <td>12858</td>\n",
       "      <td>5699.76</td>\n",
       "      <td>NaN</td>\n",
       "      <td>47.0</td>\n",
       "      <td>1328.0</td>\n",
       "      <td>514.74</td>\n",
       "      <td>0</td>\n",
       "      <td>167.640000</td>\n",
       "    </tr>\n",
       "    <tr>\n",
       "      <th>1</th>\n",
       "      <td>1073887618</td>\n",
       "      <td>NEW KENSINGTON</td>\n",
       "      <td>PA</td>\n",
       "      <td>Nurse Practitioner</td>\n",
       "      <td>S</td>\n",
       "      <td>METOPROLOL TARTRATE</td>\n",
       "      <td>METOPROLOL TARTRATE</td>\n",
       "      <td>16.0</td>\n",
       "      <td>73</td>\n",
       "      <td>3307</td>\n",
       "      <td>501.37</td>\n",
       "      <td>NaN</td>\n",
       "      <td>62.0</td>\n",
       "      <td>2797.0</td>\n",
       "      <td>443.34</td>\n",
       "      <td>0</td>\n",
       "      <td>31.335625</td>\n",
       "    </tr>\n",
       "    <tr>\n",
       "      <th>2</th>\n",
       "      <td>1114960846</td>\n",
       "      <td>CHESTER</td>\n",
       "      <td>VA</td>\n",
       "      <td>Internal Medicine</td>\n",
       "      <td>S</td>\n",
       "      <td>GABAPENTIN</td>\n",
       "      <td>GABAPENTIN</td>\n",
       "      <td>30.0</td>\n",
       "      <td>166</td>\n",
       "      <td>5794</td>\n",
       "      <td>3628.69</td>\n",
       "      <td>NaN</td>\n",
       "      <td>139.0</td>\n",
       "      <td>4804.0</td>\n",
       "      <td>2963.24</td>\n",
       "      <td>0</td>\n",
       "      <td>120.956333</td>\n",
       "    </tr>\n",
       "    <tr>\n",
       "      <th>3</th>\n",
       "      <td>1801991666</td>\n",
       "      <td>GREAT NECK</td>\n",
       "      <td>NY</td>\n",
       "      <td>Internal Medicine</td>\n",
       "      <td>S</td>\n",
       "      <td>ZOLPIDEM TARTRATE</td>\n",
       "      <td>ZOLPIDEM TARTRATE</td>\n",
       "      <td>15.0</td>\n",
       "      <td>87</td>\n",
       "      <td>2610</td>\n",
       "      <td>646.41</td>\n",
       "      <td>15.0</td>\n",
       "      <td>87.0</td>\n",
       "      <td>2610.0</td>\n",
       "      <td>646.41</td>\n",
       "      <td>0</td>\n",
       "      <td>43.094000</td>\n",
       "    </tr>\n",
       "    <tr>\n",
       "      <th>4</th>\n",
       "      <td>1811907694</td>\n",
       "      <td>MARSHFIELD</td>\n",
       "      <td>WI</td>\n",
       "      <td>Internal Medicine</td>\n",
       "      <td>S</td>\n",
       "      <td>LEVOTHYROXINE SODIUM</td>\n",
       "      <td>LEVOTHYROXINE SODIUM</td>\n",
       "      <td>27.0</td>\n",
       "      <td>124</td>\n",
       "      <td>8261</td>\n",
       "      <td>2708.21</td>\n",
       "      <td>NaN</td>\n",
       "      <td>94.0</td>\n",
       "      <td>7248.0</td>\n",
       "      <td>2270.92</td>\n",
       "      <td>0</td>\n",
       "      <td>100.304074</td>\n",
       "    </tr>\n",
       "  </tbody>\n",
       "</table>\n",
       "</div>"
      ],
      "text/plain": [
       "          npi nppes_provider_city nppes_provider_state specialty_description  \\\n",
       "0  1205995735        GRAND RAPIDS                   MI            Psychiatry   \n",
       "1  1073887618      NEW KENSINGTON                   PA    Nurse Practitioner   \n",
       "2  1114960846             CHESTER                   VA     Internal Medicine   \n",
       "3  1801991666          GREAT NECK                   NY     Internal Medicine   \n",
       "4  1811907694          MARSHFIELD                   WI     Internal Medicine   \n",
       "\n",
       "  description_flag             drug_name          generic_name  bene_count  \\\n",
       "0                S           RISPERIDONE           RISPERIDONE        34.0   \n",
       "1                S   METOPROLOL TARTRATE   METOPROLOL TARTRATE        16.0   \n",
       "2                S            GABAPENTIN            GABAPENTIN        30.0   \n",
       "3                S     ZOLPIDEM TARTRATE     ZOLPIDEM TARTRATE        15.0   \n",
       "4                S  LEVOTHYROXINE SODIUM  LEVOTHYROXINE SODIUM        27.0   \n",
       "\n",
       "   total_claim_count  total_day_supply  total_drug_cost  bene_count_ge65  \\\n",
       "0                448             12858          5699.76              NaN   \n",
       "1                 73              3307           501.37              NaN   \n",
       "2                166              5794          3628.69              NaN   \n",
       "3                 87              2610           646.41             15.0   \n",
       "4                124              8261          2708.21              NaN   \n",
       "\n",
       "   total_claim_count_ge65  total_day_supply_ge65  total_drug_cost_ge65  \\\n",
       "0                    47.0                 1328.0                514.74   \n",
       "1                    62.0                 2797.0                443.34   \n",
       "2                   139.0                 4804.0               2963.24   \n",
       "3                    87.0                 2610.0                646.41   \n",
       "4                    94.0                 7248.0               2270.92   \n",
       "\n",
       "   is_excluded  cost_per_bene  \n",
       "0            0     167.640000  \n",
       "1            0      31.335625  \n",
       "2            0     120.956333  \n",
       "3            0      43.094000  \n",
       "4            0     100.304074  "
      ]
     },
     "execution_count": 5,
     "metadata": {},
     "output_type": "execute_result"
    }
   ],
   "source": [
    "part_d_exp_df.head()"
   ]
  },
  {
   "cell_type": "code",
   "execution_count": 6,
   "metadata": {},
   "outputs": [
    {
     "data": {
      "text/html": [
       "<div>\n",
       "<style>\n",
       "    .dataframe thead tr:only-child th {\n",
       "        text-align: right;\n",
       "    }\n",
       "\n",
       "    .dataframe thead th {\n",
       "        text-align: left;\n",
       "    }\n",
       "\n",
       "    .dataframe tbody tr th {\n",
       "        vertical-align: top;\n",
       "    }\n",
       "</style>\n",
       "<table border=\"1\" class=\"dataframe\">\n",
       "  <thead>\n",
       "    <tr style=\"text-align: right;\">\n",
       "      <th></th>\n",
       "      <th>npi</th>\n",
       "      <th>bene_count</th>\n",
       "      <th>total_claim_count</th>\n",
       "      <th>total_day_supply</th>\n",
       "      <th>total_drug_cost</th>\n",
       "      <th>bene_count_ge65</th>\n",
       "      <th>total_claim_count_ge65</th>\n",
       "      <th>total_day_supply_ge65</th>\n",
       "      <th>total_drug_cost_ge65</th>\n",
       "      <th>is_excluded</th>\n",
       "      <th>cost_per_bene</th>\n",
       "    </tr>\n",
       "    <tr>\n",
       "      <th>drug_name</th>\n",
       "      <th></th>\n",
       "      <th></th>\n",
       "      <th></th>\n",
       "      <th></th>\n",
       "      <th></th>\n",
       "      <th></th>\n",
       "      <th></th>\n",
       "      <th></th>\n",
       "      <th></th>\n",
       "      <th></th>\n",
       "      <th></th>\n",
       "    </tr>\n",
       "  </thead>\n",
       "  <tbody>\n",
       "    <tr>\n",
       "      <th>SOVALDI</th>\n",
       "      <td>334919957399</td>\n",
       "      <td>1744.0</td>\n",
       "      <td>8947</td>\n",
       "      <td>249392</td>\n",
       "      <td>2.532243e+08</td>\n",
       "      <td>373.0</td>\n",
       "      <td>2285.0</td>\n",
       "      <td>63224.0</td>\n",
       "      <td>6.431152e+07</td>\n",
       "      <td>0</td>\n",
       "      <td>6.164863e+06</td>\n",
       "    </tr>\n",
       "    <tr>\n",
       "      <th>NEXIUM</th>\n",
       "      <td>20643133237590</td>\n",
       "      <td>96911.0</td>\n",
       "      <td>693992</td>\n",
       "      <td>28212624</td>\n",
       "      <td>2.413137e+08</td>\n",
       "      <td>18694.0</td>\n",
       "      <td>362646.0</td>\n",
       "      <td>14733077.0</td>\n",
       "      <td>1.242874e+08</td>\n",
       "      <td>22</td>\n",
       "      <td>7.431418e+06</td>\n",
       "    </tr>\n",
       "    <tr>\n",
       "      <th>CRESTOR</th>\n",
       "      <td>22195583799450</td>\n",
       "      <td>142719.0</td>\n",
       "      <td>861895</td>\n",
       "      <td>40808969</td>\n",
       "      <td>2.410965e+08</td>\n",
       "      <td>33982.0</td>\n",
       "      <td>497310.0</td>\n",
       "      <td>23455272.0</td>\n",
       "      <td>1.382428e+08</td>\n",
       "      <td>13</td>\n",
       "      <td>7.821321e+06</td>\n",
       "    </tr>\n",
       "    <tr>\n",
       "      <th>ABILIFY</th>\n",
       "      <td>7685299452402</td>\n",
       "      <td>27644.0</td>\n",
       "      <td>256894</td>\n",
       "      <td>7317136</td>\n",
       "      <td>2.143192e+08</td>\n",
       "      <td>1748.0</td>\n",
       "      <td>66052.0</td>\n",
       "      <td>1653967.0</td>\n",
       "      <td>4.558757e+07</td>\n",
       "      <td>17</td>\n",
       "      <td>5.803229e+06</td>\n",
       "    </tr>\n",
       "    <tr>\n",
       "      <th>ADVAIR DISKUS</th>\n",
       "      <td>19394148475384</td>\n",
       "      <td>92656.0</td>\n",
       "      <td>550078</td>\n",
       "      <td>20822146</td>\n",
       "      <td>2.053751e+08</td>\n",
       "      <td>19869.0</td>\n",
       "      <td>277713.0</td>\n",
       "      <td>10639781.0</td>\n",
       "      <td>1.040722e+08</td>\n",
       "      <td>22</td>\n",
       "      <td>6.215206e+06</td>\n",
       "    </tr>\n",
       "    <tr>\n",
       "      <th>SPIRIVA</th>\n",
       "      <td>17627033220212</td>\n",
       "      <td>78401.0</td>\n",
       "      <td>529699</td>\n",
       "      <td>20333899</td>\n",
       "      <td>1.943659e+08</td>\n",
       "      <td>18825.0</td>\n",
       "      <td>290781.0</td>\n",
       "      <td>11269220.0</td>\n",
       "      <td>1.075553e+08</td>\n",
       "      <td>20</td>\n",
       "      <td>5.211132e+06</td>\n",
       "    </tr>\n",
       "    <tr>\n",
       "      <th>LANTUS SOLOSTAR</th>\n",
       "      <td>14747544327646</td>\n",
       "      <td>58863.0</td>\n",
       "      <td>391425</td>\n",
       "      <td>16973288</td>\n",
       "      <td>1.772395e+08</td>\n",
       "      <td>11568.0</td>\n",
       "      <td>187527.0</td>\n",
       "      <td>8367729.0</td>\n",
       "      <td>8.277701e+07</td>\n",
       "      <td>17</td>\n",
       "      <td>5.049731e+06</td>\n",
       "    </tr>\n",
       "    <tr>\n",
       "      <th>JANUVIA</th>\n",
       "      <td>14347810129652</td>\n",
       "      <td>42482.0</td>\n",
       "      <td>407903</td>\n",
       "      <td>16318909</td>\n",
       "      <td>1.584337e+08</td>\n",
       "      <td>8702.0</td>\n",
       "      <td>239966.0</td>\n",
       "      <td>9517328.0</td>\n",
       "      <td>9.231197e+07</td>\n",
       "      <td>22</td>\n",
       "      <td>4.441434e+06</td>\n",
       "    </tr>\n",
       "    <tr>\n",
       "      <th>REVLIMID</th>\n",
       "      <td>729743473436</td>\n",
       "      <td>846.0</td>\n",
       "      <td>16026</td>\n",
       "      <td>421666</td>\n",
       "      <td>1.502614e+08</td>\n",
       "      <td>361.0</td>\n",
       "      <td>10735.0</td>\n",
       "      <td>283501.0</td>\n",
       "      <td>1.002989e+08</td>\n",
       "      <td>0</td>\n",
       "      <td>1.826141e+06</td>\n",
       "    </tr>\n",
       "    <tr>\n",
       "      <th>LANTUS</th>\n",
       "      <td>13893185582575</td>\n",
       "      <td>38084.0</td>\n",
       "      <td>362508</td>\n",
       "      <td>12101977</td>\n",
       "      <td>1.442545e+08</td>\n",
       "      <td>5565.0</td>\n",
       "      <td>181000.0</td>\n",
       "      <td>5979072.0</td>\n",
       "      <td>6.841878e+07</td>\n",
       "      <td>11</td>\n",
       "      <td>3.659528e+06</td>\n",
       "    </tr>\n",
       "  </tbody>\n",
       "</table>\n",
       "</div>"
      ],
      "text/plain": [
       "                            npi  bene_count  total_claim_count  \\\n",
       "drug_name                                                        \n",
       "SOVALDI            334919957399      1744.0               8947   \n",
       "NEXIUM           20643133237590     96911.0             693992   \n",
       "CRESTOR          22195583799450    142719.0             861895   \n",
       "ABILIFY           7685299452402     27644.0             256894   \n",
       "ADVAIR DISKUS    19394148475384     92656.0             550078   \n",
       "SPIRIVA          17627033220212     78401.0             529699   \n",
       "LANTUS SOLOSTAR  14747544327646     58863.0             391425   \n",
       "JANUVIA          14347810129652     42482.0             407903   \n",
       "REVLIMID           729743473436       846.0              16026   \n",
       "LANTUS           13893185582575     38084.0             362508   \n",
       "\n",
       "                 total_day_supply  total_drug_cost  bene_count_ge65  \\\n",
       "drug_name                                                             \n",
       "SOVALDI                    249392     2.532243e+08            373.0   \n",
       "NEXIUM                   28212624     2.413137e+08          18694.0   \n",
       "CRESTOR                  40808969     2.410965e+08          33982.0   \n",
       "ABILIFY                   7317136     2.143192e+08           1748.0   \n",
       "ADVAIR DISKUS            20822146     2.053751e+08          19869.0   \n",
       "SPIRIVA                  20333899     1.943659e+08          18825.0   \n",
       "LANTUS SOLOSTAR          16973288     1.772395e+08          11568.0   \n",
       "JANUVIA                  16318909     1.584337e+08           8702.0   \n",
       "REVLIMID                   421666     1.502614e+08            361.0   \n",
       "LANTUS                   12101977     1.442545e+08           5565.0   \n",
       "\n",
       "                 total_claim_count_ge65  total_day_supply_ge65  \\\n",
       "drug_name                                                        \n",
       "SOVALDI                          2285.0                63224.0   \n",
       "NEXIUM                         362646.0             14733077.0   \n",
       "CRESTOR                        497310.0             23455272.0   \n",
       "ABILIFY                         66052.0              1653967.0   \n",
       "ADVAIR DISKUS                  277713.0             10639781.0   \n",
       "SPIRIVA                        290781.0             11269220.0   \n",
       "LANTUS SOLOSTAR                187527.0              8367729.0   \n",
       "JANUVIA                        239966.0              9517328.0   \n",
       "REVLIMID                        10735.0               283501.0   \n",
       "LANTUS                         181000.0              5979072.0   \n",
       "\n",
       "                 total_drug_cost_ge65  is_excluded  cost_per_bene  \n",
       "drug_name                                                          \n",
       "SOVALDI                  6.431152e+07            0   6.164863e+06  \n",
       "NEXIUM                   1.242874e+08           22   7.431418e+06  \n",
       "CRESTOR                  1.382428e+08           13   7.821321e+06  \n",
       "ABILIFY                  4.558757e+07           17   5.803229e+06  \n",
       "ADVAIR DISKUS            1.040722e+08           22   6.215206e+06  \n",
       "SPIRIVA                  1.075553e+08           20   5.211132e+06  \n",
       "LANTUS SOLOSTAR          8.277701e+07           17   5.049731e+06  \n",
       "JANUVIA                  9.231197e+07           22   4.441434e+06  \n",
       "REVLIMID                 1.002989e+08            0   1.826141e+06  \n",
       "LANTUS                   6.841878e+07           11   3.659528e+06  "
      ]
     },
     "execution_count": 6,
     "metadata": {},
     "output_type": "execute_result"
    }
   ],
   "source": [
    "# Finding top selling drugs\n",
    "top_drug_price = part_d_exp_df.groupby('drug_name').sum().sort_values('total_drug_cost', ascending=False).iloc[0:10]\n",
    "top_drug_count = part_d_exp_df.groupby('drug_name').count().sort_values('total_drug_cost', ascending=False).iloc[0:10]\n",
    "top_drug_price.head(10)"
   ]
  },
  {
   "cell_type": "code",
   "execution_count": 10,
   "metadata": {
    "collapsed": true
   },
   "outputs": [],
   "source": [
    "trace_price = go.Bar(x=top_drug_price.index, y=top_drug_price['total_drug_cost'], name='by price', \n",
    "                     marker=dict(color='rgb(241,250,248)', line=dict(color='rgb(000,000,102)', width=1.5)),\n",
    "                     opacity = 0.8)\n",
    "                     \n",
    "trace_count = go.Bar(x=top_drug_count.index, y=top_drug_count['total_drug_cost'], name='by amount', \n",
    "                     marker=dict(color='rgb(241,250,248)', line=dict(color='rgb(13,129,106)', width=1.5)),\n",
    "                     opacity = 0.8)\n",
    "data = [trace_price, trace_count]\n",
    "\n",
    "updatemenus = list([\n",
    "    dict(\n",
    "        buttons=list([\n",
    "            dict(label = 'by price',\n",
    "                method = 'update',\n",
    "                args = [{'visible': [True, False]},\n",
    "                         {'title': 'Top 10 Drugs in Medicare (By Price)'}]),\n",
    "            dict(label = 'by amount',\n",
    "                method = 'update',\n",
    "                args = [{'visible': [False, True]},\n",
    "                        {'title': 'Top 10 Drugs in Medicare (By Amount)'}])\n",
    "        ]),\n",
    "        direction = 'down',\n",
    "        pad = {'r': 10, 't': 10},\n",
    "        showactive = True,\n",
    "        x = .8,\n",
    "        xanchor = 'left',\n",
    "        y = 1.1,\n",
    "        yanchor = 'top' )\n",
    "    \n",
    "])\n",
    "layout = dict(title='Top 10 Drugs in Medicare (By Price)', showlegend=False, \n",
    "              margin=go.Margin(l=50, r=100, b=120, t=10, pad=4),\n",
    "              updatemenus=updatemenus)\n",
    "\n",
    "fig = dict(data=data, layout=layout)\n",
    "#py.iplot(fig, filename='drug_dropdown')"
   ]
  },
  {
   "cell_type": "code",
   "execution_count": 9,
   "metadata": {
    "collapsed": true,
    "scrolled": true
   },
   "outputs": [],
   "source": [
    "trace1 = go.Box(\n",
    "    y=part_d_df_state_sum.bene_count_ge65/part_d_df_state_sum.bene_count*100,\n",
    "    name = 'By No. of Beneficiaries',\n",
    "    boxpoints='all',\n",
    "    jitter=0.3,\n",
    "    marker = dict(\n",
    "        color = 'rgb(102,204,255)'\n",
    "    ),\n",
    "    boxmean=True\n",
    ")\n",
    "\n",
    "trace2 = go.Box(\n",
    "    y=part_d_df_state_sum.total_claim_count_ge65/part_d_df_state_sum.total_claim_count*100,\n",
    "    name = 'By No. of Claims',\n",
    "    boxpoints='all',\n",
    "    jitter=0.3,\n",
    "    boxmean=True,\n",
    "    marker = dict(\n",
    "        color = 'rgb(051,153,255)'\n",
    "    )\n",
    ")\n",
    "\n",
    "trace3 = go.Box(\n",
    "    y=part_d_df_state_sum.total_drug_cost_ge65/part_d_df_state_sum.total_drug_cost*100,\n",
    "    name = 'By Cost of Claims',\n",
    "    boxpoints='all',\n",
    "    jitter=0.3,\n",
    "    boxmean=True,\n",
    "    marker = dict(\n",
    "        color='rgb(000,051,153)'\n",
    "    )\n",
    ")\n",
    "\n",
    "\n",
    "layout = go.Layout(\n",
    "    title='Medicare Precsription Used by Beneficiaries of 65+ Age',\n",
    "    width=500,\n",
    "    xaxis=dict(\n",
    "        autorange=True,\n",
    "        showgrid=False,\n",
    "        zeroline=False,\n",
    "        showline=False,\n",
    "        autotick=True,\n",
    "        ticks='',\n",
    "        showticklabels=False\n",
    "    ),\n",
    "    yaxis=dict(\n",
    "        title='Percentages (%)',\n",
    "        zeroline=False\n",
    "    ),\n",
    "    legend=dict(\n",
    "        orientation='h'\n",
    "    ),\n",
    ")\n",
    "\n",
    "data = [trace1, trace2, trace3]\n",
    "fig= go.Figure(data=data, layout=layout)\n",
    "#py.iplot(fig, filename='alcohol-box-plot')"
   ]
  },
  {
   "cell_type": "code",
   "execution_count": 8,
   "metadata": {
    "collapsed": true,
    "scrolled": true
   },
   "outputs": [],
   "source": [
    "part_d_df_city_mean_plt = part_d_df_city_mean[['fip', 'cost_per_bene']].dropna().groupby('fip').mean()\n",
    "\n",
    "colorscale = [\"#f7fbff\",\"#ebf3fb\",\"#deebf7\",\"#d2e3f3\",\"#c6dbef\",\"#b3d2e9\",\"#9ecae1\",\n",
    "              \"#85bcdb\",\"#6baed6\",\"#57a0ce\",\"#4292c6\",\"#3082be\",\"#2171b5\",\"#1361a9\",\n",
    "              \"#08519c\",\"#0b4083\",\"#08306b\"]\n",
    "endpts = list(np.linspace(1, part_d_df_city_mean_plt.describe(percentiles=[.90]).values[5], len(colorscale) - 1))\n",
    "\n",
    "fips = part_d_df_city_mean_plt.index.tolist()\n",
    "values = part_d_df_city_mean_plt['cost_per_bene'].tolist()\n",
    "\n",
    "fig = ff.create_choropleth(\n",
    "    fips=fips, values=values,\n",
    "    binning_endpoints=endpts,\n",
    "    colorscale=colorscale,\n",
    "    show_state_data=True,\n",
    "    show_hover=True, centroid_marker={'opacity': 0},\n",
    "    asp=3.2, title='Average Medicare Prescription Cost in the USA',\n",
    "    legend_title='Average Cost per Beneficiary'\n",
    ")\n",
    "#py.iplot(fig, filename='choropleth_medicare_cost')"
   ]
  },
  {
   "cell_type": "markdown",
   "metadata": {},
   "source": [
    "## Exploring Excluded Providers"
   ]
  },
  {
   "cell_type": "code",
   "execution_count": 7,
   "metadata": {
    "collapsed": true,
    "scrolled": false
   },
   "outputs": [],
   "source": [
    "# Top 10 drugs sold by excluded providers\n",
    "excluded_providers = part_d_exp_df.loc[part_d_exp_df['is_excluded'] == 1]\n",
    "excluded_drug_rank = excluded_providers.groupby('drug_name').sum().sort_values('total_drug_cost', ascending=False).iloc[0:10]\n",
    "\n",
    "# Plotting\n",
    "trace_ex_price = go.Bar(x=excluded_drug_rank.index, y=excluded_drug_rank['total_drug_cost'], name='by price', \n",
    "                     marker=dict(color='rgb(255,204,204)', line=dict(color='rgb(204,000,000)', width=1.5)),\n",
    "                     opacity = 0.8)  \n",
    "data = [trace_ex_price]\n",
    "layout = dict(title='Top 10 Drugs in Medicare Sold by Excluded Providers (By Price)', showlegend=False, \n",
    "              margin=go.Margin(l=50, r=100, b=120, t=50, pad=4))\n",
    "\n",
    "fig = dict(data=data, layout=layout)\n",
    "#py.iplot(fig, filename='drug_excluded')"
   ]
  },
  {
   "cell_type": "code",
   "execution_count": 11,
   "metadata": {
    "collapsed": true
   },
   "outputs": [],
   "source": [
    "# Assigning narcotics/opioid (False = 0, True = 1)\n",
    "excluded_drug_rank = excluded_providers.groupby('drug_name').sum().sort_values('total_drug_cost', ascending=False)\n",
    "common_narcotics = ['OXYCONTIN', 'OXYMORPHONE HCL ER', 'MORPHINE SULFATE ER', 'OXYCODONE HCL', 'OXYCODONE-ACETAMINOPHEN', \\\n",
    "                    'FENTORA', 'SUBSYS', 'HYDROCODONE-ACETAMINOPHEN', 'SUBOXONE', 'OPANA ER', 'HYDROCODONE-ACETAMINOPHEN']\n",
    "part_d_exp_df['is_narcotics'] = 0\n",
    "part_d_exp_df.loc[part_d_df['drug_name'].isin(common_narcotics), 'is_narcotics'] = 1"
   ]
  },
  {
   "cell_type": "code",
   "execution_count": 12,
   "metadata": {},
   "outputs": [
    {
     "data": {
      "text/html": [
       "<div>\n",
       "<style>\n",
       "    .dataframe thead tr:only-child th {\n",
       "        text-align: right;\n",
       "    }\n",
       "\n",
       "    .dataframe thead th {\n",
       "        text-align: left;\n",
       "    }\n",
       "\n",
       "    .dataframe tbody tr th {\n",
       "        vertical-align: top;\n",
       "    }\n",
       "</style>\n",
       "<table border=\"1\" class=\"dataframe\">\n",
       "  <thead>\n",
       "    <tr style=\"text-align: right;\">\n",
       "      <th></th>\n",
       "      <th></th>\n",
       "      <th>total_claim_count</th>\n",
       "      <th>total_drug_cost</th>\n",
       "      <th>total_day_supply</th>\n",
       "    </tr>\n",
       "    <tr>\n",
       "      <th>is_excluded</th>\n",
       "      <th>is_narcotics</th>\n",
       "      <th></th>\n",
       "      <th></th>\n",
       "      <th></th>\n",
       "    </tr>\n",
       "  </thead>\n",
       "  <tbody>\n",
       "    <tr>\n",
       "      <th rowspan=\"2\" valign=\"top\">0</th>\n",
       "      <th>0</th>\n",
       "      <td>49.894652</td>\n",
       "      <td>3889.242973</td>\n",
       "      <td>2042.019014</td>\n",
       "    </tr>\n",
       "    <tr>\n",
       "      <th>1</th>\n",
       "      <td>72.191577</td>\n",
       "      <td>4013.876055</td>\n",
       "      <td>1541.143612</td>\n",
       "    </tr>\n",
       "    <tr>\n",
       "      <th rowspan=\"2\" valign=\"top\">1</th>\n",
       "      <th>0</th>\n",
       "      <td>54.852388</td>\n",
       "      <td>3531.065271</td>\n",
       "      <td>1901.256151</td>\n",
       "    </tr>\n",
       "    <tr>\n",
       "      <th>1</th>\n",
       "      <td>200.796748</td>\n",
       "      <td>41208.777398</td>\n",
       "      <td>5495.056911</td>\n",
       "    </tr>\n",
       "  </tbody>\n",
       "</table>\n",
       "</div>"
      ],
      "text/plain": [
       "                          total_claim_count  total_drug_cost  total_day_supply\n",
       "is_excluded is_narcotics                                                      \n",
       "0           0                     49.894652      3889.242973       2042.019014\n",
       "            1                     72.191577      4013.876055       1541.143612\n",
       "1           0                     54.852388      3531.065271       1901.256151\n",
       "            1                    200.796748     41208.777398       5495.056911"
      ]
     },
     "execution_count": 12,
     "metadata": {},
     "output_type": "execute_result"
    }
   ],
   "source": [
    "# Exploring behavior of excluded providers\n",
    "behavior = part_d_exp_df[['total_claim_count', 'total_drug_cost', 'total_day_supply', \\\n",
    "               'is_excluded', 'is_narcotics']].groupby(['is_excluded', 'is_narcotics']).mean()\n",
    "behavior"
   ]
  },
  {
   "cell_type": "code",
   "execution_count": 13,
   "metadata": {
    "collapsed": true
   },
   "outputs": [],
   "source": [
    "data = [{'x': ['Non-excluded Providers', 'Non-excluded Providers ', \\\n",
    "            'Excluded Providers', 'Excluded Providers '],\n",
    "        'y': behavior['total_drug_cost'].values.tolist(),\n",
    "        'text': ['Average total amount per beneficiary: {0:.0f}'.format(i) \n",
    "                 for i in behavior['total_claim_count'].values.tolist()],\n",
    "        'mode': 'markers',\n",
    "        'marker': {\n",
    "            'color': ['rgb(051,153,255)', 'rgb(255,102,102)', 'rgb(000,051,153)', 'rgb(204,000,000)'],\n",
    "            'size': behavior['total_claim_count'].values.tolist(),\n",
    "            'showscale': False\n",
    "        }\n",
    "    }\n",
    "]\n",
    "\n",
    "annotations=[dict(x='Non-excluded Providers', y=10000, xref='x', yref='y', text='All Drugs', \\\n",
    "                  showarrow=True, arrowhead=7, ax=0, ay=-40),\n",
    "             dict(x='Non-excluded Providers ', y=12500, xref='x', yref='y', text='Narcotics', \\\n",
    "                  showarrow=True, arrowhead=7, ax=0, ay=-40),\n",
    "             dict(x='Excluded Providers', y=10500, xref='x', yref='y', text='All Drugs', \\\n",
    "                  showarrow=True, arrowhead=7, ax=0, ay=-40),\n",
    "             dict(x='Excluded Providers ', y=68000, xref='x', yref='y', text='Narcotics',\\\n",
    "                  showarrow=True, arrowhead=7, ax=0, ay=-40)]\n",
    "\n",
    "layout = dict(title='Medicare Prescription Cost and Amount by Excluded and Non-excluded Providers', showlegend=False, \n",
    "              annotations=annotations, margin=go.Margin(l=50, r=100, b=120, t=50, pad=4), \n",
    "              yaxis=dict(title='Average Cost Per Beneficiary ($)'))\n",
    "\n",
    "fig = dict(data=data, layout=layout)\n",
    "#py.iplot(fig, filename='provider-behavior')"
   ]
  },
  {
   "cell_type": "code",
   "execution_count": 135,
   "metadata": {},
   "outputs": [
    {
     "data": {
      "text/html": [
       "<div>\n",
       "<style>\n",
       "    .dataframe thead tr:only-child th {\n",
       "        text-align: right;\n",
       "    }\n",
       "\n",
       "    .dataframe thead th {\n",
       "        text-align: left;\n",
       "    }\n",
       "\n",
       "    .dataframe tbody tr th {\n",
       "        vertical-align: top;\n",
       "    }\n",
       "</style>\n",
       "<table border=\"1\" class=\"dataframe\">\n",
       "  <thead>\n",
       "    <tr style=\"text-align: right;\">\n",
       "      <th></th>\n",
       "      <th>nonexcluded</th>\n",
       "      <th>excluded</th>\n",
       "    </tr>\n",
       "  </thead>\n",
       "  <tbody>\n",
       "    <tr>\n",
       "      <th>Internal Medicine</th>\n",
       "      <td>28.505841</td>\n",
       "      <td>35.997764</td>\n",
       "    </tr>\n",
       "    <tr>\n",
       "      <th>Family Practice</th>\n",
       "      <td>29.878419</td>\n",
       "      <td>27.249860</td>\n",
       "    </tr>\n",
       "    <tr>\n",
       "      <th>General Practice</th>\n",
       "      <td>0.000000</td>\n",
       "      <td>6.847401</td>\n",
       "    </tr>\n",
       "    <tr>\n",
       "      <th>Psychiatry</th>\n",
       "      <td>0.000000</td>\n",
       "      <td>5.449972</td>\n",
       "    </tr>\n",
       "    <tr>\n",
       "      <th>Nurse Practitioner</th>\n",
       "      <td>8.728942</td>\n",
       "      <td>4.387926</td>\n",
       "    </tr>\n",
       "    <tr>\n",
       "      <th>Physician Assistant</th>\n",
       "      <td>4.725027</td>\n",
       "      <td>0.000000</td>\n",
       "    </tr>\n",
       "    <tr>\n",
       "      <th>Cardiology</th>\n",
       "      <td>4.088722</td>\n",
       "      <td>0.000000</td>\n",
       "    </tr>\n",
       "    <tr>\n",
       "      <th>Others</th>\n",
       "      <td>24.073049</td>\n",
       "      <td>20.067077</td>\n",
       "    </tr>\n",
       "  </tbody>\n",
       "</table>\n",
       "</div>"
      ],
      "text/plain": [
       "                     nonexcluded   excluded\n",
       "Internal Medicine      28.505841  35.997764\n",
       "Family Practice        29.878419  27.249860\n",
       "General Practice        0.000000   6.847401\n",
       "Psychiatry              0.000000   5.449972\n",
       "Nurse Practitioner      8.728942   4.387926\n",
       "Physician Assistant     4.725027   0.000000\n",
       "Cardiology              4.088722   0.000000\n",
       "Others                 24.073049  20.067077"
      ]
     },
     "execution_count": 135,
     "metadata": {},
     "output_type": "execute_result"
    }
   ],
   "source": [
    "# Creating fraction of top 5 specialties from non-excluded and excluded providers\n",
    "nonexcluded_providers = part_d_exp_df[part_d_exp_df['is_excluded'] == 0]\n",
    "nonexcluded_providers_specialty = nonexcluded_providers.groupby\\\n",
    "('specialty_description').count().sort_values('npi', ascending=False).head()/len(nonexcluded_providers)*100\n",
    "nonexcluded_providers_specialty = nonexcluded_providers_specialty['npi'].to_dict()\n",
    "\n",
    "excluded_providers_specialty = excluded_providers.groupby \\\n",
    "('specialty_description').count().sort_values('npi', ascending=False).head()/len(excluded_providers)*100\n",
    "excluded_providers_specialty = excluded_providers_specialty['npi'].to_dict()\n",
    "\n",
    "for i, j in zip(list(nonexcluded_providers_specialty.keys()), list(excluded_providers_specialty.keys())):\n",
    "    if i not in excluded_providers_specialty.keys():\n",
    "        excluded_providers_specialty.update({i: 0})\n",
    "    if j not in nonexcluded_providers_specialty.keys():\n",
    "        nonexcluded_providers_specialty.update({j: 0})\n",
    "\n",
    "nonex_ex_specialty = pd.DataFrame(0, index=excluded_providers_specialty.keys(), columns=['nonexcluded', 'excluded'])\n",
    "nonex_ex_specialty.loc[:, 'nonexcluded'] = pd.Series(nonexcluded_providers_specialty)\n",
    "nonex_ex_specialty.loc[:, 'excluded'] = pd.Series(excluded_providers_specialty)\n",
    "nonex_ex_specialty.loc['Others'] = list(100 - nonex_ex_specialty.sum().values)\n",
    "nonex_ex_specialty"
   ]
  },
  {
   "cell_type": "code",
   "execution_count": 138,
   "metadata": {},
   "outputs": [
    {
     "data": {
      "text/html": [
       "<iframe id=\"igraph\" scrolling=\"no\" style=\"border:none;\" seamless=\"seamless\" src=\"https://plot.ly/~tpjoe33/10.embed\" height=\"525px\" width=\"100%\"></iframe>"
      ],
      "text/plain": [
       "<plotly.tools.PlotlyDisplay object>"
      ]
     },
     "execution_count": 138,
     "metadata": {},
     "output_type": "execute_result"
    }
   ],
   "source": [
    "trace_dict = {}\n",
    "color = [\"#08306b\", \"#08519c\", \"#1361a9\", \"#2171b5\", \"#4292c6\", \"#6baed6\", \"#9ecae1\", \"#c6dbef\"]\n",
    "for i, specialty in enumerate(nonex_ex_specialty.index):\n",
    "    trace_dict.update({'trace' + specialty: go.Bar(x=['Non-excluded Providers', 'Excluded Providers'], \n",
    "                                     y=nonex_ex_specialty.loc[specialty].values.tolist(),\n",
    "                                     name=specialty, marker=dict(color=color[i]))})\n",
    "\n",
    "data = [trace_dict[trace] for trace in trace_dict]\n",
    "\n",
    "layout = go.Layout(barmode='stack', yaxis=dict(title='Percentages of Provider Specialty (%)'))\n",
    "\n",
    "fig = go.Figure(data=data, layout=layout)\n",
    "py.iplot(fig, filename='stacked-bar')"
   ]
  },
  {
   "cell_type": "markdown",
   "metadata": {
    "collapsed": true
   },
   "source": [
    "# Models"
   ]
  },
  {
   "cell_type": "code",
   "execution_count": 2,
   "metadata": {
    "collapsed": true
   },
   "outputs": [],
   "source": [
    "from sklearn import decomposition\n",
    "from sklearn.ensemble import RandomForestClassifier\n",
    "from sklearn.model_selection import train_test_split\n",
    "from sklearn.metrics import confusion_matrix, roc_curve, roc_auc_score, auc\n",
    "from sklearn.utils import resample\n",
    "from sklearn.preprocessing import label_binarize\n",
    "from sklearn.svm import SVC"
   ]
  },
  {
   "cell_type": "markdown",
   "metadata": {},
   "source": [
    "## Classification of Drug Proviers"
   ]
  },
  {
   "cell_type": "code",
   "execution_count": 146,
   "metadata": {
    "collapsed": true
   },
   "outputs": [],
   "source": [
    "# Creating grouped drug data frame and grouped provider datafrmae\n",
    "drug_list = sorted(part_d_df['drug_name'][part_d_df['is_excluded']==1].unique())\n",
    "npi_group = part_d_df.groupby('npi').sum()\n",
    "npi_drug_group_df = part_d_df.groupby(['drug_name', 'npi']).sum()"
   ]
  },
  {
   "cell_type": "code",
   "execution_count": 148,
   "metadata": {},
   "outputs": [
    {
     "name": "stdout",
     "output_type": "stream",
     "text": [
      "There are 487241 unique providers\n",
      "There are 2412087 unique drugs, of which 553 are sold by excluded provider for at least once.\n"
     ]
    }
   ],
   "source": [
    "print(\"There are {} unique providers\".format(len(npi_group)))\n",
    "print(\"There are {} unique drugs, of which {} are sold by excluded provider for at least once.\" \\\n",
    "      .format(len(npi_drug_group_df), len(drug_list)))"
   ]
  },
  {
   "cell_type": "code",
   "execution_count": 149,
   "metadata": {},
   "outputs": [
    {
     "name": "stderr",
     "output_type": "stream",
     "text": [
      "100%|██████████| 553/553 [11:31<00:00,  1.25s/it]\n"
     ]
    }
   ],
   "source": [
    "# Creating feature tables for input (row=providers, columns=cost fraction of drugs each provider sold)\n",
    "npi_drug_df = pd.DataFrame(0, index=npi_group.index, columns=drug_list)\n",
    "for drug in tqdm(drug_list):\n",
    "    npi_drug_df.loc[npi_drug_group_df.loc[drug][['total_drug_cost']].index, [drug]] = \\\n",
    "    npi_drug_group_df.loc[drug][['total_drug_cost']].values/ \\\n",
    "    npi_group.loc[npi_drug_group_df.loc[drug][['total_drug_cost']].index, ['total_drug_cost']].values\n",
    "npi_drug_df.head()"
   ]
  },
  {
   "cell_type": "code",
   "execution_count": 153,
   "metadata": {},
   "outputs": [
    {
     "name": "stdout",
     "output_type": "stream",
     "text": [
      "0\n",
      "(487241, 553)\n"
     ]
    }
   ],
   "source": [
    "# Check nulls\n",
    "print(npi_drug_df.isnull().sum().sum())\n",
    "npi_drug_df = npi_drug_df.dropna(axis = 0)\n",
    "print(npi_drug_df.isnull().sum().sum())\n",
    "print(npi_drug_df.shape)"
   ]
  },
  {
   "cell_type": "code",
   "execution_count": 3,
   "metadata": {},
   "outputs": [
    {
     "ename": "NameError",
     "evalue": "name 'npi_drug_df' is not defined",
     "output_type": "error",
     "traceback": [
      "\u001b[0;31m---------------------------------------------------------------------------\u001b[0m",
      "\u001b[0;31mNameError\u001b[0m                                 Traceback (most recent call last)",
      "\u001b[0;32m<ipython-input-3-6e918e552030>\u001b[0m in \u001b[0;36m<module>\u001b[0;34m()\u001b[0m\n\u001b[1;32m      1\u001b[0m \u001b[0;31m# Saving\u001b[0m\u001b[0;34m\u001b[0m\u001b[0;34m\u001b[0m\u001b[0m\n\u001b[0;32m----> 2\u001b[0;31m \u001b[0mnpi_drug_df\u001b[0m\u001b[0;34m.\u001b[0m\u001b[0mto_pickle\u001b[0m\u001b[0;34m(\u001b[0m\u001b[0;34m'npi_drug_df.pickle'\u001b[0m\u001b[0;34m)\u001b[0m\u001b[0;34m\u001b[0m\u001b[0m\n\u001b[0m\u001b[1;32m      3\u001b[0m \u001b[0mnpi_group\u001b[0m\u001b[0;34m.\u001b[0m\u001b[0mto_pickle\u001b[0m\u001b[0;34m(\u001b[0m\u001b[0;34m'npi_group.pickle'\u001b[0m\u001b[0;34m)\u001b[0m\u001b[0;34m\u001b[0m\u001b[0m\n",
      "\u001b[0;31mNameError\u001b[0m: name 'npi_drug_df' is not defined"
     ]
    }
   ],
   "source": [
    "# Saving\n",
    "npi_drug_df.to_pickle('npi_drug_df.pickle')\n",
    "npi_group.to_pickle('npi_group.pickle')"
   ]
  },
  {
   "cell_type": "code",
   "execution_count": 3,
   "metadata": {
    "collapsed": true
   },
   "outputs": [],
   "source": [
    "# Loading\n",
    "npi_drug_df = pd.read_pickle('npi_drug_df.pickle')\n",
    "npi_group = pd.read_pickle('npi_group.pickle')"
   ]
  },
  {
   "cell_type": "markdown",
   "metadata": {},
   "source": [
    "### Applying PCA"
   ]
  },
  {
   "cell_type": "code",
   "execution_count": 4,
   "metadata": {},
   "outputs": [
    {
     "data": {
      "image/png": "[encoded data removed]",
      "text/plain": [
       "<matplotlib.figure.Figure at 0x2b5b97a9e400>"
      ]
     },
     "metadata": {},
     "output_type": "display_data"
    }
   ],
   "source": [
    "pca = decomposition.PCA(n_components=2)\n",
    "pca.fit(npi_drug_df)\n",
    "npi_drug_df_transformed = pca.transform(npi_drug_df)\n",
    "plt.plot(np.cumsum(pca.explained_variance_ratio_))\n",
    "plt.xlabel('number of components')\n",
    "plt.ylabel('cumulative explained variance')\n",
    "plt.show()"
   ]
  },
  {
   "cell_type": "code",
   "execution_count": 5,
   "metadata": {
    "collapsed": true
   },
   "outputs": [],
   "source": [
    "npi_label = pd.DataFrame(npi_group['is_excluded'].apply(lambda x: 1 if x > 0  else 0))\n",
    "df = pd.concat([pd.DataFrame(npi_drug_df_transformed, index=npi_label.index), npi_label], axis=1)"
   ]
  },
  {
   "cell_type": "code",
   "execution_count": 6,
   "metadata": {},
   "outputs": [
    {
     "data": {
      "text/plain": [
       "0    486675\n",
       "1       566\n",
       "Name: is_excluded, dtype: int64"
      ]
     },
     "execution_count": 6,
     "metadata": {},
     "output_type": "execute_result"
    }
   ],
   "source": [
    "npi_label['is_excluded'].value_counts()"
   ]
  },
  {
   "cell_type": "markdown",
   "metadata": {},
   "source": [
    "### Training without down/upsampling"
   ]
  },
  {
   "cell_type": "code",
   "execution_count": 164,
   "metadata": {},
   "outputs": [
    {
     "data": {
      "text/plain": [
       "RandomForestClassifier(bootstrap=True, class_weight=None, criterion='gini',\n",
       "            max_depth=None, max_features='auto', max_leaf_nodes=None,\n",
       "            min_impurity_decrease=0.0, min_impurity_split=None,\n",
       "            min_samples_leaf=1, min_samples_split=2,\n",
       "            min_weight_fraction_leaf=0.0, n_estimators=50, n_jobs=1,\n",
       "            oob_score=False, random_state=42, verbose=0, warm_start=False)"
      ]
     },
     "execution_count": 164,
     "metadata": {},
     "output_type": "execute_result"
    }
   ],
   "source": [
    "X = df.drop(['is_excluded'], axis=1)\n",
    "y = df['is_excluded']\n",
    "\n",
    "X_train, X_test, y_train, y_test = train_test_split(X, y, test_size=0.33, random_state=42)\n",
    "\n",
    "clf = RandomForestClassifier(n_estimators=50, random_state=42)\n",
    "clf.fit(X_train, y_train)"
   ]
  },
  {
   "cell_type": "code",
   "execution_count": 165,
   "metadata": {},
   "outputs": [
    {
     "name": "stdout",
     "output_type": "stream",
     "text": [
      "0.990863146003\n"
     ]
    },
    {
     "data": {
      "text/plain": [
       "array([[326078,      0],\n",
       "       [   116,    257]])"
      ]
     },
     "execution_count": 165,
     "metadata": {},
     "output_type": "execute_result"
    }
   ],
   "source": [
    "y_pred = clf.predict(X_train)\n",
    "y_pred_prob = clf.predict_proba(X_train)\n",
    "print(roc_auc_score(y_train, y_pred_prob[:,1]))\n",
    "confusion_matrix(y_train, y_pred)"
   ]
  },
  {
   "cell_type": "code",
   "execution_count": 167,
   "metadata": {},
   "outputs": [
    {
     "name": "stdout",
     "output_type": "stream",
     "text": [
      "0.453074572367\n"
     ]
    },
    {
     "data": {
      "text/plain": [
       "array([[160596,      1],\n",
       "       [   193,      0]])"
      ]
     },
     "execution_count": 167,
     "metadata": {},
     "output_type": "execute_result"
    }
   ],
   "source": [
    "y_pred = clf.predict(X_test)\n",
    "y_pred_prob = clf.predict_proba(X_test)\n",
    "print(roc_auc_score(y_test, y_pred_prob[:,1]))\n",
    "confusion_matrix(y_test, y_pred)"
   ]
  },
  {
   "cell_type": "markdown",
   "metadata": {},
   "source": [
    "The model was unable to capture the minor class."
   ]
  },
  {
   "cell_type": "markdown",
   "metadata": {},
   "source": [
    "### With upsampling/downsampling"
   ]
  },
  {
   "cell_type": "code",
   "execution_count": 179,
   "metadata": {},
   "outputs": [
    {
     "data": {
      "text/plain": [
       "0    486675\n",
       "1      5480\n",
       "Name: is_excluded, dtype: int64"
      ]
     },
     "execution_count": 179,
     "metadata": {},
     "output_type": "execute_result"
    }
   ],
   "source": [
    "# Upsampling\n",
    "df_majority = df[df['is_excluded'] == 0]\n",
    "df_minority = df[df['is_excluded'] > 0]\n",
    "\n",
    "df_minority_upsampled = resample(df_minority, replace=True, n_samples=5480, random_state=42) # Increase by 10 times\n",
    "df_upsampled = pd.concat([df_majority, df_minority_upsampled])  \n",
    "df_upsampled['is_excluded'].value_counts()"
   ]
  },
  {
   "cell_type": "code",
   "execution_count": 172,
   "metadata": {},
   "outputs": [
    {
     "data": {
      "text/plain": [
       "RandomForestClassifier(bootstrap=True, class_weight=None, criterion='gini',\n",
       "            max_depth=None, max_features='auto', max_leaf_nodes=None,\n",
       "            min_impurity_decrease=0.0, min_impurity_split=None,\n",
       "            min_samples_leaf=1, min_samples_split=2,\n",
       "            min_weight_fraction_leaf=0.0, n_estimators=50, n_jobs=1,\n",
       "            oob_score=False, random_state=42, verbose=0, warm_start=False)"
      ]
     },
     "execution_count": 172,
     "metadata": {},
     "output_type": "execute_result"
    }
   ],
   "source": [
    "X = df_upsampled.drop(['is_excluded'], axis=1)\n",
    "y = df_upsampled['is_excluded']\n",
    "\n",
    "X_train, X_test, y_train, y_test = train_test_split(X, y, test_size=0.33, random_state=42)\n",
    "\n",
    "clf = RandomForestClassifier(n_estimators=50, random_state=42)\n",
    "clf.fit(X_train, y_train)"
   ]
  },
  {
   "cell_type": "code",
   "execution_count": 173,
   "metadata": {},
   "outputs": [
    {
     "name": "stdout",
     "output_type": "stream",
     "text": [
      "0.989502948024\n"
     ]
    },
    {
     "data": {
      "text/plain": [
       "array([[326054,      3],\n",
       "       [   757,   2929]])"
      ]
     },
     "execution_count": 173,
     "metadata": {},
     "output_type": "execute_result"
    }
   ],
   "source": [
    "y_pred = clf.predict(X_train)\n",
    "y_pred_prob = clf.predict_proba(X_train)\n",
    "print(roc_auc_score(y_train, y_pred_prob[:,1]))\n",
    "confusion_matrix(y_train, y_pred)"
   ]
  },
  {
   "cell_type": "code",
   "execution_count": 174,
   "metadata": {},
   "outputs": [
    {
     "name": "stdout",
     "output_type": "stream",
     "text": [
      "0.985578214945\n"
     ]
    },
    {
     "data": {
      "text/plain": [
       "array([[160586,     32],\n",
       "       [   415,   1379]])"
      ]
     },
     "execution_count": 174,
     "metadata": {},
     "output_type": "execute_result"
    }
   ],
   "source": [
    "y_pred = clf.predict(X_test)\n",
    "y_pred_prob = clf.predict_proba(X_test)\n",
    "print(roc_auc_score(y_test, y_pred_prob[:,1]))\n",
    "confusion_matrix(y_test, y_pred)"
   ]
  },
  {
   "cell_type": "code",
   "execution_count": 202,
   "metadata": {},
   "outputs": [
    {
     "data": {
      "text/plain": [
       "0    48670\n",
       "1      566\n",
       "Name: is_excluded, dtype: int64"
      ]
     },
     "execution_count": 202,
     "metadata": {},
     "output_type": "execute_result"
    }
   ],
   "source": [
    "# Downsampling\n",
    "df_majority = df[df['is_excluded'] == 0]\n",
    "df_minority = df[df['is_excluded'] > 0]\n",
    "\n",
    "df_majority_downsampled = resample(df_majority, replace=False, n_samples=48670, random_state=42) # Reduce by 10 times\n",
    "df_downsampled = pd.concat([df_majority_downsampled, df_minority]) \n",
    "df_downsampled['is_excluded'].value_counts()"
   ]
  },
  {
   "cell_type": "code",
   "execution_count": 203,
   "metadata": {
    "scrolled": true
   },
   "outputs": [
    {
     "data": {
      "text/plain": [
       "RandomForestClassifier(bootstrap=True, class_weight=None, criterion='gini',\n",
       "            max_depth=None, max_features='auto', max_leaf_nodes=None,\n",
       "            min_impurity_decrease=0.0, min_impurity_split=None,\n",
       "            min_samples_leaf=1, min_samples_split=2,\n",
       "            min_weight_fraction_leaf=0.0, n_estimators=50, n_jobs=1,\n",
       "            oob_score=False, random_state=42, verbose=0, warm_start=False)"
      ]
     },
     "execution_count": 203,
     "metadata": {},
     "output_type": "execute_result"
    }
   ],
   "source": [
    "X = df_downsampled.drop(['is_excluded'], axis=1)\n",
    "y = df_downsampled['is_excluded']\n",
    "\n",
    "X_train, X_test, y_train, y_test = train_test_split(X, y, test_size=0.33, random_state=42)\n",
    "\n",
    "clf = RandomForestClassifier(n_estimators=50, random_state=42)\n",
    "clf.fit(X_train, y_train)"
   ]
  },
  {
   "cell_type": "code",
   "execution_count": 204,
   "metadata": {},
   "outputs": [
    {
     "name": "stdout",
     "output_type": "stream",
     "text": [
      "0.985320078056\n"
     ]
    },
    {
     "data": {
      "text/plain": [
       "array([[32608,     0],\n",
       "       [   93,   287]])"
      ]
     },
     "execution_count": 204,
     "metadata": {},
     "output_type": "execute_result"
    }
   ],
   "source": [
    "y_pred = clf.predict(X_train)\n",
    "y_pred_prob = clf.predict_proba(X_train)\n",
    "print(roc_auc_score(y_train, y_pred_prob[:,1]))\n",
    "confusion_matrix(y_train, y_pred)"
   ]
  },
  {
   "cell_type": "code",
   "execution_count": 205,
   "metadata": {},
   "outputs": [
    {
     "name": "stdout",
     "output_type": "stream",
     "text": [
      "0.479441391757\n"
     ]
    },
    {
     "data": {
      "text/plain": [
       "array([[16055,     7],\n",
       "       [  185,     1]])"
      ]
     },
     "execution_count": 205,
     "metadata": {},
     "output_type": "execute_result"
    }
   ],
   "source": [
    "y_pred = clf.predict(X_test)\n",
    "y_pred_prob = clf.predict_proba(X_test)\n",
    "print(roc_auc_score(y_test, y_pred_prob[:,1]))\n",
    "confusion_matrix(y_test, y_pred)"
   ]
  },
  {
   "cell_type": "code",
   "execution_count": 206,
   "metadata": {},
   "outputs": [
    {
     "data": {
      "text/plain": [
       "0    48670\n",
       "1     5480\n",
       "Name: is_excluded, dtype: int64"
      ]
     },
     "execution_count": 206,
     "metadata": {},
     "output_type": "execute_result"
    }
   ],
   "source": [
    "# Downsampling+Upsampling\n",
    "df_updownsampled = pd.concat([df_majority_downsampled, df_minority_upsampled]) \n",
    "df_updownsampled['is_excluded'].value_counts()"
   ]
  },
  {
   "cell_type": "code",
   "execution_count": 207,
   "metadata": {
    "scrolled": true
   },
   "outputs": [
    {
     "data": {
      "text/plain": [
       "RandomForestClassifier(bootstrap=True, class_weight=None, criterion='gini',\n",
       "            max_depth=None, max_features='auto', max_leaf_nodes=None,\n",
       "            min_impurity_decrease=0.0, min_impurity_split=None,\n",
       "            min_samples_leaf=1, min_samples_split=2,\n",
       "            min_weight_fraction_leaf=0.0, n_estimators=50, n_jobs=1,\n",
       "            oob_score=False, random_state=42, verbose=0, warm_start=False)"
      ]
     },
     "execution_count": 207,
     "metadata": {},
     "output_type": "execute_result"
    }
   ],
   "source": [
    "X = df_updownsampled.drop(['is_excluded'], axis=1)\n",
    "y = df_updownsampled['is_excluded']\n",
    "\n",
    "X_train, X_test, y_train, y_test = train_test_split(X, y, test_size=0.33, random_state=42)\n",
    "\n",
    "clf = RandomForestClassifier(n_estimators=50, random_state=42)\n",
    "clf.fit(X_train, y_train)"
   ]
  },
  {
   "cell_type": "code",
   "execution_count": 208,
   "metadata": {},
   "outputs": [
    {
     "name": "stdout",
     "output_type": "stream",
     "text": [
      "0.987980670013\n"
     ]
    },
    {
     "data": {
      "text/plain": [
       "array([[32553,    76],\n",
       "       [  635,  3016]])"
      ]
     },
     "execution_count": 208,
     "metadata": {},
     "output_type": "execute_result"
    }
   ],
   "source": [
    "y_pred = clf.predict(X_train)\n",
    "y_pred_prob = clf.predict_proba(X_train)\n",
    "print(roc_auc_score(y_train, y_pred_prob[:,1]))\n",
    "confusion_matrix(y_train, y_pred)"
   ]
  },
  {
   "cell_type": "code",
   "execution_count": 209,
   "metadata": {},
   "outputs": [
    {
     "name": "stdout",
     "output_type": "stream",
     "text": [
      "0.982517938842\n"
     ]
    },
    {
     "data": {
      "text/plain": [
       "array([[15924,   117],\n",
       "       [  314,  1515]])"
      ]
     },
     "execution_count": 209,
     "metadata": {},
     "output_type": "execute_result"
    }
   ],
   "source": [
    "y_pred = clf.predict(X_test)\n",
    "y_pred_prob = clf.predict_proba(X_test)\n",
    "print(roc_auc_score(y_test, y_pred_prob[:,1]))\n",
    "confusion_matrix(y_test, y_pred)"
   ]
  },
  {
   "cell_type": "markdown",
   "metadata": {},
   "source": [
    "### Classification Models Comparison"
   ]
  },
  {
   "cell_type": "code",
   "execution_count": 7,
   "metadata": {
    "collapsed": true
   },
   "outputs": [],
   "source": [
    "def warn(*args, **kwargs):\n",
    "    pass\n",
    "\n",
    "import warnings\n",
    "warnings.warn = warn\n",
    "\n",
    "from scipy import interp\n",
    "import matplotlib.pyplot as plt\n",
    "from itertools import cycle\n",
    "\n",
    "from sklearn.neural_network import MLPClassifier\n",
    "from sklearn.neighbors import KNeighborsClassifier\n",
    "from sklearn.svm import SVC\n",
    "from sklearn.gaussian_process import GaussianProcessClassifier\n",
    "from sklearn.gaussian_process.kernels import RBF\n",
    "from sklearn.tree import DecisionTreeClassifier\n",
    "from sklearn.ensemble import RandomForestClassifier, AdaBoostClassifier, GradientBoostingClassifier, ExtraTreesClassifier\n",
    "from sklearn.naive_bayes import GaussianNB\n",
    "from sklearn.discriminant_analysis import QuadraticDiscriminantAnalysis\n",
    "from sklearn.model_selection import cross_validate, GridSearchCV, StratifiedKFold\n",
    "from sklearn.metrics import roc_curve, auc\n",
    "\n",
    "seed = 42"
   ]
  },
  {
   "cell_type": "code",
   "execution_count": 8,
   "metadata": {},
   "outputs": [
    {
     "data": {
      "text/plain": [
       "0    486675\n",
       "1      5480\n",
       "Name: is_excluded, dtype: int64"
      ]
     },
     "execution_count": 8,
     "metadata": {},
     "output_type": "execute_result"
    }
   ],
   "source": [
    "# Upsampling\n",
    "df_majority = df[df['is_excluded'] == 0]\n",
    "df_minority = df[df['is_excluded'] > 0]\n",
    "\n",
    "df_minority_upsampled = resample(df_minority, replace=True, n_samples=5480, random_state=42) # Increase by 10 times\n",
    "df_upsampled = pd.concat([df_majority, df_minority_upsampled])  \n",
    "df_upsampled['is_excluded'].value_counts()"
   ]
  },
  {
   "cell_type": "code",
   "execution_count": 11,
   "metadata": {},
   "outputs": [
    {
     "data": {
      "application/vnd.jupyter.widget-view+json": {
       "model_id": "f1d03959369b4201a6601ebffb19e82d",
       "version_major": 2,
       "version_minor": 0
      },
      "text/plain": [
       "A Jupyter Widget"
      ]
     },
     "metadata": {},
     "output_type": "display_data"
    },
    {
     "name": "stdout",
     "output_type": "stream",
     "text": [
      "########################### \n",
      "For RBF SVM\n",
      "AUC: Mean-0.4954  STD-0.0093\n",
      "Accuracy: Mean-0.9889  STD-0.0000\n",
      "F1: Mean-0.0000  STD-0.0000\n",
      "########################### \n",
      "For Nearest Neighbors\n",
      "AUC: Mean-0.9092  STD-0.0056\n",
      "Accuracy: Mean-0.9942  STD-0.0002\n",
      "F1: Mean-0.7499  STD-0.0062\n",
      "########################### \n",
      "For Naive Bayes\n",
      "AUC: Mean-0.5241  STD-0.0062\n",
      "Accuracy: Mean-0.9889  STD-0.0000\n",
      "F1: Mean-0.0000  STD-0.0000\n",
      "########################### \n",
      "For GradientBoost\n",
      "AUC: Mean-0.6303  STD-0.0052\n",
      "Accuracy: Mean-0.9889  STD-0.0000\n",
      "F1: Mean-0.0000  STD-0.0000\n",
      "########################### \n",
      "For AdaBoost\n",
      "AUC: Mean-0.7873  STD-0.0058\n",
      "Accuracy: Mean-0.9902  STD-0.0001\n",
      "F1: Mean-0.2783  STD-0.0187\n",
      "########################### \n",
      "For ExtraTrees\n",
      "AUC: Mean-0.9861  STD-0.0016\n",
      "Accuracy: Mean-0.9974  STD-0.0001\n",
      "F1: Mean-0.8702  STD-0.0035\n",
      "########################### \n",
      "For Random Forest\n",
      "AUC: Mean-0.9874  STD-0.0015\n",
      "Accuracy: Mean-0.9974  STD-0.0001\n",
      "F1: Mean-0.8723  STD-0.0040\n"
     ]
    },
    {
     "data": {
      "text/html": [
       "<iframe id=\"igraph\" scrolling=\"no\" style=\"border:none;\" seamless=\"seamless\" src=\"https://plot.ly/~tpjoe33/13.embed\" height=\"525px\" width=\"100%\"></iframe>"
      ],
      "text/plain": [
       "<plotly.tools.PlotlyDisplay object>"
      ]
     },
     "execution_count": 11,
     "metadata": {},
     "output_type": "execute_result"
    }
   ],
   "source": [
    "# Identifying the best model algorithm\n",
    "colors = [\"#08306b\", \"#08519c\", \"#1361a9\", \"#4292c6\", \"#6baed6\", 'rgb(76,000,153)', 'rgb(153,000,153)']\n",
    "\n",
    "X = df_upsampled.drop(['is_excluded'], axis=1)\n",
    "y = df_upsampled['is_excluded']\n",
    "\n",
    "scoring = {'AUC': 'roc_auc', 'Accuracy': 'accuracy', 'F1': 'f1'}\n",
    "\n",
    "names = [\"RBF SVM\", \"Nearest Neighbors\", \"Naive Bayes\",\n",
    "         \"GradientBoost\", \"AdaBoost\", \n",
    "         \"ExtraTrees\", \"Random Forest\"]\n",
    "        \n",
    "classifiers = [\n",
    "    SVC(kernel=\"rbf\", C=1, probability=True),\n",
    "    KNeighborsClassifier(n_neighbors=5),\n",
    "    GaussianNB(),\n",
    "    AdaBoostClassifier(n_estimators=50, random_state=seed),\n",
    "    GradientBoostingClassifier(random_state=seed),\n",
    "    RandomForestClassifier(n_estimators=50, random_state=seed),\n",
    "    ExtraTreesClassifier(n_estimators=50, random_state=seed)]\n",
    "\n",
    "trace_dict = {}\n",
    "# iterate over classifiers\n",
    "for color, name, clf in tqdm_notebook(zip(colors, names, classifiers), total=len(names)):\n",
    "    cv_results = cross_validate(clf, X, y, scoring=scoring, cv=5, return_train_score=True)\n",
    "    print('########################### \\nFor {}'.format(name))\n",
    "    for score in scoring:\n",
    "        print('{0:s}: Mean-{1:.4f}  STD-{2:.4f}'.format(score, cv_results['test_'+score].mean(),\\\n",
    "                                                        cv_results['test_'+score].std()))\n",
    "    trace_dict.update({'trace' + name: go.Bar(x=name, y=cv_results['test_F1'].mean(), error_y=dict(type='data',\n",
    "                                              array=np.std(cv_results['test_F1']),visible=True),\n",
    "                                              name=name, marker=dict(color=color), showlegend=False)})\n",
    "\n",
    "\n",
    "layout = go.Layout(\n",
    "    title='Performance of Different Models by F1 Score',\n",
    "    #width=500,\n",
    "    xaxis=dict(autorange=True, showgrid=False, zeroline=False, showline=False, autotick=True, ticks='',\n",
    "               showticklabels=True),\n",
    "    yaxis=dict(title='F1 Score', zeroline=False),\n",
    "    margin=go.Margin(l=50, r=50, b=30, t=30, pad=4))\n",
    "\n",
    "data = [trace_dict[trace] for trace in trace_dict]\n",
    "fig= go.Figure(data=data, layout=layout)\n",
    "py.iplot(fig, filename='F1models')"
   ]
  },
  {
   "cell_type": "code",
   "execution_count": 10,
   "metadata": {},
   "outputs": [
    {
     "data": {
      "application/vnd.jupyter.widget-view+json": {
       "model_id": "c7a74658fe514c5981671b1ec40fb61b",
       "version_major": 2,
       "version_minor": 0
      },
      "text/plain": [
       "A Jupyter Widget"
      ]
     },
     "metadata": {},
     "output_type": "display_data"
    },
    {
     "data": {
      "text/html": [
       "<iframe id=\"igraph\" scrolling=\"no\" style=\"border:none;\" seamless=\"seamless\" src=\"https://plot.ly/~tpjoe33/17.embed\" height=\"525px\" width=\"100%\"></iframe>"
      ],
      "text/plain": [
       "<plotly.tools.PlotlyDisplay object>"
      ]
     },
     "execution_count": 10,
     "metadata": {},
     "output_type": "execute_result"
    }
   ],
   "source": [
    "# Plotting ROC curves of the models\n",
    "X_train, X_test, y_train, y_test = train_test_split(X.values, y.values, test_size=0.33, random_state=42)\n",
    "n_classes = 1\n",
    "\n",
    "fpr = dict()\n",
    "tpr = dict()\n",
    "roc_auc = dict()\n",
    "\n",
    "plt.figure()\n",
    "lw = 2\n",
    "trace_dict = {}\n",
    "\n",
    "classifiers = [\n",
    "    SVC(kernel=\"rbf\", C=1, probability=True),\n",
    "    KNeighborsClassifier(n_neighbors=5),\n",
    "    GaussianNB(),\n",
    "    AdaBoostClassifier(n_estimators=50, random_state=seed),\n",
    "    GradientBoostingClassifier(random_state=seed),\n",
    "    RandomForestClassifier(n_estimators=50, random_state=seed),\n",
    "    ExtraTreesClassifier(n_estimators=50, random_state=seed)]\n",
    "\n",
    "for color, name, clf in tqdm_notebook(zip(colors, names, classifiers), total=len(names)):\n",
    "    y_score = clf.fit(X_train, y_train).predict_proba(X_test)\n",
    "    fpr[name], tpr[name], _ = roc_curve(y_test[:], y_score[:, 1])\n",
    "    roc_auc[name] = auc(fpr[name], tpr[name])\n",
    "    trace_dict.update({'trace' + name: go.Scatter(x=fpr[name], y=tpr[name], mode='lines', \n",
    "                                       line=dict(color=color, width=lw),\n",
    "                                       showlegend=False,\n",
    "                                       name='{0:s} AUC: {1:.2f}'.format(name, roc_auc[name]))})\n",
    "\n",
    "trace_guess = go.Scatter(x=[0, 1], y=[0, 1], \n",
    "                mode='lines', \n",
    "                line=dict(color='navy', width=lw, dash='dash'),\n",
    "                showlegend=False)\n",
    "\n",
    "data = [trace_dict[trace] for trace in trace_dict] + [trace_guess]\n",
    "\n",
    "layout = go.Layout(title='Receiver Operating Characteristics',\n",
    "                   xaxis=dict(title='False Positive Rate'),\n",
    "                   yaxis=dict(title='True Positive Rate'))\n",
    "\n",
    "fig = go.Figure(data=data, layout=layout)\n",
    "py.iplot(fig, filename='ROCs')"
   ]
  },
  {
   "cell_type": "markdown",
   "metadata": {},
   "source": [
    "## Model Optimization"
   ]
  },
  {
   "cell_type": "code",
   "execution_count": 49,
   "metadata": {
    "scrolled": true
   },
   "outputs": [
    {
     "name": "stdout",
     "output_type": "stream",
     "text": [
      "Fitting 3 folds for each of 18 candidates, totalling 54 fits\n",
      "[CV] max_features=auto, min_samples_split=2, n_estimators=10 .........\n",
      "[CV]  max_features=auto, min_samples_split=2, n_estimators=10, total=   5.1s\n",
      "[CV] max_features=auto, min_samples_split=2, n_estimators=10 .........\n"
     ]
    },
    {
     "name": "stderr",
     "output_type": "stream",
     "text": [
      "[Parallel(n_jobs=1)]: Done   1 out of   1 | elapsed:    6.1s remaining:    0.0s\n"
     ]
    },
    {
     "name": "stdout",
     "output_type": "stream",
     "text": [
      "[CV]  max_features=auto, min_samples_split=2, n_estimators=10, total=   5.5s\n",
      "[CV] max_features=auto, min_samples_split=2, n_estimators=10 .........\n",
      "[CV]  max_features=auto, min_samples_split=2, n_estimators=10, total=   5.3s\n",
      "[CV] max_features=auto, min_samples_split=2, n_estimators=20 .........\n",
      "[CV]  max_features=auto, min_samples_split=2, n_estimators=20, total=  10.4s\n",
      "[CV] max_features=auto, min_samples_split=2, n_estimators=20 .........\n",
      "[CV]  max_features=auto, min_samples_split=2, n_estimators=20, total=  10.4s\n",
      "[CV] max_features=auto, min_samples_split=2, n_estimators=20 .........\n",
      "[CV]  max_features=auto, min_samples_split=2, n_estimators=20, total=  10.0s\n",
      "[CV] max_features=auto, min_samples_split=2, n_estimators=50 .........\n",
      "[CV]  max_features=auto, min_samples_split=2, n_estimators=50, total=  26.0s\n",
      "[CV] max_features=auto, min_samples_split=2, n_estimators=50 .........\n",
      "[CV]  max_features=auto, min_samples_split=2, n_estimators=50, total=  25.1s\n",
      "[CV] max_features=auto, min_samples_split=2, n_estimators=50 .........\n",
      "[CV]  max_features=auto, min_samples_split=2, n_estimators=50, total=  25.5s\n",
      "[CV] max_features=auto, min_samples_split=4, n_estimators=10 .........\n",
      "[CV]  max_features=auto, min_samples_split=4, n_estimators=10, total=   5.9s\n",
      "[CV] max_features=auto, min_samples_split=4, n_estimators=10 .........\n",
      "[CV]  max_features=auto, min_samples_split=4, n_estimators=10, total=   4.7s\n",
      "[CV] max_features=auto, min_samples_split=4, n_estimators=10 .........\n",
      "[CV]  max_features=auto, min_samples_split=4, n_estimators=10, total=   5.2s\n",
      "[CV] max_features=auto, min_samples_split=4, n_estimators=20 .........\n",
      "[CV]  max_features=auto, min_samples_split=4, n_estimators=20, total=  10.3s\n",
      "[CV] max_features=auto, min_samples_split=4, n_estimators=20 .........\n",
      "[CV]  max_features=auto, min_samples_split=4, n_estimators=20, total=  10.5s\n",
      "[CV] max_features=auto, min_samples_split=4, n_estimators=20 .........\n",
      "[CV]  max_features=auto, min_samples_split=4, n_estimators=20, total=   9.9s\n",
      "[CV] max_features=auto, min_samples_split=4, n_estimators=50 .........\n",
      "[CV]  max_features=auto, min_samples_split=4, n_estimators=50, total=  25.0s\n",
      "[CV] max_features=auto, min_samples_split=4, n_estimators=50 .........\n",
      "[CV]  max_features=auto, min_samples_split=4, n_estimators=50, total=  25.8s\n",
      "[CV] max_features=auto, min_samples_split=4, n_estimators=50 .........\n",
      "[CV]  max_features=auto, min_samples_split=4, n_estimators=50, total=  25.4s\n",
      "[CV] max_features=auto, min_samples_split=8, n_estimators=10 .........\n",
      "[CV]  max_features=auto, min_samples_split=8, n_estimators=10, total=   5.7s\n",
      "[CV] max_features=auto, min_samples_split=8, n_estimators=10 .........\n",
      "[CV]  max_features=auto, min_samples_split=8, n_estimators=10, total=   5.3s\n",
      "[CV] max_features=auto, min_samples_split=8, n_estimators=10 .........\n",
      "[CV]  max_features=auto, min_samples_split=8, n_estimators=10, total=   5.2s\n",
      "[CV] max_features=auto, min_samples_split=8, n_estimators=20 .........\n",
      "[CV]  max_features=auto, min_samples_split=8, n_estimators=20, total=  10.3s\n",
      "[CV] max_features=auto, min_samples_split=8, n_estimators=20 .........\n",
      "[CV]  max_features=auto, min_samples_split=8, n_estimators=20, total=  10.4s\n",
      "[CV] max_features=auto, min_samples_split=8, n_estimators=20 .........\n",
      "[CV]  max_features=auto, min_samples_split=8, n_estimators=20, total=  10.5s\n",
      "[CV] max_features=auto, min_samples_split=8, n_estimators=50 .........\n",
      "[CV]  max_features=auto, min_samples_split=8, n_estimators=50, total=  26.9s\n",
      "[CV] max_features=auto, min_samples_split=8, n_estimators=50 .........\n",
      "[CV]  max_features=auto, min_samples_split=8, n_estimators=50, total=  25.8s\n",
      "[CV] max_features=auto, min_samples_split=8, n_estimators=50 .........\n",
      "[CV]  max_features=auto, min_samples_split=8, n_estimators=50, total=  24.4s\n",
      "[CV] max_features=None, min_samples_split=2, n_estimators=10 .........\n",
      "[CV]  max_features=None, min_samples_split=2, n_estimators=10, total=  12.6s\n",
      "[CV] max_features=None, min_samples_split=2, n_estimators=10 .........\n",
      "[CV]  max_features=None, min_samples_split=2, n_estimators=10, total=  12.9s\n",
      "[CV] max_features=None, min_samples_split=2, n_estimators=10 .........\n",
      "[CV]  max_features=None, min_samples_split=2, n_estimators=10, total=  11.8s\n",
      "[CV] max_features=None, min_samples_split=2, n_estimators=20 .........\n",
      "[CV]  max_features=None, min_samples_split=2, n_estimators=20, total=  25.3s\n",
      "[CV] max_features=None, min_samples_split=2, n_estimators=20 .........\n",
      "[CV]  max_features=None, min_samples_split=2, n_estimators=20, total=  24.7s\n",
      "[CV] max_features=None, min_samples_split=2, n_estimators=20 .........\n",
      "[CV]  max_features=None, min_samples_split=2, n_estimators=20, total=  24.7s\n",
      "[CV] max_features=None, min_samples_split=2, n_estimators=50 .........\n",
      "[CV]  max_features=None, min_samples_split=2, n_estimators=50, total= 1.1min\n",
      "[CV] max_features=None, min_samples_split=2, n_estimators=50 .........\n",
      "[CV]  max_features=None, min_samples_split=2, n_estimators=50, total= 1.0min\n",
      "[CV] max_features=None, min_samples_split=2, n_estimators=50 .........\n",
      "[CV]  max_features=None, min_samples_split=2, n_estimators=50, total=  59.6s\n",
      "[CV] max_features=None, min_samples_split=4, n_estimators=10 .........\n",
      "[CV]  max_features=None, min_samples_split=4, n_estimators=10, total=  12.2s\n",
      "[CV] max_features=None, min_samples_split=4, n_estimators=10 .........\n",
      "[CV]  max_features=None, min_samples_split=4, n_estimators=10, total=  12.6s\n",
      "[CV] max_features=None, min_samples_split=4, n_estimators=10 .........\n",
      "[CV]  max_features=None, min_samples_split=4, n_estimators=10, total=  12.5s\n",
      "[CV] max_features=None, min_samples_split=4, n_estimators=20 .........\n",
      "[CV]  max_features=None, min_samples_split=4, n_estimators=20, total=  25.4s\n",
      "[CV] max_features=None, min_samples_split=4, n_estimators=20 .........\n",
      "[CV]  max_features=None, min_samples_split=4, n_estimators=20, total=  24.3s\n",
      "[CV] max_features=None, min_samples_split=4, n_estimators=20 .........\n",
      "[CV]  max_features=None, min_samples_split=4, n_estimators=20, total=  23.8s\n",
      "[CV] max_features=None, min_samples_split=4, n_estimators=50 .........\n",
      "[CV]  max_features=None, min_samples_split=4, n_estimators=50, total= 1.0min\n",
      "[CV] max_features=None, min_samples_split=4, n_estimators=50 .........\n",
      "[CV]  max_features=None, min_samples_split=4, n_estimators=50, total= 1.0min\n",
      "[CV] max_features=None, min_samples_split=4, n_estimators=50 .........\n",
      "[CV]  max_features=None, min_samples_split=4, n_estimators=50, total=  59.5s\n",
      "[CV] max_features=None, min_samples_split=8, n_estimators=10 .........\n",
      "[CV]  max_features=None, min_samples_split=8, n_estimators=10, total=  12.4s\n",
      "[CV] max_features=None, min_samples_split=8, n_estimators=10 .........\n",
      "[CV]  max_features=None, min_samples_split=8, n_estimators=10, total=  12.7s\n",
      "[CV] max_features=None, min_samples_split=8, n_estimators=10 .........\n",
      "[CV]  max_features=None, min_samples_split=8, n_estimators=10, total=  12.5s\n",
      "[CV] max_features=None, min_samples_split=8, n_estimators=20 .........\n",
      "[CV]  max_features=None, min_samples_split=8, n_estimators=20, total=  24.8s\n",
      "[CV] max_features=None, min_samples_split=8, n_estimators=20 .........\n",
      "[CV]  max_features=None, min_samples_split=8, n_estimators=20, total=  25.2s\n",
      "[CV] max_features=None, min_samples_split=8, n_estimators=20 .........\n",
      "[CV]  max_features=None, min_samples_split=8, n_estimators=20, total=  24.8s\n",
      "[CV] max_features=None, min_samples_split=8, n_estimators=50 .........\n",
      "[CV]  max_features=None, min_samples_split=8, n_estimators=50, total= 1.0min\n",
      "[CV] max_features=None, min_samples_split=8, n_estimators=50 .........\n",
      "[CV]  max_features=None, min_samples_split=8, n_estimators=50, total= 1.1min\n",
      "[CV] max_features=None, min_samples_split=8, n_estimators=50 .........\n",
      "[CV]  max_features=None, min_samples_split=8, n_estimators=50, total=  59.5s\n"
     ]
    },
    {
     "name": "stderr",
     "output_type": "stream",
     "text": [
      "[Parallel(n_jobs=1)]: Done  54 out of  54 | elapsed: 23.3min finished\n"
     ]
    }
   ],
   "source": [
    "# Gridsearch of the best algorithm\n",
    "# The scorers can be either be one of the predefined metric strings or a scorer\n",
    "# callable, like the one returned by make_scorer\n",
    "scoring = {'AUC': 'roc_auc', 'F1': 'f1'}\n",
    "\n",
    "clf = RandomForestClassifier(n_estimators=50)\n",
    "params ={'n_estimators': [10, 20, 50], 'max_features':('auto', None), \\\n",
    "         'min_samples_split': [2, 4, 8]}\n",
    "\n",
    "gs = GridSearchCV(clf, params, scoring=scoring, cv=3, refit='AUC', verbose=2)\n",
    "\n",
    "gs.fit(X, y)\n",
    "results = gs.cv_results_"
   ]
  },
  {
   "cell_type": "code",
   "execution_count": 51,
   "metadata": {},
   "outputs": [
    {
     "data": {
      "text/plain": [
       "RandomForestClassifier(bootstrap=True, class_weight=None, criterion='gini',\n",
       "            max_depth=None, max_features=None, max_leaf_nodes=None,\n",
       "            min_impurity_decrease=0.0, min_impurity_split=None,\n",
       "            min_samples_leaf=1, min_samples_split=2,\n",
       "            min_weight_fraction_leaf=0.0, n_estimators=10, n_jobs=1,\n",
       "            oob_score=False, random_state=None, verbose=0,\n",
       "            warm_start=False)"
      ]
     },
     "execution_count": 51,
     "metadata": {},
     "output_type": "execute_result"
    }
   ],
   "source": [
    "gs.best_estimator_"
   ]
  },
  {
   "cell_type": "code",
   "execution_count": 12,
   "metadata": {},
   "outputs": [
    {
     "data": {
      "application/vnd.jupyter.widget-view+json": {
       "model_id": "4081202584c54eb5aa372ff841365e72",
       "version_major": 2,
       "version_minor": 0
      },
      "text/plain": [
       "A Jupyter Widget"
      ]
     },
     "metadata": {},
     "output_type": "display_data"
    },
    {
     "data": {
      "text/html": [
       "<iframe id=\"igraph\" scrolling=\"no\" style=\"border:none;\" seamless=\"seamless\" src=\"https://plot.ly/~tpjoe33/15.embed\" height=\"525px\" width=\"100%\"></iframe>"
      ],
      "text/plain": [
       "<plotly.tools.PlotlyDisplay object>"
      ]
     },
     "execution_count": 12,
     "metadata": {},
     "output_type": "execute_result"
    }
   ],
   "source": [
    "npi_drug_df = pd.read_pickle('npi_drug_df.pickle')\n",
    "npi_group = pd.read_pickle('npi_group.pickle')\n",
    "\n",
    "pcas = [1, 2, 3, 5, 10, 20, 50, 100]\n",
    "F1_avg = []\n",
    "F1_std = []\n",
    "clf = RandomForestClassifier(bootstrap=True, class_weight=None, criterion='gini',\n",
    "            max_depth=None, max_features=None, max_leaf_nodes=None,\n",
    "            min_impurity_decrease=0.0, min_impurity_split=None,\n",
    "            min_samples_leaf=1, min_samples_split=2,\n",
    "            min_weight_fraction_leaf=0.0, n_estimators=10, n_jobs=1,\n",
    "            oob_score=False, random_state=None, verbose=0,\n",
    "            warm_start=False)\n",
    "\n",
    "for pca in tqdm_notebook(pcas):\n",
    "    pca = decomposition.PCA(n_components=pca)\n",
    "    pca.fit(npi_drug_df)\n",
    "    npi_drug_df_transformed = pca.transform(npi_drug_df)\n",
    "    npi_label = pd.DataFrame(npi_group['is_excluded'].apply(lambda x: 1 if x > 0  else 0))\n",
    "    df = pd.concat([pd.DataFrame(npi_drug_df_transformed, index=npi_label.index), npi_label], axis=1)\n",
    "\n",
    "    df_majority = df[df['is_excluded'] == 0]\n",
    "    df_minority = df[df['is_excluded'] > 0]\n",
    "\n",
    "    df_minority_upsampled = resample(df_minority, replace=True, n_samples=5480, random_state=42) # Increase by 10 times\n",
    "    df_upsampled = pd.concat([df_majority, df_minority_upsampled])  \n",
    "    df_upsampled['is_excluded'].value_counts()\n",
    "    X = df_upsampled.drop(['is_excluded'], axis=1)\n",
    "    y = df_upsampled['is_excluded']\n",
    "\n",
    "    cv_results = cross_validate(clf, X, y, scoring='f1', cv=3, return_train_score=False)\n",
    "    F1_avg.append(cv_results['test_score'].mean())\n",
    "    F1_std.append(np.std(cv_results['test_score']))\n",
    "    \n",
    "# Plotting\n",
    "data = [go.Scatter(x=pcas, y=F1_avg, error_y=dict(type='data', array=F1_std, visible=True, color=\"#6baed6\", thickness=1.5),\n",
    "                  marker=dict(color=\"#9ecae1\",size=8))]\n",
    "\n",
    "layout = go.Layout(\n",
    "    title='Performance of Random Forest with Increasing Components',\n",
    "    #width=500,\n",
    "    xaxis=dict(autorange=True, showgrid=True, zeroline=False, showline=False, autotick=True, ticks='',\n",
    "               showticklabels=True),\n",
    "    yaxis=dict(title='F1 Score', zeroline=False))\n",
    "\n",
    "fig= go.Figure(data=data, layout=layout)\n",
    "py.iplot(fig, filename='PCAEffects')"
   ]
  }
 ],
 "metadata": {
  "kernelspec": {
   "display_name": "Python 3",
   "language": "python",
   "name": "python3"
  },
  "language_info": {
   "codemirror_mode": {
    "name": "ipython",
    "version": 3
   },
   "file_extension": ".py",
   "mimetype": "text/x-python",
   "name": "python",
   "nbconvert_exporter": "python",
   "pygments_lexer": "ipython3",
   "version": "3.6.3"
  }
 },
 "nbformat": 4,
 "nbformat_minor": 2
}
