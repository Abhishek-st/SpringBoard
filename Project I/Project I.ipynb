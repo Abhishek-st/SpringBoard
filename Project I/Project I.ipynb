{
 "cells": [
  {
   "cell_type": "markdown",
   "metadata": {},
   "source": [
    "# **Inspiration**\n",
    "In an aging society, medicare has becoming inceasingly vital. Unfortunately, with modern US Healthcare programs’ complexity and sophistication, fraud losses in healthcare cost US taxpayers a staggering amount, to quote from the Justice Department,\n",
    "\n",
    "> \"Health care fraud costs the United States tens of billions of dollars each year. Some estimates put the figure close to \\$100 billion a year.  It is a rising threat, with national health care expenditures estimated to exceed \\$3 trillion in 2014.\" \n",
    "[- U.S. Department of Justice](http://www.justice.gov/criminal-fraud/health-care-fraud-unit)\n",
    "\n",
    "# **Goals**\n",
    "Using High Performance Computer Cluster (HPCC), we aim to tackle this data using a big data-driven approach, particularly we hope to:\n",
    "1. Detect patterns of fraud medicare providers.\n",
    "2. Build classification models to detect these providers.\n",
    "\n",
    "Solutions to all problems start with gathering data and seeing the big picture through big data analytics lens, here we employed a combination of data from the [CMS Medicare 2014 Part D data](https://cloud.google.com/bigquery/public-data/medicare) from Google BigQuery (21 million observations), [Medicare Exclusion list ](https://oig.hhs.gov/exclusions/exclusions_list.asp#instruct) from the Office of Inspector General, and a [geographical dataset](https://simplemaps.com/data/us-cities).\n",
    "\n",
    "# **Results & Discussions**\n",
    "All graphical results and discussions were generated suing Plotly **and are not kept in the notebook** please refer to https://plot.ly/~tpjoe33/12/catching-medicare-fraud-providers-from-sale-anomalies/ to see the dashboard of these results as well as the analyses.\n",
    "\n",
    "\n",
    "# Table of contents\n",
    "1. [Medicare Data Exploration](#medExp)\n",
    "    1. [Top 10 Drugs in Medicare](#medTop)\n",
    "    2. [Who Use Medicare?](#medUse)\n",
    "    3. [Medicare Drug Price Disparity across States](#medMap)\n",
    "2. [Exploring Excluded Providers](#excProvider)\n",
    "    1. [Top 10 Drugs Sold by Excluded Providers](#excDrug)\n",
    "    2. [Drug Selling Statistics of Excluded Providers](#excBehavior)\n",
    "    3. [Specialty of Exlcuded Providers](#excSpecialty)\n",
    "    4. [Statistical Analysis of Fraud Providers](#excStats)\n",
    "3. [Classification Models](#classModel)\n",
    "    1. [Classification of Drug Providers](#classPro)\n",
    "        1. [Principal Components Analysis](#classPCA)\n",
    "        2. [Training without Resampling](#classNoUpDown)\n",
    "        3. [Training after Upsampling](#classUpDown)\n",
    "    2. [Classification Models Comparison](#compModel)\n",
    "    3. [Model Optimization](#optModel)\n",
    "        1. [Grid Search CV](#optGrid)\n",
    "        2. [OptimizingPCA Components](#optPCA)"
   ]
  },
  {
   "cell_type": "code",
   "execution_count": 1,
   "metadata": {
    "collapsed": true
   },
   "outputs": [],
   "source": [
    "# importing libraries\n",
    "import pandas as pd\n",
    "import numpy as np\n",
    "import matplotlib.pyplot as plt\n",
    "from tqdm import tqdm_notebook, tqdm\n",
    "import glob, os    \n",
    "import plotly.plotly as py\n",
    "import plotly.graph_objs as go\n",
    "import plotly.figure_factory as ff\n",
    "import plotly\n",
    "import addfips\n",
    "from scipy.stats import f_oneway, spearmanr\n",
    "from sklearn.preprocessing import LabelEncoder\n",
    "plotly.tools.set_credentials_file(username='tpjoe33', api_key='rc1Ncjms567YGfGS9VlU')\n",
    "\n",
    "states = ['AK', 'AL', 'AZ', 'AR', 'CA', 'CO', 'CT', 'DE', 'FL', 'GA', \\\n",
    "          'HI', 'ID', 'IL', 'IN', 'IA', 'KS', 'KY', 'LA', 'ME', 'MD', \\\n",
    "          'MA', 'MI', 'MN', 'MS', 'MO', 'MT', 'NE', 'NV', 'NH', 'NJ', \\\n",
    "          'NM', 'NY', 'NC', 'ND', 'OH', 'OK', 'OR', 'PA', 'RI', 'SC', \\\n",
    "          'SD', 'TN', 'TX', 'UT', 'VT', 'VA', 'WA', 'WV', 'WI',' WY']"
   ]
  },
  {
   "cell_type": "code",
   "execution_count": 2,
   "metadata": {},
   "outputs": [
    {
     "name": "stderr",
     "output_type": "stream",
     "text": [
      "/mnt/home/phongpre/anaconda3-singularity/lib/python3.6/site-packages/IPython/core/interactiveshell.py:2862: DtypeWarning:\n",
      "\n",
      "Columns (16) have mixed types. Specify dtype option on import or set low_memory=False.\n",
      "\n"
     ]
    },
    {
     "name": "stdout",
     "output_type": "stream",
     "text": [
      "The data has a size of (24121659, 9)\n"
     ]
    }
   ],
   "source": [
    "# importing data\n",
    "part_d_exp_df = pd.concat(map(pd.read_csv, glob.glob(os.path.join('Data/cms_medicare_test/', \\\n",
    "                                                              \"part_d_prescriber_2014*.csv\"))))\n",
    "exclusion_df = pd.read_csv('Data/Exclusion_list.csv', low_memory=False)\n",
    "\n",
    "part_d_exp_df = part_d_exp_df[['npi', 'nppes_provider_city','nppes_provider_state', 'specialty_description', 'description_flag',\\\n",
    "                        'drug_name', 'generic_name', 'bene_count', 'total_claim_count','total_day_supply', \\\n",
    "                        'total_drug_cost', 'bene_count_ge65', 'total_claim_count_ge65', 'total_day_supply_ge65',\\\n",
    "                        'total_drug_cost_ge65']]\n",
    "\n",
    "# assigning exclusion (False = 0, True = 1)\n",
    "exclusion_npi = exclusion_df['NPI'][exclusion_df['NPI'] != 0].values.tolist()\n",
    "part_d_exp_df['is_excluded'] = 0\n",
    "num_excluded = len(part_d_exp_df.loc[part_d_exp_df['npi'].isin(exclusion_npi)])\n",
    "part_d_exp_df.loc[part_d_exp_df['npi'].isin(exclusion_npi), 'is_excluded'] = 1\n",
    "\n",
    "# separating dataset for training models and for data exploration\n",
    "part_d_df = part_d_exp_df[['npi', 'nppes_provider_city', 'nppes_provider_state', 'specialty_description', \\\n",
    "                      'drug_name', 'total_claim_count', 'total_day_supply', 'total_drug_cost', 'is_excluded']]\n",
    "part_d_exp_df = part_d_exp_df[part_d_df['nppes_provider_state'].isin(states)]\n",
    "\n",
    "print(\"The data has a size of {}\".format(part_d_df.shape))"
   ]
  },
  {
   "cell_type": "markdown",
   "metadata": {},
   "source": [
    "# Medicare Data Exploration <a name=\"medExp\"></a>"
   ]
  },
  {
   "cell_type": "code",
   "execution_count": 3,
   "metadata": {},
   "outputs": [
    {
     "name": "stderr",
     "output_type": "stream",
     "text": [
      "/mnt/home/phongpre/anaconda3-singularity/lib/python3.6/site-packages/IPython/core/interactiveshell.py:2862: DtypeWarning:\n",
      "\n",
      "Columns (16) have mixed types. Specify dtype option on import or set low_memory=False.\n",
      "\n"
     ]
    },
    {
     "name": "stdout",
     "output_type": "stream",
     "text": [
      "The data has a size of (2370690, 16)\n"
     ]
    }
   ],
   "source": [
    "# Comparing statistics to show that just 1/10th of the data is sufficient\n",
    "\n",
    "# importing data\n",
    "part_d_exp_df_small = pd.concat(map(pd.read_csv, glob.glob(os.path.join('Data/cms_medicare_test/', \\\n",
    "                                                              \"part_d_prescriber_2014000000000000.csv\"))))\n",
    "\n",
    "part_d_exp_df_small = part_d_exp_df_small[['npi', 'nppes_provider_city','nppes_provider_state', 'specialty_description', \\\n",
    "                        'description_flag',\\\n",
    "                        'drug_name', 'generic_name', 'bene_count', 'total_claim_count','total_day_supply', \\\n",
    "                        'total_drug_cost', 'bene_count_ge65', 'total_claim_count_ge65', 'total_day_supply_ge65',\\\n",
    "                        'total_drug_cost_ge65']]\n",
    "\n",
    "# assigning exclusion (False = 0, True = 1)\n",
    "part_d_exp_df_small['is_excluded'] = 0\n",
    "num_excluded = len(part_d_exp_df_small.loc[part_d_exp_df_small['npi'].isin(exclusion_npi)])\n",
    "part_d_exp_df_small.loc[part_d_exp_df_small['npi'].isin(exclusion_npi), 'is_excluded'] = 1\n",
    "\n",
    "# separating dataset for training models and for data exploration\n",
    "part_d_df = part_d_exp_df_small[['npi', 'nppes_provider_city', 'nppes_provider_state', 'specialty_description', \\\n",
    "                      'drug_name', 'total_claim_count', 'total_day_supply', 'total_drug_cost', 'is_excluded']]\n",
    "part_d_exp_df_small = part_d_exp_df_small[part_d_exp_df_small['nppes_provider_state'].isin(states)]\n",
    "\n",
    "print(\"The data has a size of {}\".format(part_d_exp_df_small.shape))"
   ]
  },
  {
   "cell_type": "code",
   "execution_count": 4,
   "metadata": {},
   "outputs": [
    {
     "data": {
      "text/html": [
       "<div>\n",
       "<style>\n",
       "    .dataframe thead tr:only-child th {\n",
       "        text-align: right;\n",
       "    }\n",
       "\n",
       "    .dataframe thead th {\n",
       "        text-align: left;\n",
       "    }\n",
       "\n",
       "    .dataframe tbody tr th {\n",
       "        vertical-align: top;\n",
       "    }\n",
       "</style>\n",
       "<table border=\"1\" class=\"dataframe\">\n",
       "  <thead>\n",
       "    <tr style=\"text-align: right;\">\n",
       "      <th></th>\n",
       "      <th>npi</th>\n",
       "      <th>nppes_provider_city</th>\n",
       "      <th>nppes_provider_state</th>\n",
       "      <th>specialty_description</th>\n",
       "      <th>description_flag</th>\n",
       "      <th>drug_name</th>\n",
       "      <th>generic_name</th>\n",
       "      <th>bene_count</th>\n",
       "      <th>total_claim_count</th>\n",
       "      <th>total_day_supply</th>\n",
       "      <th>total_drug_cost</th>\n",
       "      <th>bene_count_ge65</th>\n",
       "      <th>total_claim_count_ge65</th>\n",
       "      <th>total_day_supply_ge65</th>\n",
       "      <th>total_drug_cost_ge65</th>\n",
       "      <th>is_excluded</th>\n",
       "    </tr>\n",
       "  </thead>\n",
       "  <tbody>\n",
       "    <tr>\n",
       "      <th>0</th>\n",
       "      <td>1780617977</td>\n",
       "      <td>LAKELAND</td>\n",
       "      <td>FL</td>\n",
       "      <td>Internal Medicine</td>\n",
       "      <td>S</td>\n",
       "      <td>CLOPIDOGREL</td>\n",
       "      <td>CLOPIDOGREL BISULFATE</td>\n",
       "      <td>18.0</td>\n",
       "      <td>131</td>\n",
       "      <td>3424</td>\n",
       "      <td>1675.80</td>\n",
       "      <td>18.0</td>\n",
       "      <td>131.0</td>\n",
       "      <td>3424.0</td>\n",
       "      <td>1675.80</td>\n",
       "      <td>0</td>\n",
       "    </tr>\n",
       "    <tr>\n",
       "      <th>1</th>\n",
       "      <td>1386698769</td>\n",
       "      <td>MADISON</td>\n",
       "      <td>WI</td>\n",
       "      <td>Internal Medicine</td>\n",
       "      <td>S</td>\n",
       "      <td>LOVASTATIN</td>\n",
       "      <td>LOVASTATIN</td>\n",
       "      <td>54.0</td>\n",
       "      <td>204</td>\n",
       "      <td>15935</td>\n",
       "      <td>3503.89</td>\n",
       "      <td>NaN</td>\n",
       "      <td>191.0</td>\n",
       "      <td>15571.0</td>\n",
       "      <td>3383.69</td>\n",
       "      <td>0</td>\n",
       "    </tr>\n",
       "    <tr>\n",
       "      <th>2</th>\n",
       "      <td>1639266943</td>\n",
       "      <td>PARAMUS</td>\n",
       "      <td>NJ</td>\n",
       "      <td>Psychiatry</td>\n",
       "      <td>S</td>\n",
       "      <td>DIVALPROEX SODIUM ER</td>\n",
       "      <td>DIVALPROEX SODIUM</td>\n",
       "      <td>72.0</td>\n",
       "      <td>625</td>\n",
       "      <td>19241</td>\n",
       "      <td>83359.87</td>\n",
       "      <td>15.0</td>\n",
       "      <td>127.0</td>\n",
       "      <td>3838.0</td>\n",
       "      <td>12314.47</td>\n",
       "      <td>0</td>\n",
       "    </tr>\n",
       "    <tr>\n",
       "      <th>3</th>\n",
       "      <td>1265530091</td>\n",
       "      <td>VINELAND</td>\n",
       "      <td>NJ</td>\n",
       "      <td>Neurology</td>\n",
       "      <td>S</td>\n",
       "      <td>PRIMIDONE</td>\n",
       "      <td>PRIMIDONE</td>\n",
       "      <td>20.0</td>\n",
       "      <td>107</td>\n",
       "      <td>4300</td>\n",
       "      <td>3274.06</td>\n",
       "      <td>NaN</td>\n",
       "      <td>63.0</td>\n",
       "      <td>2730.0</td>\n",
       "      <td>1894.44</td>\n",
       "      <td>0</td>\n",
       "    </tr>\n",
       "    <tr>\n",
       "      <th>4</th>\n",
       "      <td>1336300433</td>\n",
       "      <td>HUEYTOWN</td>\n",
       "      <td>AL</td>\n",
       "      <td>Family Practice</td>\n",
       "      <td>S</td>\n",
       "      <td>MONTELUKAST SODIUM</td>\n",
       "      <td>MONTELUKAST SODIUM</td>\n",
       "      <td>28.0</td>\n",
       "      <td>95</td>\n",
       "      <td>4110</td>\n",
       "      <td>3768.61</td>\n",
       "      <td>NaN</td>\n",
       "      <td>63.0</td>\n",
       "      <td>2670.0</td>\n",
       "      <td>2455.28</td>\n",
       "      <td>0</td>\n",
       "    </tr>\n",
       "  </tbody>\n",
       "</table>\n",
       "</div>"
      ],
      "text/plain": [
       "          npi nppes_provider_city nppes_provider_state specialty_description  \\\n",
       "0  1780617977            LAKELAND                   FL     Internal Medicine   \n",
       "1  1386698769             MADISON                   WI     Internal Medicine   \n",
       "2  1639266943             PARAMUS                   NJ            Psychiatry   \n",
       "3  1265530091            VINELAND                   NJ             Neurology   \n",
       "4  1336300433            HUEYTOWN                   AL       Family Practice   \n",
       "\n",
       "  description_flag             drug_name           generic_name  bene_count  \\\n",
       "0                S           CLOPIDOGREL  CLOPIDOGREL BISULFATE        18.0   \n",
       "1                S            LOVASTATIN             LOVASTATIN        54.0   \n",
       "2                S  DIVALPROEX SODIUM ER      DIVALPROEX SODIUM        72.0   \n",
       "3                S             PRIMIDONE              PRIMIDONE        20.0   \n",
       "4                S    MONTELUKAST SODIUM     MONTELUKAST SODIUM        28.0   \n",
       "\n",
       "   total_claim_count  total_day_supply  total_drug_cost  bene_count_ge65  \\\n",
       "0                131              3424          1675.80             18.0   \n",
       "1                204             15935          3503.89              NaN   \n",
       "2                625             19241         83359.87             15.0   \n",
       "3                107              4300          3274.06              NaN   \n",
       "4                 95              4110          3768.61              NaN   \n",
       "\n",
       "   total_claim_count_ge65  total_day_supply_ge65  total_drug_cost_ge65  \\\n",
       "0                   131.0                 3424.0               1675.80   \n",
       "1                   191.0                15571.0               3383.69   \n",
       "2                   127.0                 3838.0              12314.47   \n",
       "3                    63.0                 2730.0               1894.44   \n",
       "4                    63.0                 2670.0               2455.28   \n",
       "\n",
       "   is_excluded  \n",
       "0            0  \n",
       "1            0  \n",
       "2            0  \n",
       "3            0  \n",
       "4            0  "
      ]
     },
     "execution_count": 4,
     "metadata": {},
     "output_type": "execute_result"
    }
   ],
   "source": [
    "# Some basic statistics\n",
    "part_d_exp_df.head()"
   ]
  },
  {
   "cell_type": "code",
   "execution_count": 5,
   "metadata": {},
   "outputs": [
    {
     "data": {
      "text/html": [
       "<div>\n",
       "<style>\n",
       "    .dataframe thead tr:only-child th {\n",
       "        text-align: right;\n",
       "    }\n",
       "\n",
       "    .dataframe thead th {\n",
       "        text-align: left;\n",
       "    }\n",
       "\n",
       "    .dataframe tbody tr th {\n",
       "        vertical-align: top;\n",
       "    }\n",
       "</style>\n",
       "<table border=\"1\" class=\"dataframe\">\n",
       "  <thead>\n",
       "    <tr style=\"text-align: right;\">\n",
       "      <th></th>\n",
       "      <th>bene_count</th>\n",
       "      <th>total_claim_count</th>\n",
       "      <th>total_day_supply</th>\n",
       "      <th>total_drug_cost</th>\n",
       "      <th>bene_count_ge65</th>\n",
       "      <th>total_claim_count_ge65</th>\n",
       "      <th>total_day_supply_ge65</th>\n",
       "      <th>total_drug_cost_ge65</th>\n",
       "      <th>is_excluded</th>\n",
       "    </tr>\n",
       "  </thead>\n",
       "  <tbody>\n",
       "    <tr>\n",
       "      <th>count</th>\n",
       "      <td>8.917242e+06</td>\n",
       "      <td>2.369819e+07</td>\n",
       "      <td>2.369819e+07</td>\n",
       "      <td>2.369819e+07</td>\n",
       "      <td>3.252909e+06</td>\n",
       "      <td>1.376405e+07</td>\n",
       "      <td>1.376405e+07</td>\n",
       "      <td>1.376405e+07</td>\n",
       "      <td>2.369819e+07</td>\n",
       "    </tr>\n",
       "    <tr>\n",
       "      <th>mean</th>\n",
       "      <td>2.815924e+01</td>\n",
       "      <td>5.068579e+01</td>\n",
       "      <td>2.032655e+03</td>\n",
       "      <td>3.921015e+03</td>\n",
       "      <td>1.922530e+01</td>\n",
       "      <td>4.723445e+01</td>\n",
       "      <td>1.994020e+03</td>\n",
       "      <td>3.156197e+03</td>\n",
       "      <td>1.492182e-03</td>\n",
       "    </tr>\n",
       "    <tr>\n",
       "      <th>std</th>\n",
       "      <td>3.471427e+01</td>\n",
       "      <td>8.534779e+01</td>\n",
       "      <td>3.668137e+03</td>\n",
       "      <td>2.518444e+04</td>\n",
       "      <td>4.549501e+01</td>\n",
       "      <td>8.564511e+01</td>\n",
       "      <td>3.774252e+03</td>\n",
       "      <td>1.704328e+04</td>\n",
       "      <td>3.859994e-02</td>\n",
       "    </tr>\n",
       "    <tr>\n",
       "      <th>min</th>\n",
       "      <td>1.100000e+01</td>\n",
       "      <td>1.100000e+01</td>\n",
       "      <td>5.000000e+00</td>\n",
       "      <td>0.000000e+00</td>\n",
       "      <td>0.000000e+00</td>\n",
       "      <td>0.000000e+00</td>\n",
       "      <td>0.000000e+00</td>\n",
       "      <td>0.000000e+00</td>\n",
       "      <td>0.000000e+00</td>\n",
       "    </tr>\n",
       "    <tr>\n",
       "      <th>25%</th>\n",
       "      <td>1.400000e+01</td>\n",
       "      <td>1.500000e+01</td>\n",
       "      <td>4.500000e+02</td>\n",
       "      <td>2.726400e+02</td>\n",
       "      <td>0.000000e+00</td>\n",
       "      <td>1.300000e+01</td>\n",
       "      <td>3.900000e+02</td>\n",
       "      <td>2.110900e+02</td>\n",
       "      <td>0.000000e+00</td>\n",
       "    </tr>\n",
       "    <tr>\n",
       "      <th>50%</th>\n",
       "      <td>1.900000e+01</td>\n",
       "      <td>2.400000e+01</td>\n",
       "      <td>9.000000e+02</td>\n",
       "      <td>7.289100e+02</td>\n",
       "      <td>1.300000e+01</td>\n",
       "      <td>2.100000e+01</td>\n",
       "      <td>8.400000e+02</td>\n",
       "      <td>6.336500e+02</td>\n",
       "      <td>0.000000e+00</td>\n",
       "    </tr>\n",
       "    <tr>\n",
       "      <th>75%</th>\n",
       "      <td>3.200000e+01</td>\n",
       "      <td>5.000000e+01</td>\n",
       "      <td>1.980000e+03</td>\n",
       "      <td>2.529830e+03</td>\n",
       "      <td>2.300000e+01</td>\n",
       "      <td>4.600000e+01</td>\n",
       "      <td>1.890000e+03</td>\n",
       "      <td>2.257440e+03</td>\n",
       "      <td>0.000000e+00</td>\n",
       "    </tr>\n",
       "    <tr>\n",
       "      <th>max</th>\n",
       "      <td>2.784600e+04</td>\n",
       "      <td>2.791000e+04</td>\n",
       "      <td>4.870920e+05</td>\n",
       "      <td>1.299307e+07</td>\n",
       "      <td>2.634400e+04</td>\n",
       "      <td>2.640300e+04</td>\n",
       "      <td>4.616540e+05</td>\n",
       "      <td>6.352059e+06</td>\n",
       "      <td>1.000000e+00</td>\n",
       "    </tr>\n",
       "  </tbody>\n",
       "</table>\n",
       "</div>"
      ],
      "text/plain": [
       "         bene_count  total_claim_count  total_day_supply  total_drug_cost  \\\n",
       "count  8.917242e+06       2.369819e+07      2.369819e+07     2.369819e+07   \n",
       "mean   2.815924e+01       5.068579e+01      2.032655e+03     3.921015e+03   \n",
       "std    3.471427e+01       8.534779e+01      3.668137e+03     2.518444e+04   \n",
       "min    1.100000e+01       1.100000e+01      5.000000e+00     0.000000e+00   \n",
       "25%    1.400000e+01       1.500000e+01      4.500000e+02     2.726400e+02   \n",
       "50%    1.900000e+01       2.400000e+01      9.000000e+02     7.289100e+02   \n",
       "75%    3.200000e+01       5.000000e+01      1.980000e+03     2.529830e+03   \n",
       "max    2.784600e+04       2.791000e+04      4.870920e+05     1.299307e+07   \n",
       "\n",
       "       bene_count_ge65  total_claim_count_ge65  total_day_supply_ge65  \\\n",
       "count     3.252909e+06            1.376405e+07           1.376405e+07   \n",
       "mean      1.922530e+01            4.723445e+01           1.994020e+03   \n",
       "std       4.549501e+01            8.564511e+01           3.774252e+03   \n",
       "min       0.000000e+00            0.000000e+00           0.000000e+00   \n",
       "25%       0.000000e+00            1.300000e+01           3.900000e+02   \n",
       "50%       1.300000e+01            2.100000e+01           8.400000e+02   \n",
       "75%       2.300000e+01            4.600000e+01           1.890000e+03   \n",
       "max       2.634400e+04            2.640300e+04           4.616540e+05   \n",
       "\n",
       "       total_drug_cost_ge65   is_excluded  \n",
       "count          1.376405e+07  2.369819e+07  \n",
       "mean           3.156197e+03  1.492182e-03  \n",
       "std            1.704328e+04  3.859994e-02  \n",
       "min            0.000000e+00  0.000000e+00  \n",
       "25%            2.110900e+02  0.000000e+00  \n",
       "50%            6.336500e+02  0.000000e+00  \n",
       "75%            2.257440e+03  0.000000e+00  \n",
       "max            6.352059e+06  1.000000e+00  "
      ]
     },
     "execution_count": 5,
     "metadata": {},
     "output_type": "execute_result"
    }
   ],
   "source": [
    "description = part_d_exp_df.drop(['npi'], axis=1).describe()\n",
    "drug_cost = part_d_exp_df.total_drug_cost.sum()\n",
    "n_providers = len(part_d_exp_df['npi'].unique())\n",
    "n_drugs = len(part_d_exp_df['drug_name'].unique())\n",
    "description"
   ]
  },
  {
   "cell_type": "code",
   "execution_count": 6,
   "metadata": {},
   "outputs": [
    {
     "data": {
      "text/html": [
       "<div>\n",
       "<style>\n",
       "    .dataframe thead tr:only-child th {\n",
       "        text-align: right;\n",
       "    }\n",
       "\n",
       "    .dataframe thead th {\n",
       "        text-align: left;\n",
       "    }\n",
       "\n",
       "    .dataframe tbody tr th {\n",
       "        vertical-align: top;\n",
       "    }\n",
       "</style>\n",
       "<table border=\"1\" class=\"dataframe\">\n",
       "  <thead>\n",
       "    <tr style=\"text-align: right;\">\n",
       "      <th></th>\n",
       "      <th>bene_count</th>\n",
       "      <th>total_claim_count</th>\n",
       "      <th>total_day_supply</th>\n",
       "      <th>total_drug_cost</th>\n",
       "      <th>bene_count_ge65</th>\n",
       "      <th>total_claim_count_ge65</th>\n",
       "      <th>total_day_supply_ge65</th>\n",
       "      <th>total_drug_cost_ge65</th>\n",
       "      <th>is_excluded</th>\n",
       "    </tr>\n",
       "  </thead>\n",
       "  <tbody>\n",
       "    <tr>\n",
       "      <th>count</th>\n",
       "      <td>891887.000000</td>\n",
       "      <td>2.370690e+06</td>\n",
       "      <td>2.370690e+06</td>\n",
       "      <td>2.370690e+06</td>\n",
       "      <td>325790.000000</td>\n",
       "      <td>1.376967e+06</td>\n",
       "      <td>1.376967e+06</td>\n",
       "      <td>1.376967e+06</td>\n",
       "      <td>2.370690e+06</td>\n",
       "    </tr>\n",
       "    <tr>\n",
       "      <th>mean</th>\n",
       "      <td>28.121495</td>\n",
       "      <td>5.061300e+01</td>\n",
       "      <td>2.029100e+03</td>\n",
       "      <td>3.896101e+03</td>\n",
       "      <td>19.180982</td>\n",
       "      <td>4.719371e+01</td>\n",
       "      <td>1.991088e+03</td>\n",
       "      <td>3.153375e+03</td>\n",
       "      <td>1.507578e-03</td>\n",
       "    </tr>\n",
       "    <tr>\n",
       "      <th>std</th>\n",
       "      <td>31.892433</td>\n",
       "      <td>8.486771e+01</td>\n",
       "      <td>3.654336e+03</td>\n",
       "      <td>2.636795e+04</td>\n",
       "      <td>39.753690</td>\n",
       "      <td>8.481081e+01</td>\n",
       "      <td>3.754481e+03</td>\n",
       "      <td>1.771318e+04</td>\n",
       "      <td>3.879827e-02</td>\n",
       "    </tr>\n",
       "    <tr>\n",
       "      <th>min</th>\n",
       "      <td>11.000000</td>\n",
       "      <td>1.100000e+01</td>\n",
       "      <td>8.000000e+00</td>\n",
       "      <td>1.000000e-02</td>\n",
       "      <td>0.000000</td>\n",
       "      <td>0.000000e+00</td>\n",
       "      <td>0.000000e+00</td>\n",
       "      <td>0.000000e+00</td>\n",
       "      <td>0.000000e+00</td>\n",
       "    </tr>\n",
       "    <tr>\n",
       "      <th>25%</th>\n",
       "      <td>14.000000</td>\n",
       "      <td>1.500000e+01</td>\n",
       "      <td>4.500000e+02</td>\n",
       "      <td>2.729500e+02</td>\n",
       "      <td>0.000000</td>\n",
       "      <td>1.300000e+01</td>\n",
       "      <td>3.900000e+02</td>\n",
       "      <td>2.113200e+02</td>\n",
       "      <td>0.000000e+00</td>\n",
       "    </tr>\n",
       "    <tr>\n",
       "      <th>50%</th>\n",
       "      <td>19.000000</td>\n",
       "      <td>2.400000e+01</td>\n",
       "      <td>9.000000e+02</td>\n",
       "      <td>7.290700e+02</td>\n",
       "      <td>13.000000</td>\n",
       "      <td>2.100000e+01</td>\n",
       "      <td>8.400000e+02</td>\n",
       "      <td>6.344500e+02</td>\n",
       "      <td>0.000000e+00</td>\n",
       "    </tr>\n",
       "    <tr>\n",
       "      <th>75%</th>\n",
       "      <td>32.000000</td>\n",
       "      <td>5.000000e+01</td>\n",
       "      <td>1.980000e+03</td>\n",
       "      <td>2.531090e+03</td>\n",
       "      <td>23.000000</td>\n",
       "      <td>4.600000e+01</td>\n",
       "      <td>1.890000e+03</td>\n",
       "      <td>2.256080e+03</td>\n",
       "      <td>0.000000e+00</td>\n",
       "    </tr>\n",
       "    <tr>\n",
       "      <th>max</th>\n",
       "      <td>12576.000000</td>\n",
       "      <td>1.261500e+04</td>\n",
       "      <td>1.973270e+05</td>\n",
       "      <td>9.534891e+06</td>\n",
       "      <td>11044.000000</td>\n",
       "      <td>1.107600e+04</td>\n",
       "      <td>1.823230e+05</td>\n",
       "      <td>6.352059e+06</td>\n",
       "      <td>1.000000e+00</td>\n",
       "    </tr>\n",
       "  </tbody>\n",
       "</table>\n",
       "</div>"
      ],
      "text/plain": [
       "          bene_count  total_claim_count  total_day_supply  total_drug_cost  \\\n",
       "count  891887.000000       2.370690e+06      2.370690e+06     2.370690e+06   \n",
       "mean       28.121495       5.061300e+01      2.029100e+03     3.896101e+03   \n",
       "std        31.892433       8.486771e+01      3.654336e+03     2.636795e+04   \n",
       "min        11.000000       1.100000e+01      8.000000e+00     1.000000e-02   \n",
       "25%        14.000000       1.500000e+01      4.500000e+02     2.729500e+02   \n",
       "50%        19.000000       2.400000e+01      9.000000e+02     7.290700e+02   \n",
       "75%        32.000000       5.000000e+01      1.980000e+03     2.531090e+03   \n",
       "max     12576.000000       1.261500e+04      1.973270e+05     9.534891e+06   \n",
       "\n",
       "       bene_count_ge65  total_claim_count_ge65  total_day_supply_ge65  \\\n",
       "count    325790.000000            1.376967e+06           1.376967e+06   \n",
       "mean         19.180982            4.719371e+01           1.991088e+03   \n",
       "std          39.753690            8.481081e+01           3.754481e+03   \n",
       "min           0.000000            0.000000e+00           0.000000e+00   \n",
       "25%           0.000000            1.300000e+01           3.900000e+02   \n",
       "50%          13.000000            2.100000e+01           8.400000e+02   \n",
       "75%          23.000000            4.600000e+01           1.890000e+03   \n",
       "max       11044.000000            1.107600e+04           1.823230e+05   \n",
       "\n",
       "       total_drug_cost_ge65   is_excluded  \n",
       "count          1.376967e+06  2.370690e+06  \n",
       "mean           3.153375e+03  1.507578e-03  \n",
       "std            1.771318e+04  3.879827e-02  \n",
       "min            0.000000e+00  0.000000e+00  \n",
       "25%            2.113200e+02  0.000000e+00  \n",
       "50%            6.344500e+02  0.000000e+00  \n",
       "75%            2.256080e+03  0.000000e+00  \n",
       "max            6.352059e+06  1.000000e+00  "
      ]
     },
     "execution_count": 6,
     "metadata": {},
     "output_type": "execute_result"
    }
   ],
   "source": [
    "description_small = part_d_exp_df_small.drop(['npi'], axis=1).describe()\n",
    "drug_cost_small = part_d_exp_df_small.total_drug_cost.sum()\n",
    "n_providers_small = len(part_d_exp_df_small['npi'].unique())\n",
    "n_drugs_small = len(part_d_exp_df_small['drug_name'].unique())\n",
    "description_small"
   ]
  },
  {
   "cell_type": "code",
   "execution_count": 7,
   "metadata": {},
   "outputs": [
    {
     "name": "stdout",
     "output_type": "stream",
     "text": [
      "In full dataset, there are 23698188 observations in the dataset. These account to a total of $92920947288 of drug sold from 824785 unique providers with 2695 unique drugs.\n",
      "In 1/10th dataset, there are 2370690 observations in the dataset. These account to a total of $9236446768 of drug sold from 479217 unique providers with 2190 unique drugs.\n"
     ]
    }
   ],
   "source": [
    "# Summary\n",
    "print('In full dataset, there are {} observations in the dataset. These account to a total of ${:.0f} \\\n",
    "of drug sold from {} unique providers with {} unique drugs.'.format(len(part_d_exp_df), drug_cost, n_providers,\n",
    "                                                                           n_drugs))\n",
    "print('In 1/10th dataset, there are {} observations in the dataset. These account to a total of ${:.0f} \\\n",
    "of drug sold from {} unique providers with {} unique drugs.'.format(len(part_d_exp_df_small), drug_cost_small, \n",
    "                                                                           n_providers_small, n_drugs_small))"
   ]
  },
  {
   "cell_type": "code",
   "execution_count": 8,
   "metadata": {
    "collapsed": true
   },
   "outputs": [],
   "source": [
    "# Since the smaller sample (1/10) has the same statistics of interest with the population we use it for the rest of the \n",
    "#analysis\n",
    "part_d_exp_df = part_d_exp_df_small"
   ]
  },
  {
   "cell_type": "code",
   "execution_count": 9,
   "metadata": {
    "collapsed": true
   },
   "outputs": [],
   "source": [
    "tqdm.pandas()\n",
    "county_ref = pd.read_csv('Data/uscitiesv1.4.csv')\n",
    "county_ref['city'] = county_ref['city'].apply(str.upper)\n",
    "def get_fip(city, state):\n",
    "    #if all(x in county_ref[['city', 'state']].values for x in [city, state]):\n",
    "    try:\n",
    "        county = county_ref[(county_ref['city'] == city.upper()) &\\\n",
    "                            (county_ref['state_id'] == state.upper())]['county_fips'].values[0]\n",
    "    except IndexError:\n",
    "        county = None\n",
    "    return county"
   ]
  },
  {
   "cell_type": "code",
   "execution_count": 10,
   "metadata": {
    "collapsed": true
   },
   "outputs": [],
   "source": [
    "# Dataprocessing\n",
    "\n",
    "# generating drug cost and count per beneficiary\n",
    "part_d_exp_df['cost_per_bene'] = part_d_exp_df['total_drug_cost']/part_d_exp_df['bene_count']\n",
    "part_d_df_city_mean = part_d_exp_df.groupby(['nppes_provider_state', 'nppes_provider_city']).mean()\n",
    "part_d_df_city_mean = part_d_df_city_mean.reset_index()\n",
    "part_d_df_city_mean['fip'] = part_d_df_city_mean.apply(lambda x: get_fip(x['nppes_provider_city'], \\\n",
    "                                                                         x['nppes_provider_state']), axis=1)\n",
    "\n",
    "part_d_df_state_sum = part_d_exp_df.groupby(['nppes_provider_state']).sum()\n",
    "part_d_df_state_sum = part_d_df_state_sum.reset_index()"
   ]
  },
  {
   "cell_type": "code",
   "execution_count": 11,
   "metadata": {},
   "outputs": [
    {
     "data": {
      "text/html": [
       "<div>\n",
       "<style>\n",
       "    .dataframe thead tr:only-child th {\n",
       "        text-align: right;\n",
       "    }\n",
       "\n",
       "    .dataframe thead th {\n",
       "        text-align: left;\n",
       "    }\n",
       "\n",
       "    .dataframe tbody tr th {\n",
       "        vertical-align: top;\n",
       "    }\n",
       "</style>\n",
       "<table border=\"1\" class=\"dataframe\">\n",
       "  <thead>\n",
       "    <tr style=\"text-align: right;\">\n",
       "      <th></th>\n",
       "      <th>npi</th>\n",
       "      <th>nppes_provider_city</th>\n",
       "      <th>nppes_provider_state</th>\n",
       "      <th>specialty_description</th>\n",
       "      <th>description_flag</th>\n",
       "      <th>drug_name</th>\n",
       "      <th>generic_name</th>\n",
       "      <th>bene_count</th>\n",
       "      <th>total_claim_count</th>\n",
       "      <th>total_day_supply</th>\n",
       "      <th>total_drug_cost</th>\n",
       "      <th>bene_count_ge65</th>\n",
       "      <th>total_claim_count_ge65</th>\n",
       "      <th>total_day_supply_ge65</th>\n",
       "      <th>total_drug_cost_ge65</th>\n",
       "      <th>is_excluded</th>\n",
       "      <th>cost_per_bene</th>\n",
       "    </tr>\n",
       "  </thead>\n",
       "  <tbody>\n",
       "    <tr>\n",
       "      <th>0</th>\n",
       "      <td>1205995735</td>\n",
       "      <td>GRAND RAPIDS</td>\n",
       "      <td>MI</td>\n",
       "      <td>Psychiatry</td>\n",
       "      <td>S</td>\n",
       "      <td>RISPERIDONE</td>\n",
       "      <td>RISPERIDONE</td>\n",
       "      <td>34.0</td>\n",
       "      <td>448</td>\n",
       "      <td>12858</td>\n",
       "      <td>5699.76</td>\n",
       "      <td>NaN</td>\n",
       "      <td>47.0</td>\n",
       "      <td>1328.0</td>\n",
       "      <td>514.74</td>\n",
       "      <td>0</td>\n",
       "      <td>167.640000</td>\n",
       "    </tr>\n",
       "    <tr>\n",
       "      <th>1</th>\n",
       "      <td>1073887618</td>\n",
       "      <td>NEW KENSINGTON</td>\n",
       "      <td>PA</td>\n",
       "      <td>Nurse Practitioner</td>\n",
       "      <td>S</td>\n",
       "      <td>METOPROLOL TARTRATE</td>\n",
       "      <td>METOPROLOL TARTRATE</td>\n",
       "      <td>16.0</td>\n",
       "      <td>73</td>\n",
       "      <td>3307</td>\n",
       "      <td>501.37</td>\n",
       "      <td>NaN</td>\n",
       "      <td>62.0</td>\n",
       "      <td>2797.0</td>\n",
       "      <td>443.34</td>\n",
       "      <td>0</td>\n",
       "      <td>31.335625</td>\n",
       "    </tr>\n",
       "    <tr>\n",
       "      <th>2</th>\n",
       "      <td>1114960846</td>\n",
       "      <td>CHESTER</td>\n",
       "      <td>VA</td>\n",
       "      <td>Internal Medicine</td>\n",
       "      <td>S</td>\n",
       "      <td>GABAPENTIN</td>\n",
       "      <td>GABAPENTIN</td>\n",
       "      <td>30.0</td>\n",
       "      <td>166</td>\n",
       "      <td>5794</td>\n",
       "      <td>3628.69</td>\n",
       "      <td>NaN</td>\n",
       "      <td>139.0</td>\n",
       "      <td>4804.0</td>\n",
       "      <td>2963.24</td>\n",
       "      <td>0</td>\n",
       "      <td>120.956333</td>\n",
       "    </tr>\n",
       "    <tr>\n",
       "      <th>3</th>\n",
       "      <td>1801991666</td>\n",
       "      <td>GREAT NECK</td>\n",
       "      <td>NY</td>\n",
       "      <td>Internal Medicine</td>\n",
       "      <td>S</td>\n",
       "      <td>ZOLPIDEM TARTRATE</td>\n",
       "      <td>ZOLPIDEM TARTRATE</td>\n",
       "      <td>15.0</td>\n",
       "      <td>87</td>\n",
       "      <td>2610</td>\n",
       "      <td>646.41</td>\n",
       "      <td>15.0</td>\n",
       "      <td>87.0</td>\n",
       "      <td>2610.0</td>\n",
       "      <td>646.41</td>\n",
       "      <td>0</td>\n",
       "      <td>43.094000</td>\n",
       "    </tr>\n",
       "    <tr>\n",
       "      <th>4</th>\n",
       "      <td>1811907694</td>\n",
       "      <td>MARSHFIELD</td>\n",
       "      <td>WI</td>\n",
       "      <td>Internal Medicine</td>\n",
       "      <td>S</td>\n",
       "      <td>LEVOTHYROXINE SODIUM</td>\n",
       "      <td>LEVOTHYROXINE SODIUM</td>\n",
       "      <td>27.0</td>\n",
       "      <td>124</td>\n",
       "      <td>8261</td>\n",
       "      <td>2708.21</td>\n",
       "      <td>NaN</td>\n",
       "      <td>94.0</td>\n",
       "      <td>7248.0</td>\n",
       "      <td>2270.92</td>\n",
       "      <td>0</td>\n",
       "      <td>100.304074</td>\n",
       "    </tr>\n",
       "  </tbody>\n",
       "</table>\n",
       "</div>"
      ],
      "text/plain": [
       "          npi nppes_provider_city nppes_provider_state specialty_description  \\\n",
       "0  1205995735        GRAND RAPIDS                   MI            Psychiatry   \n",
       "1  1073887618      NEW KENSINGTON                   PA    Nurse Practitioner   \n",
       "2  1114960846             CHESTER                   VA     Internal Medicine   \n",
       "3  1801991666          GREAT NECK                   NY     Internal Medicine   \n",
       "4  1811907694          MARSHFIELD                   WI     Internal Medicine   \n",
       "\n",
       "  description_flag             drug_name          generic_name  bene_count  \\\n",
       "0                S           RISPERIDONE           RISPERIDONE        34.0   \n",
       "1                S   METOPROLOL TARTRATE   METOPROLOL TARTRATE        16.0   \n",
       "2                S            GABAPENTIN            GABAPENTIN        30.0   \n",
       "3                S     ZOLPIDEM TARTRATE     ZOLPIDEM TARTRATE        15.0   \n",
       "4                S  LEVOTHYROXINE SODIUM  LEVOTHYROXINE SODIUM        27.0   \n",
       "\n",
       "   total_claim_count  total_day_supply  total_drug_cost  bene_count_ge65  \\\n",
       "0                448             12858          5699.76              NaN   \n",
       "1                 73              3307           501.37              NaN   \n",
       "2                166              5794          3628.69              NaN   \n",
       "3                 87              2610           646.41             15.0   \n",
       "4                124              8261          2708.21              NaN   \n",
       "\n",
       "   total_claim_count_ge65  total_day_supply_ge65  total_drug_cost_ge65  \\\n",
       "0                    47.0                 1328.0                514.74   \n",
       "1                    62.0                 2797.0                443.34   \n",
       "2                   139.0                 4804.0               2963.24   \n",
       "3                    87.0                 2610.0                646.41   \n",
       "4                    94.0                 7248.0               2270.92   \n",
       "\n",
       "   is_excluded  cost_per_bene  \n",
       "0            0     167.640000  \n",
       "1            0      31.335625  \n",
       "2            0     120.956333  \n",
       "3            0      43.094000  \n",
       "4            0     100.304074  "
      ]
     },
     "execution_count": 11,
     "metadata": {},
     "output_type": "execute_result"
    }
   ],
   "source": [
    "part_d_exp_df.head()"
   ]
  },
  {
   "cell_type": "markdown",
   "metadata": {},
   "source": [
    "## Top selling drugs <a name=\"medTopDrug\"></a>"
   ]
  },
  {
   "cell_type": "code",
   "execution_count": 12,
   "metadata": {},
   "outputs": [
    {
     "data": {
      "text/html": [
       "<div>\n",
       "<style>\n",
       "    .dataframe thead tr:only-child th {\n",
       "        text-align: right;\n",
       "    }\n",
       "\n",
       "    .dataframe thead th {\n",
       "        text-align: left;\n",
       "    }\n",
       "\n",
       "    .dataframe tbody tr th {\n",
       "        vertical-align: top;\n",
       "    }\n",
       "</style>\n",
       "<table border=\"1\" class=\"dataframe\">\n",
       "  <thead>\n",
       "    <tr style=\"text-align: right;\">\n",
       "      <th></th>\n",
       "      <th>npi</th>\n",
       "      <th>bene_count</th>\n",
       "      <th>total_claim_count</th>\n",
       "      <th>total_day_supply</th>\n",
       "      <th>total_drug_cost</th>\n",
       "      <th>bene_count_ge65</th>\n",
       "      <th>total_claim_count_ge65</th>\n",
       "      <th>total_day_supply_ge65</th>\n",
       "      <th>total_drug_cost_ge65</th>\n",
       "      <th>is_excluded</th>\n",
       "      <th>cost_per_bene</th>\n",
       "    </tr>\n",
       "    <tr>\n",
       "      <th>drug_name</th>\n",
       "      <th></th>\n",
       "      <th></th>\n",
       "      <th></th>\n",
       "      <th></th>\n",
       "      <th></th>\n",
       "      <th></th>\n",
       "      <th></th>\n",
       "      <th></th>\n",
       "      <th></th>\n",
       "      <th></th>\n",
       "      <th></th>\n",
       "    </tr>\n",
       "  </thead>\n",
       "  <tbody>\n",
       "    <tr>\n",
       "      <th>SOVALDI</th>\n",
       "      <td>334919957399</td>\n",
       "      <td>1744.0</td>\n",
       "      <td>8947</td>\n",
       "      <td>249392</td>\n",
       "      <td>2.532243e+08</td>\n",
       "      <td>373.0</td>\n",
       "      <td>2285.0</td>\n",
       "      <td>63224.0</td>\n",
       "      <td>6.431152e+07</td>\n",
       "      <td>0</td>\n",
       "      <td>6.164863e+06</td>\n",
       "    </tr>\n",
       "    <tr>\n",
       "      <th>NEXIUM</th>\n",
       "      <td>20578028524294</td>\n",
       "      <td>96729.0</td>\n",
       "      <td>692355</td>\n",
       "      <td>28155650</td>\n",
       "      <td>2.408225e+08</td>\n",
       "      <td>18694.0</td>\n",
       "      <td>361872.0</td>\n",
       "      <td>14706560.0</td>\n",
       "      <td>1.240598e+08</td>\n",
       "      <td>22</td>\n",
       "      <td>7.415842e+06</td>\n",
       "    </tr>\n",
       "    <tr>\n",
       "      <th>CRESTOR</th>\n",
       "      <td>22117503819936</td>\n",
       "      <td>142493.0</td>\n",
       "      <td>859939</td>\n",
       "      <td>40713416</td>\n",
       "      <td>2.405247e+08</td>\n",
       "      <td>33921.0</td>\n",
       "      <td>496053.0</td>\n",
       "      <td>23392926.0</td>\n",
       "      <td>1.378722e+08</td>\n",
       "      <td>13</td>\n",
       "      <td>7.805963e+06</td>\n",
       "    </tr>\n",
       "    <tr>\n",
       "      <th>ABILIFY</th>\n",
       "      <td>7661119508988</td>\n",
       "      <td>27551.0</td>\n",
       "      <td>256137</td>\n",
       "      <td>7293705</td>\n",
       "      <td>2.136049e+08</td>\n",
       "      <td>1748.0</td>\n",
       "      <td>65995.0</td>\n",
       "      <td>1652197.0</td>\n",
       "      <td>4.553688e+07</td>\n",
       "      <td>17</td>\n",
       "      <td>5.776493e+06</td>\n",
       "    </tr>\n",
       "    <tr>\n",
       "      <th>ADVAIR DISKUS</th>\n",
       "      <td>19315096251503</td>\n",
       "      <td>92472.0</td>\n",
       "      <td>548362</td>\n",
       "      <td>20763376</td>\n",
       "      <td>2.047796e+08</td>\n",
       "      <td>19869.0</td>\n",
       "      <td>277076.0</td>\n",
       "      <td>10617701.0</td>\n",
       "      <td>1.038534e+08</td>\n",
       "      <td>22</td>\n",
       "      <td>6.195569e+06</td>\n",
       "    </tr>\n",
       "    <tr>\n",
       "      <th>SPIRIVA</th>\n",
       "      <td>17582920119114</td>\n",
       "      <td>78336.0</td>\n",
       "      <td>528665</td>\n",
       "      <td>20295794</td>\n",
       "      <td>1.939975e+08</td>\n",
       "      <td>18825.0</td>\n",
       "      <td>290282.0</td>\n",
       "      <td>11250585.0</td>\n",
       "      <td>1.073756e+08</td>\n",
       "      <td>20</td>\n",
       "      <td>5.204506e+06</td>\n",
       "    </tr>\n",
       "    <tr>\n",
       "      <th>LANTUS SOLOSTAR</th>\n",
       "      <td>14702887588234</td>\n",
       "      <td>58788.0</td>\n",
       "      <td>390512</td>\n",
       "      <td>16936843</td>\n",
       "      <td>1.768381e+08</td>\n",
       "      <td>11568.0</td>\n",
       "      <td>187130.0</td>\n",
       "      <td>8350922.0</td>\n",
       "      <td>8.261926e+07</td>\n",
       "      <td>17</td>\n",
       "      <td>5.044376e+06</td>\n",
       "    </tr>\n",
       "    <tr>\n",
       "      <th>JANUVIA</th>\n",
       "      <td>14287035026624</td>\n",
       "      <td>42439.0</td>\n",
       "      <td>406914</td>\n",
       "      <td>16278137</td>\n",
       "      <td>1.580359e+08</td>\n",
       "      <td>8702.0</td>\n",
       "      <td>239398.0</td>\n",
       "      <td>9493881.0</td>\n",
       "      <td>9.208358e+07</td>\n",
       "      <td>22</td>\n",
       "      <td>4.436018e+06</td>\n",
       "    </tr>\n",
       "    <tr>\n",
       "      <th>REVLIMID</th>\n",
       "      <td>728285969853</td>\n",
       "      <td>846.0</td>\n",
       "      <td>15988</td>\n",
       "      <td>420658</td>\n",
       "      <td>1.499158e+08</td>\n",
       "      <td>361.0</td>\n",
       "      <td>10735.0</td>\n",
       "      <td>283501.0</td>\n",
       "      <td>1.002989e+08</td>\n",
       "      <td>0</td>\n",
       "      <td>1.826141e+06</td>\n",
       "    </tr>\n",
       "    <tr>\n",
       "      <th>LANTUS</th>\n",
       "      <td>13833363099940</td>\n",
       "      <td>38021.0</td>\n",
       "      <td>361274</td>\n",
       "      <td>12061160</td>\n",
       "      <td>1.437975e+08</td>\n",
       "      <td>5565.0</td>\n",
       "      <td>180302.0</td>\n",
       "      <td>5955521.0</td>\n",
       "      <td>6.817516e+07</td>\n",
       "      <td>11</td>\n",
       "      <td>3.651878e+06</td>\n",
       "    </tr>\n",
       "  </tbody>\n",
       "</table>\n",
       "</div>"
      ],
      "text/plain": [
       "                            npi  bene_count  total_claim_count  \\\n",
       "drug_name                                                        \n",
       "SOVALDI            334919957399      1744.0               8947   \n",
       "NEXIUM           20578028524294     96729.0             692355   \n",
       "CRESTOR          22117503819936    142493.0             859939   \n",
       "ABILIFY           7661119508988     27551.0             256137   \n",
       "ADVAIR DISKUS    19315096251503     92472.0             548362   \n",
       "SPIRIVA          17582920119114     78336.0             528665   \n",
       "LANTUS SOLOSTAR  14702887588234     58788.0             390512   \n",
       "JANUVIA          14287035026624     42439.0             406914   \n",
       "REVLIMID           728285969853       846.0              15988   \n",
       "LANTUS           13833363099940     38021.0             361274   \n",
       "\n",
       "                 total_day_supply  total_drug_cost  bene_count_ge65  \\\n",
       "drug_name                                                             \n",
       "SOVALDI                    249392     2.532243e+08            373.0   \n",
       "NEXIUM                   28155650     2.408225e+08          18694.0   \n",
       "CRESTOR                  40713416     2.405247e+08          33921.0   \n",
       "ABILIFY                   7293705     2.136049e+08           1748.0   \n",
       "ADVAIR DISKUS            20763376     2.047796e+08          19869.0   \n",
       "SPIRIVA                  20295794     1.939975e+08          18825.0   \n",
       "LANTUS SOLOSTAR          16936843     1.768381e+08          11568.0   \n",
       "JANUVIA                  16278137     1.580359e+08           8702.0   \n",
       "REVLIMID                   420658     1.499158e+08            361.0   \n",
       "LANTUS                   12061160     1.437975e+08           5565.0   \n",
       "\n",
       "                 total_claim_count_ge65  total_day_supply_ge65  \\\n",
       "drug_name                                                        \n",
       "SOVALDI                          2285.0                63224.0   \n",
       "NEXIUM                         361872.0             14706560.0   \n",
       "CRESTOR                        496053.0             23392926.0   \n",
       "ABILIFY                         65995.0              1652197.0   \n",
       "ADVAIR DISKUS                  277076.0             10617701.0   \n",
       "SPIRIVA                        290282.0             11250585.0   \n",
       "LANTUS SOLOSTAR                187130.0              8350922.0   \n",
       "JANUVIA                        239398.0              9493881.0   \n",
       "REVLIMID                        10735.0               283501.0   \n",
       "LANTUS                         180302.0              5955521.0   \n",
       "\n",
       "                 total_drug_cost_ge65  is_excluded  cost_per_bene  \n",
       "drug_name                                                          \n",
       "SOVALDI                  6.431152e+07            0   6.164863e+06  \n",
       "NEXIUM                   1.240598e+08           22   7.415842e+06  \n",
       "CRESTOR                  1.378722e+08           13   7.805963e+06  \n",
       "ABILIFY                  4.553688e+07           17   5.776493e+06  \n",
       "ADVAIR DISKUS            1.038534e+08           22   6.195569e+06  \n",
       "SPIRIVA                  1.073756e+08           20   5.204506e+06  \n",
       "LANTUS SOLOSTAR          8.261926e+07           17   5.044376e+06  \n",
       "JANUVIA                  9.208358e+07           22   4.436018e+06  \n",
       "REVLIMID                 1.002989e+08            0   1.826141e+06  \n",
       "LANTUS                   6.817516e+07           11   3.651878e+06  "
      ]
     },
     "execution_count": 12,
     "metadata": {},
     "output_type": "execute_result"
    }
   ],
   "source": [
    "# Finding top selling drugs\n",
    "top_drug_price = part_d_exp_df.groupby('drug_name').sum().sort_values('total_drug_cost', ascending=False).iloc[0:10]\n",
    "top_drug_count = part_d_exp_df.groupby('drug_name').count().sort_values('total_drug_cost', ascending=False).iloc[0:10]\n",
    "top_drug_price.head(10)"
   ]
  },
  {
   "cell_type": "code",
   "execution_count": 13,
   "metadata": {},
   "outputs": [
    {
     "name": "stdout",
     "output_type": "stream",
     "text": [
      "High five! You successfully sent some data to your account on plotly. View your plot in your browser at https://plot.ly/~tpjoe33/0 or inside your plot.ly account where it is named 'drug_dropdown'\n"
     ]
    },
    {
     "data": {
      "text/html": [
       "<iframe id=\"igraph\" scrolling=\"no\" style=\"border:none;\" seamless=\"seamless\" src=\"https://plot.ly/~tpjoe33/0.embed\" height=\"525px\" width=\"100%\"></iframe>"
      ],
      "text/plain": [
       "<plotly.tools.PlotlyDisplay object>"
      ]
     },
     "execution_count": 13,
     "metadata": {},
     "output_type": "execute_result"
    }
   ],
   "source": [
    "# plotting use top ten drugs by price and amount\n",
    "trace_price = go.Bar(x=top_drug_price.index, y=top_drug_price['total_drug_cost'], name='by price', \n",
    "                     marker=dict(color='rgb(241,250,248)', line=dict(color='rgb(000,000,102)', width=1.5)),\n",
    "                     opacity = 0.8)\n",
    "                     \n",
    "trace_count = go.Bar(x=top_drug_count.index, y=top_drug_count['total_drug_cost'], name='by amount', \n",
    "                     marker=dict(color='rgb(241,250,248)', line=dict(color='rgb(13,129,106)', width=1.5)),\n",
    "                     opacity = 0.8)\n",
    "data = [trace_price, trace_count]\n",
    "\n",
    "updatemenus = list([\n",
    "    dict(\n",
    "        buttons=list([\n",
    "            dict(label = 'by price',\n",
    "                method = 'update',\n",
    "                args = [{'visible': [True, False]},\n",
    "                         {'title': 'Top 10 Drugs in Medicare (By Price)'}]),\n",
    "            dict(label = 'by amount',\n",
    "                method = 'update',\n",
    "                args = [{'visible': [False, True]},\n",
    "                        {'title': 'Top 10 Drugs in Medicare (By Amount)'}])\n",
    "        ]),\n",
    "        direction = 'down',\n",
    "        pad = {'r': 10, 't': 10},\n",
    "        showactive = True,\n",
    "        x = .8,\n",
    "        xanchor = 'left',\n",
    "        y = 1.1,\n",
    "        yanchor = 'top' )\n",
    "    \n",
    "])\n",
    "layout = dict(title='Top 10 Drugs in Medicare (By Price)', showlegend=False, \n",
    "              margin=go.Margin(l=50, r=100, b=120, t=10, pad=4),\n",
    "              updatemenus=updatemenus)\n",
    "\n",
    "fig = dict(data=data, layout=layout)\n",
    "py.iplot(fig, filename='drug_dropdown')"
   ]
  },
  {
   "cell_type": "markdown",
   "metadata": {},
   "source": [
    "## Medicare Use <a name=\"medUse\"></a>"
   ]
  },
  {
   "cell_type": "code",
   "execution_count": 14,
   "metadata": {},
   "outputs": [
    {
     "data": {
      "text/html": [
       "<iframe id=\"igraph\" scrolling=\"no\" style=\"border:none;\" seamless=\"seamless\" src=\"https://plot.ly/~tpjoe33/2.embed\" height=\"525px\" width=\"500px\"></iframe>"
      ],
      "text/plain": [
       "<plotly.tools.PlotlyDisplay object>"
      ]
     },
     "execution_count": 14,
     "metadata": {},
     "output_type": "execute_result"
    }
   ],
   "source": [
    "# plotting use of medicare by people of age 65+\n",
    "\n",
    "trace1 = go.Box(\n",
    "    y=part_d_df_state_sum.bene_count_ge65/part_d_df_state_sum.bene_count*100,\n",
    "    name = 'By No. of Beneficiaries',\n",
    "    boxpoints='all',\n",
    "    jitter=0.3,\n",
    "    marker = dict(\n",
    "        color = 'rgb(102,204,255)'\n",
    "    ),\n",
    "    boxmean=True\n",
    ")\n",
    "\n",
    "trace2 = go.Box(\n",
    "    y=part_d_df_state_sum.total_claim_count_ge65/part_d_df_state_sum.total_claim_count*100,\n",
    "    name = 'By No. of Claims',\n",
    "    boxpoints='all',\n",
    "    jitter=0.3,\n",
    "    boxmean=True,\n",
    "    marker = dict(\n",
    "        color = 'rgb(051,153,255)'\n",
    "    )\n",
    ")\n",
    "\n",
    "trace3 = go.Box(\n",
    "    y=part_d_df_state_sum.total_drug_cost_ge65/part_d_df_state_sum.total_drug_cost*100,\n",
    "    name = 'By Cost of Claims',\n",
    "    boxpoints='all',\n",
    "    jitter=0.3,\n",
    "    boxmean=True,\n",
    "    marker = dict(\n",
    "        color='rgb(000,051,153)'\n",
    "    )\n",
    ")\n",
    "\n",
    "\n",
    "layout = go.Layout(\n",
    "    title='Medicare Precsription Used by Beneficiaries of 65+ Age',\n",
    "    width=500,\n",
    "    xaxis=dict(\n",
    "        autorange=True,\n",
    "        showgrid=False,\n",
    "        zeroline=False,\n",
    "        showline=False,\n",
    "        autotick=True,\n",
    "        ticks='',\n",
    "        showticklabels=False\n",
    "    ),\n",
    "    yaxis=dict(\n",
    "        title='Percentages (%)',\n",
    "        zeroline=False\n",
    "    ),\n",
    "    legend=dict(\n",
    "        orientation='h'\n",
    "    ),\n",
    ")\n",
    "\n",
    "data = [trace1, trace2, trace3]\n",
    "fig= go.Figure(data=data, layout=layout)\n",
    "py.iplot(fig, filename='alcohol-box-plot')"
   ]
  },
  {
   "cell_type": "markdown",
   "metadata": {},
   "source": [
    "## Drug Price Disparity across the States <a name=\"medMap\"></a>"
   ]
  },
  {
   "cell_type": "code",
   "execution_count": 15,
   "metadata": {
    "collapsed": true,
    "scrolled": true
   },
   "outputs": [],
   "source": [
    "# plotting choropleth for drug price disparity\n",
    "\n",
    "part_d_df_city_mean_plt = part_d_df_city_mean[['fip', 'cost_per_bene']].dropna().groupby('fip').mean()\n",
    "\n",
    "colorscale = [\"#f7fbff\",\"#ebf3fb\",\"#deebf7\",\"#d2e3f3\",\"#c6dbef\",\"#b3d2e9\",\"#9ecae1\",\n",
    "              \"#85bcdb\",\"#6baed6\",\"#57a0ce\",\"#4292c6\",\"#3082be\",\"#2171b5\",\"#1361a9\",\n",
    "              \"#08519c\",\"#0b4083\",\"#08306b\"]\n",
    "endpts = list(np.linspace(1, part_d_df_city_mean_plt.describe(percentiles=[.90]).values[5], len(colorscale) - 1))\n",
    "\n",
    "fips = part_d_df_city_mean_plt.index.tolist()\n",
    "values = part_d_df_city_mean_plt['cost_per_bene'].tolist()\n",
    "\n",
    "fig = ff.create_choropleth(\n",
    "    fips=fips, values=values,\n",
    "    binning_endpoints=endpts,\n",
    "    colorscale=colorscale,\n",
    "    show_state_data=True,\n",
    "    show_hover=True, centroid_marker={'opacity': 0},\n",
    "    asp=3.2, title='Average Medicare Prescription Cost in the USA',\n",
    "    legend_title='Average Cost per Beneficiary'\n",
    ")\n",
    "#py.iplot(fig, filename='choropleth_medicare_cost')"
   ]
  },
  {
   "cell_type": "markdown",
   "metadata": {},
   "source": [
    "# Exploring Excluded Providers <a name=\"excProvider\"></a>"
   ]
  },
  {
   "cell_type": "markdown",
   "metadata": {},
   "source": [
    "## Top ten drugs sold by excluded proviers <a name=\"excDrug\"></a>"
   ]
  },
  {
   "cell_type": "code",
   "execution_count": 16,
   "metadata": {
    "collapsed": true,
    "scrolled": false
   },
   "outputs": [],
   "source": [
    "# Top 10 drugs sold by excluded providers\n",
    "excluded_providers = part_d_exp_df.loc[part_d_exp_df['is_excluded'] == 1]\n",
    "excluded_drug_rank = excluded_providers.groupby('drug_name').sum().sort_values('total_drug_cost', ascending=False).iloc[0:10]\n",
    "\n",
    "# Plotting\n",
    "trace_ex_price = go.Bar(x=excluded_drug_rank.index, y=excluded_drug_rank['total_drug_cost'], name='by price', \n",
    "                     marker=dict(color='rgb(255,204,204)', line=dict(color='rgb(204,000,000)', width=1.5)),\n",
    "                     opacity = 0.8)  \n",
    "data = [trace_ex_price]\n",
    "layout = dict(title='Top 10 Drugs in Medicare Sold by Excluded Providers (By Price)', showlegend=False, \n",
    "              margin=go.Margin(l=50, r=100, b=120, t=50, pad=4))\n",
    "\n",
    "fig = dict(data=data, layout=layout)\n",
    "#py.iplot(fig, filename='drug_excluded')"
   ]
  },
  {
   "cell_type": "markdown",
   "metadata": {},
   "source": [
    "## Exploring drug selling statistics of excluded providers <a name=\"excBehavior\"></a>"
   ]
  },
  {
   "cell_type": "code",
   "execution_count": 17,
   "metadata": {
    "collapsed": true
   },
   "outputs": [],
   "source": [
    "# Assigning narcotics/opioid (False = 0, True = 1)\n",
    "excluded_drug_rank = excluded_providers.groupby('drug_name').sum().sort_values('total_drug_cost', ascending=False)\n",
    "common_narcotics = ['OXYCONTIN', 'OXYMORPHONE HCL ER', 'MORPHINE SULFATE ER', 'OXYCODONE HCL', 'OXYCODONE-ACETAMINOPHEN', \\\n",
    "                    'FENTORA', 'SUBSYS', 'HYDROCODONE-ACETAMINOPHEN', 'SUBOXONE', 'OPANA ER', 'HYDROCODONE-ACETAMINOPHEN']\n",
    "part_d_exp_df['is_narcotics'] = 0\n",
    "part_d_exp_df.loc[part_d_df['drug_name'].isin(common_narcotics), 'is_narcotics'] = 1"
   ]
  },
  {
   "cell_type": "code",
   "execution_count": 18,
   "metadata": {},
   "outputs": [
    {
     "data": {
      "text/html": [
       "<div>\n",
       "<style>\n",
       "    .dataframe thead tr:only-child th {\n",
       "        text-align: right;\n",
       "    }\n",
       "\n",
       "    .dataframe thead th {\n",
       "        text-align: left;\n",
       "    }\n",
       "\n",
       "    .dataframe tbody tr th {\n",
       "        vertical-align: top;\n",
       "    }\n",
       "</style>\n",
       "<table border=\"1\" class=\"dataframe\">\n",
       "  <thead>\n",
       "    <tr style=\"text-align: right;\">\n",
       "      <th></th>\n",
       "      <th></th>\n",
       "      <th>total_claim_count</th>\n",
       "      <th>total_drug_cost</th>\n",
       "      <th>total_day_supply</th>\n",
       "    </tr>\n",
       "    <tr>\n",
       "      <th>is_excluded</th>\n",
       "      <th>is_narcotics</th>\n",
       "      <th></th>\n",
       "      <th></th>\n",
       "      <th></th>\n",
       "    </tr>\n",
       "  </thead>\n",
       "  <tbody>\n",
       "    <tr>\n",
       "      <th rowspan=\"2\" valign=\"top\">0</th>\n",
       "      <th>0</th>\n",
       "      <td>49.935872</td>\n",
       "      <td>3890.956328</td>\n",
       "      <td>2043.946186</td>\n",
       "    </tr>\n",
       "    <tr>\n",
       "      <th>1</th>\n",
       "      <td>72.295154</td>\n",
       "      <td>4016.943804</td>\n",
       "      <td>1543.526095</td>\n",
       "    </tr>\n",
       "    <tr>\n",
       "      <th rowspan=\"2\" valign=\"top\">1</th>\n",
       "      <th>0</th>\n",
       "      <td>54.859461</td>\n",
       "      <td>3531.811927</td>\n",
       "      <td>1902.011881</td>\n",
       "    </tr>\n",
       "    <tr>\n",
       "      <th>1</th>\n",
       "      <td>200.796748</td>\n",
       "      <td>41208.777398</td>\n",
       "      <td>5495.056911</td>\n",
       "    </tr>\n",
       "  </tbody>\n",
       "</table>\n",
       "</div>"
      ],
      "text/plain": [
       "                          total_claim_count  total_drug_cost  total_day_supply\n",
       "is_excluded is_narcotics                                                      \n",
       "0           0                     49.935872      3890.956328       2043.946186\n",
       "            1                     72.295154      4016.943804       1543.526095\n",
       "1           0                     54.859461      3531.811927       1902.011881\n",
       "            1                    200.796748     41208.777398       5495.056911"
      ]
     },
     "execution_count": 18,
     "metadata": {},
     "output_type": "execute_result"
    }
   ],
   "source": [
    "behavior = part_d_exp_df[['total_claim_count', 'total_drug_cost', 'total_day_supply', \\\n",
    "               'is_excluded', 'is_narcotics']].groupby(['is_excluded', 'is_narcotics']).mean()\n",
    "behavior"
   ]
  },
  {
   "cell_type": "code",
   "execution_count": 19,
   "metadata": {},
   "outputs": [
    {
     "data": {
      "text/html": [
       "<iframe id=\"igraph\" scrolling=\"no\" style=\"border:none;\" seamless=\"seamless\" src=\"https://plot.ly/~tpjoe33/8.embed\" height=\"525px\" width=\"100%\"></iframe>"
      ],
      "text/plain": [
       "<plotly.tools.PlotlyDisplay object>"
      ]
     },
     "execution_count": 19,
     "metadata": {},
     "output_type": "execute_result"
    }
   ],
   "source": [
    "#  plotting\n",
    "data = [{'x': ['Non-excluded Providers', 'Non-excluded Providers ', \\\n",
    "            'Excluded Providers', 'Excluded Providers '],\n",
    "        'y': behavior['total_drug_cost'].values.tolist(),\n",
    "        'text': ['Average total amount per beneficiary: {0:.0f}'.format(i) \n",
    "                 for i in behavior['total_claim_count'].values.tolist()],\n",
    "        'mode': 'markers',\n",
    "        'marker': {\n",
    "            'color': ['rgb(051,153,255)', 'rgb(255,102,102)', 'rgb(000,051,153)', 'rgb(204,000,000)'],\n",
    "            'size': behavior['total_claim_count'].values.tolist(),\n",
    "            'showscale': False\n",
    "        }\n",
    "    }\n",
    "]\n",
    "\n",
    "annotations=[dict(x='Non-excluded Providers', y=10000, xref='x', yref='y', text='All Drugs', \\\n",
    "                  showarrow=True, arrowhead=7, ax=0, ay=-40),\n",
    "             dict(x='Non-excluded Providers ', y=12500, xref='x', yref='y', text='Narcotics', \\\n",
    "                  showarrow=True, arrowhead=7, ax=0, ay=-40),\n",
    "             dict(x='Excluded Providers', y=10500, xref='x', yref='y', text='All Drugs', \\\n",
    "                  showarrow=True, arrowhead=7, ax=0, ay=-40),\n",
    "             dict(x='Excluded Providers ', y=68000, xref='x', yref='y', text='Narcotics',\\\n",
    "                  showarrow=True, arrowhead=7, ax=0, ay=-40)]\n",
    "\n",
    "layout = dict(title='Medicare Prescription Cost and Amount by Excluded and Non-excluded Providers', showlegend=False, \n",
    "              annotations=annotations, margin=go.Margin(l=50, r=100, b=120, t=50, pad=4), \n",
    "              yaxis=dict(title='Average Cost Per Beneficiary ($)'))\n",
    "\n",
    "fig = dict(data=data, layout=layout)\n",
    "py.iplot(fig, filename='provider-behavior')"
   ]
  },
  {
   "cell_type": "markdown",
   "metadata": {},
   "source": [
    "## Exploring Specialties of Excluded Drug Providers <a name=\"excSpecialty\"></a>"
   ]
  },
  {
   "cell_type": "code",
   "execution_count": 20,
   "metadata": {},
   "outputs": [
    {
     "data": {
      "text/html": [
       "<div>\n",
       "<style>\n",
       "    .dataframe thead tr:only-child th {\n",
       "        text-align: right;\n",
       "    }\n",
       "\n",
       "    .dataframe thead th {\n",
       "        text-align: left;\n",
       "    }\n",
       "\n",
       "    .dataframe tbody tr th {\n",
       "        vertical-align: top;\n",
       "    }\n",
       "</style>\n",
       "<table border=\"1\" class=\"dataframe\">\n",
       "  <thead>\n",
       "    <tr style=\"text-align: right;\">\n",
       "      <th></th>\n",
       "      <th>nonexcluded</th>\n",
       "      <th>excluded</th>\n",
       "    </tr>\n",
       "  </thead>\n",
       "  <tbody>\n",
       "    <tr>\n",
       "      <th>Internal Medicine</th>\n",
       "      <td>28.507052</td>\n",
       "      <td>36.038053</td>\n",
       "    </tr>\n",
       "    <tr>\n",
       "      <th>Family Practice</th>\n",
       "      <td>29.893592</td>\n",
       "      <td>27.252378</td>\n",
       "    </tr>\n",
       "    <tr>\n",
       "      <th>General Practice</th>\n",
       "      <td>0.000000</td>\n",
       "      <td>6.855064</td>\n",
       "    </tr>\n",
       "    <tr>\n",
       "      <th>Psychiatry</th>\n",
       "      <td>0.000000</td>\n",
       "      <td>5.456072</td>\n",
       "    </tr>\n",
       "    <tr>\n",
       "      <th>Nurse Practitioner</th>\n",
       "      <td>8.728470</td>\n",
       "      <td>4.392837</td>\n",
       "    </tr>\n",
       "    <tr>\n",
       "      <th>Physician Assistant</th>\n",
       "      <td>4.719583</td>\n",
       "      <td>0.000000</td>\n",
       "    </tr>\n",
       "    <tr>\n",
       "      <th>Cardiology</th>\n",
       "      <td>4.090590</td>\n",
       "      <td>0.000000</td>\n",
       "    </tr>\n",
       "    <tr>\n",
       "      <th>Others</th>\n",
       "      <td>24.060714</td>\n",
       "      <td>20.005596</td>\n",
       "    </tr>\n",
       "  </tbody>\n",
       "</table>\n",
       "</div>"
      ],
      "text/plain": [
       "                     nonexcluded   excluded\n",
       "Internal Medicine      28.507052  36.038053\n",
       "Family Practice        29.893592  27.252378\n",
       "General Practice        0.000000   6.855064\n",
       "Psychiatry              0.000000   5.456072\n",
       "Nurse Practitioner      8.728470   4.392837\n",
       "Physician Assistant     4.719583   0.000000\n",
       "Cardiology              4.090590   0.000000\n",
       "Others                 24.060714  20.005596"
      ]
     },
     "execution_count": 20,
     "metadata": {},
     "output_type": "execute_result"
    }
   ],
   "source": [
    "# Creating fraction of top 5 specialties from non-excluded and excluded providers\n",
    "nonexcluded_providers = part_d_exp_df[part_d_exp_df['is_excluded'] == 0]\n",
    "nonexcluded_providers_specialty = nonexcluded_providers.groupby\\\n",
    "('specialty_description').count().sort_values('npi', ascending=False).head()/len(nonexcluded_providers)*100\n",
    "nonexcluded_providers_specialty = nonexcluded_providers_specialty['npi'].to_dict()\n",
    "\n",
    "excluded_providers_specialty = excluded_providers.groupby \\\n",
    "('specialty_description').count().sort_values('npi', ascending=False).head()/len(excluded_providers)*100\n",
    "excluded_providers_specialty = excluded_providers_specialty['npi'].to_dict()\n",
    "\n",
    "for i, j in zip(list(nonexcluded_providers_specialty.keys()), list(excluded_providers_specialty.keys())):\n",
    "    if i not in excluded_providers_specialty.keys():\n",
    "        excluded_providers_specialty.update({i: 0})\n",
    "    if j not in nonexcluded_providers_specialty.keys():\n",
    "        nonexcluded_providers_specialty.update({j: 0})\n",
    "\n",
    "nonex_ex_specialty = pd.DataFrame(0, index=excluded_providers_specialty.keys(), columns=['nonexcluded', 'excluded'])\n",
    "nonex_ex_specialty.loc[:, 'nonexcluded'] = pd.Series(nonexcluded_providers_specialty)\n",
    "nonex_ex_specialty.loc[:, 'excluded'] = pd.Series(excluded_providers_specialty)\n",
    "nonex_ex_specialty.loc['Others'] = list(100 - nonex_ex_specialty.sum().values)\n",
    "nonex_ex_specialty"
   ]
  },
  {
   "cell_type": "code",
   "execution_count": 21,
   "metadata": {},
   "outputs": [
    {
     "data": {
      "text/html": [
       "<iframe id=\"igraph\" scrolling=\"no\" style=\"border:none;\" seamless=\"seamless\" src=\"https://plot.ly/~tpjoe33/10.embed\" height=\"525px\" width=\"100%\"></iframe>"
      ],
      "text/plain": [
       "<plotly.tools.PlotlyDisplay object>"
      ]
     },
     "execution_count": 21,
     "metadata": {},
     "output_type": "execute_result"
    }
   ],
   "source": [
    "trace_dict = {}\n",
    "color = [\"#08306b\", \"#08519c\", \"#1361a9\", \"#2171b5\", \"#4292c6\", \"#6baed6\", \"#9ecae1\", \"#c6dbef\"]\n",
    "for i, specialty in enumerate(nonex_ex_specialty.index):\n",
    "    trace_dict.update({'trace' + specialty: go.Bar(x=['Non-excluded Providers', 'Excluded Providers'], \n",
    "                                     y=nonex_ex_specialty.loc[specialty].values.tolist(),\n",
    "                                     name=specialty, marker=dict(color=color[i]))})\n",
    "\n",
    "data = [trace_dict[trace] for trace in trace_dict]\n",
    "\n",
    "layout = go.Layout(barmode='stack', yaxis=dict(title='Percentages of Provider Specialty (%)'))\n",
    "\n",
    "fig = go.Figure(data=data, layout=layout)\n",
    "py.iplot(fig, filename='stacked-bar')"
   ]
  },
  {
   "cell_type": "markdown",
   "metadata": {},
   "source": [
    "## Statistical Analysis of Fraud Providers <a name=\"excStats\"></a>"
   ]
  },
  {
   "cell_type": "markdown",
   "metadata": {},
   "source": [
    "### Fraud and Typical Providers' Specialty"
   ]
  },
  {
   "cell_type": "code",
   "execution_count": 22,
   "metadata": {},
   "outputs": [
    {
     "name": "stdout",
     "output_type": "stream",
     "text": [
      "The Spearman' correlation between providers' specialty and whether the provider is fraud is 0.0023 with a p-value of 0.0003.\n"
     ]
    }
   ],
   "source": [
    "le = LabelEncoder()\n",
    "specialty = le.fit_transform(part_d_exp_df['specialty_description'])\n",
    "labels = part_d_exp_df['is_excluded'].values.tolist()\n",
    "\n",
    "corr, p = spearmanr(specialty, labels)\n",
    "\n",
    "print('The Spearman\\' correlation between providers\\' specialty and whether the provider is fraud is {:.4f} \\\n",
    "with a p-value of {:.4f}.'.format(corr, p))"
   ]
  },
  {
   "cell_type": "markdown",
   "metadata": {},
   "source": [
    "### Sale Behaviors Difference Between Fraud and Typical Providers"
   ]
  },
  {
   "cell_type": "code",
   "execution_count": 23,
   "metadata": {},
   "outputs": [
    {
     "data": {
      "image/png": "[encoded data removed]",
      "text/plain": [
       "<matplotlib.figure.Figure at 0x2b719b8cb0f0>"
      ]
     },
     "metadata": {},
     "output_type": "display_data"
    },
    {
     "data": {
      "image/png": "[encoded data removed]",
      "text/plain": [
       "<matplotlib.figure.Figure at 0x2b719bfd5d68>"
      ]
     },
     "metadata": {},
     "output_type": "display_data"
    }
   ],
   "source": [
    "narcotics_by_fraud = part_d_exp_df[(part_d_exp_df['is_excluded'] == 1) & (part_d_exp_df['is_narcotics'] == 1)]\n",
    "narcotics_by_typical = part_d_exp_df[(part_d_exp_df['is_excluded'] == 0) & (part_d_exp_df['is_narcotics'] == 1)]\n",
    "all_by_fraud = part_d_exp_df[(part_d_exp_df['is_excluded'] == 1)]\n",
    "all_by_typical = part_d_exp_df[(part_d_exp_df['is_excluded'] == 0)]\n",
    "\n",
    "narcotics_by_typical.total_drug_cost.hist(bins=50, normed=True)\n",
    "plt.xlabel('Total Narcotics Cost by Typical Providers', fontsize=15)\n",
    "plt.savefig('narcotics_by_typical.jpeg', dpi=1000)\n",
    "plt.ylim([0, 0.00005])\n",
    "plt.show()\n",
    "narcotics_by_fraud.total_drug_cost.hist(bins=50, normed=True)\n",
    "plt.xlabel('Total Narcotics Cost by Fraud Providers', fontsize=15)\n",
    "plt.savefig('narcotics_by_fraud.jpeg', dpi=1000)\n",
    "plt.ylim([0, 0.00005])\n",
    "plt.show()"
   ]
  },
  {
   "cell_type": "code",
   "execution_count": 24,
   "metadata": {},
   "outputs": [
    {
     "name": "stdout",
     "output_type": "stream",
     "text": [
      "The null hypothesis that fraud providers sell all drugs with the same total cost as typical provider has a p-value of 0.6987, therefore, we do NOT reject the hypothesis.\n",
      "The null hypothesis that fraud providers sell narcotics with the same total cost as typical provider has a p-value of 0.0000, therefore, we REJECT the hypothesis.\n"
     ]
    },
    {
     "data": {
      "image/png": "[encoded data removed]",
      "text/plain": [
       "<matplotlib.figure.Figure at 0x2b71b96d1518>"
      ]
     },
     "metadata": {},
     "output_type": "display_data"
    },
    {
     "data": {
      "image/png": "[encoded data removed]",
      "text/plain": [
       "<matplotlib.figure.Figure at 0x2b7199670c88>"
      ]
     },
     "metadata": {},
     "output_type": "display_data"
    }
   ],
   "source": [
    "# Narcotic selling statistics of fraud and typical providers\n",
    "fraud_providers_n = part_d_exp_df[(part_d_exp_df['is_excluded'] == 1) & (part_d_exp_df['is_narcotics'] ==1)].groupby(['npi']).mean()\n",
    "typical_providers_n = part_d_exp_df[(part_d_exp_df['is_excluded'] == 0) & (part_d_exp_df['is_narcotics'] ==1)].groupby(['npi']).mean()\n",
    "\n",
    "cost_typical_n = typical_providers_n['total_drug_cost']\n",
    "cost_fraud_n = fraud_providers_n['total_drug_cost']\n",
    "amount_typical_n = typical_providers_n['total_claim_count']\n",
    "amount_fraud_n = fraud_providers_n['total_claim_count']\n",
    "\n",
    "# All drugs selling statistics of fraud and typical providers\n",
    "fraud_providers_d = part_d_exp_df[(part_d_exp_df['is_excluded'] == 1)].groupby(['npi']).mean()\n",
    "typical_providers_d = part_d_exp_df[(part_d_exp_df['is_excluded'] == 0)].groupby(['npi']).mean()\n",
    "\n",
    "cost_typical_d = typical_providers_d['total_drug_cost']\n",
    "cost_fraud_d = fraud_providers_d['total_drug_cost']\n",
    "amount_typical_d = typical_providers_d['total_claim_count']\n",
    "amount_fraud_d = fraud_providers_d['total_claim_count']\n",
    "\n",
    "print('The null hypothesis that fraud providers sell all drugs with the same total cost as typical provider has a p-value \\\n",
    "of {:.4f}, therefore, we do NOT reject the hypothesis.'.format(f_oneway(cost_typical_d, cost_fraud_d)[1]))\n",
    "\n",
    "print('The null hypothesis that fraud providers sell narcotics with the same total cost as typical provider has a p-value \\\n",
    "of {:.4f}, therefore, we REJECT the hypothesis.'.format(f_oneway(cost_typical_n, cost_fraud_n)[1]))\n",
    "\n",
    "\n",
    "plt.plot(amount_typical_d, cost_typical_d, markersize=3, linestyle='none', marker='.', color='lightblue', label='Typical')\n",
    "plt.plot(amount_fraud_d, cost_fraud_d, markersize=5, linestyle='none', marker='.', color='r', label='Fraud')\n",
    "plt.xlabel('Providers\\' Average Drug Sale(ea)', fontsize=15)\n",
    "plt.ylabel('Providers\\' Average Drug Sale($)', fontsize=15)\n",
    "plt.legend(fontsize=15)\n",
    "plt.tight_layout()\n",
    "plt.savefig('AmountVSCost_d.jpeg', dpi=1000)\n",
    "plt.show()\n",
    "\n",
    "plt.plot(amount_typical_n, cost_typical_n, markersize=3, linestyle='none', marker='.', color='lightblue', label='Typical')\n",
    "plt.plot(amount_fraud_n, cost_fraud_n, markersize=5, linestyle='none', marker='.', color='r', label='Fraud')\n",
    "plt.xlabel('Providers\\' Average Narcotics Sale(ea)', fontsize=15)\n",
    "plt.ylabel('Providers\\' Average Narcotics Sale($)', fontsize=15)\n",
    "plt.legend(fontsize=15)\n",
    "plt.tight_layout()\n",
    "plt.savefig('AmountVSCost_n.jpeg', dpi=1000)\n",
    "plt.show()"
   ]
  },
  {
   "cell_type": "markdown",
   "metadata": {
    "collapsed": true
   },
   "source": [
    "# Classification Models <a name=\"classModel\"></a>"
   ]
  },
  {
   "cell_type": "code",
   "execution_count": 25,
   "metadata": {
    "collapsed": true
   },
   "outputs": [],
   "source": [
    "from sklearn import decomposition\n",
    "from sklearn.ensemble import RandomForestClassifier\n",
    "from sklearn.model_selection import train_test_split\n",
    "from sklearn.metrics import confusion_matrix, roc_curve, roc_auc_score, auc\n",
    "from sklearn.utils import resample\n",
    "from sklearn.preprocessing import label_binarize\n",
    "from sklearn.svm import SVC\n",
    "from scipy.stats import pointbiserialr"
   ]
  },
  {
   "cell_type": "markdown",
   "metadata": {},
   "source": [
    "## Classification of Drug Providers <a name=\"classPro\"></a>"
   ]
  },
  {
   "cell_type": "code",
   "execution_count": 26,
   "metadata": {
    "collapsed": true
   },
   "outputs": [],
   "source": [
    "# Creating grouped drug data frame and grouped provider datafrmae\n",
    "drug_list = sorted(part_d_df['drug_name'][part_d_df['is_excluded']==1].unique())\n",
    "npi_group = part_d_df.groupby('npi').sum()\n",
    "npi_drug_group_df = part_d_df.groupby(['drug_name', 'npi']).sum()"
   ]
  },
  {
   "cell_type": "code",
   "execution_count": 27,
   "metadata": {},
   "outputs": [
    {
     "name": "stdout",
     "output_type": "stream",
     "text": [
      "There are 487241 unique providers\n",
      "There are 2412087 unique drugs, of which 553 are sold by excluded provider for at least once.\n"
     ]
    }
   ],
   "source": [
    "print(\"There are {} unique providers\".format(len(npi_group)))\n",
    "print(\"There are {} unique drugs, of which {} are sold by excluded provider for at least once.\" \\\n",
    "      .format(len(npi_drug_group_df), len(drug_list)))"
   ]
  },
  {
   "cell_type": "code",
   "execution_count": 28,
   "metadata": {},
   "outputs": [
    {
     "name": "stderr",
     "output_type": "stream",
     "text": [
      "100%|██████████| 553/553 [11:30<00:00,  1.25s/it]\n"
     ]
    },
    {
     "data": {
      "text/html": [
       "<div>\n",
       "<style>\n",
       "    .dataframe thead tr:only-child th {\n",
       "        text-align: right;\n",
       "    }\n",
       "\n",
       "    .dataframe thead th {\n",
       "        text-align: left;\n",
       "    }\n",
       "\n",
       "    .dataframe tbody tr th {\n",
       "        vertical-align: top;\n",
       "    }\n",
       "</style>\n",
       "<table border=\"1\" class=\"dataframe\">\n",
       "  <thead>\n",
       "    <tr style=\"text-align: right;\">\n",
       "      <th></th>\n",
       "      <th>ABACAVIR-LAMIVUDINE-ZIDOVUDINE</th>\n",
       "      <th>ABILIFY</th>\n",
       "      <th>ACEBUTOLOL HCL</th>\n",
       "      <th>ACETAMINOPHEN-CODEINE</th>\n",
       "      <th>ACTONEL</th>\n",
       "      <th>ACYCLOVIR</th>\n",
       "      <th>ADEFOVIR DIPIVOXIL</th>\n",
       "      <th>ADVAIR DISKUS</th>\n",
       "      <th>ADVAIR HFA</th>\n",
       "      <th>AFEDITAB CR</th>\n",
       "      <th>...</th>\n",
       "      <th>ZETIA</th>\n",
       "      <th>ZIPRASIDONE HCL</th>\n",
       "      <th>ZOHYDRO ER</th>\n",
       "      <th>ZOLPIDEM TARTRATE</th>\n",
       "      <th>ZOLPIDEM TARTRATE ER</th>\n",
       "      <th>ZONALON</th>\n",
       "      <th>ZONISAMIDE</th>\n",
       "      <th>ZOVIA 1-50E</th>\n",
       "      <th>ZOVIRAX</th>\n",
       "      <th>ZYPREXA RELPREVV</th>\n",
       "    </tr>\n",
       "    <tr>\n",
       "      <th>npi</th>\n",
       "      <th></th>\n",
       "      <th></th>\n",
       "      <th></th>\n",
       "      <th></th>\n",
       "      <th></th>\n",
       "      <th></th>\n",
       "      <th></th>\n",
       "      <th></th>\n",
       "      <th></th>\n",
       "      <th></th>\n",
       "      <th></th>\n",
       "      <th></th>\n",
       "      <th></th>\n",
       "      <th></th>\n",
       "      <th></th>\n",
       "      <th></th>\n",
       "      <th></th>\n",
       "      <th></th>\n",
       "      <th></th>\n",
       "      <th></th>\n",
       "      <th></th>\n",
       "    </tr>\n",
       "  </thead>\n",
       "  <tbody>\n",
       "    <tr>\n",
       "      <th>1003000126</th>\n",
       "      <td>0.0</td>\n",
       "      <td>0.0</td>\n",
       "      <td>0.0</td>\n",
       "      <td>0.0</td>\n",
       "      <td>0.0</td>\n",
       "      <td>0.0</td>\n",
       "      <td>0.0</td>\n",
       "      <td>0.0</td>\n",
       "      <td>0.0</td>\n",
       "      <td>0.0</td>\n",
       "      <td>...</td>\n",
       "      <td>0.0</td>\n",
       "      <td>0.0</td>\n",
       "      <td>0.0</td>\n",
       "      <td>0.0</td>\n",
       "      <td>0.0</td>\n",
       "      <td>0.0</td>\n",
       "      <td>0.0</td>\n",
       "      <td>0.0</td>\n",
       "      <td>0.0</td>\n",
       "      <td>0.0</td>\n",
       "    </tr>\n",
       "    <tr>\n",
       "      <th>1003000142</th>\n",
       "      <td>0.0</td>\n",
       "      <td>0.0</td>\n",
       "      <td>0.0</td>\n",
       "      <td>0.0</td>\n",
       "      <td>0.0</td>\n",
       "      <td>0.0</td>\n",
       "      <td>0.0</td>\n",
       "      <td>0.0</td>\n",
       "      <td>0.0</td>\n",
       "      <td>0.0</td>\n",
       "      <td>...</td>\n",
       "      <td>0.0</td>\n",
       "      <td>0.0</td>\n",
       "      <td>0.0</td>\n",
       "      <td>0.0</td>\n",
       "      <td>0.0</td>\n",
       "      <td>0.0</td>\n",
       "      <td>0.0</td>\n",
       "      <td>0.0</td>\n",
       "      <td>0.0</td>\n",
       "      <td>0.0</td>\n",
       "    </tr>\n",
       "    <tr>\n",
       "      <th>1003000167</th>\n",
       "      <td>0.0</td>\n",
       "      <td>0.0</td>\n",
       "      <td>0.0</td>\n",
       "      <td>0.0</td>\n",
       "      <td>0.0</td>\n",
       "      <td>0.0</td>\n",
       "      <td>0.0</td>\n",
       "      <td>0.0</td>\n",
       "      <td>0.0</td>\n",
       "      <td>0.0</td>\n",
       "      <td>...</td>\n",
       "      <td>0.0</td>\n",
       "      <td>0.0</td>\n",
       "      <td>0.0</td>\n",
       "      <td>0.0</td>\n",
       "      <td>0.0</td>\n",
       "      <td>0.0</td>\n",
       "      <td>0.0</td>\n",
       "      <td>0.0</td>\n",
       "      <td>0.0</td>\n",
       "      <td>0.0</td>\n",
       "    </tr>\n",
       "    <tr>\n",
       "      <th>1003000407</th>\n",
       "      <td>0.0</td>\n",
       "      <td>0.0</td>\n",
       "      <td>0.0</td>\n",
       "      <td>0.0</td>\n",
       "      <td>0.0</td>\n",
       "      <td>0.0</td>\n",
       "      <td>0.0</td>\n",
       "      <td>0.0</td>\n",
       "      <td>0.0</td>\n",
       "      <td>0.0</td>\n",
       "      <td>...</td>\n",
       "      <td>0.0</td>\n",
       "      <td>0.0</td>\n",
       "      <td>0.0</td>\n",
       "      <td>0.0</td>\n",
       "      <td>0.0</td>\n",
       "      <td>0.0</td>\n",
       "      <td>0.0</td>\n",
       "      <td>0.0</td>\n",
       "      <td>0.0</td>\n",
       "      <td>0.0</td>\n",
       "    </tr>\n",
       "    <tr>\n",
       "      <th>1003000423</th>\n",
       "      <td>0.0</td>\n",
       "      <td>0.0</td>\n",
       "      <td>0.0</td>\n",
       "      <td>0.0</td>\n",
       "      <td>0.0</td>\n",
       "      <td>0.0</td>\n",
       "      <td>0.0</td>\n",
       "      <td>0.0</td>\n",
       "      <td>0.0</td>\n",
       "      <td>0.0</td>\n",
       "      <td>...</td>\n",
       "      <td>0.0</td>\n",
       "      <td>0.0</td>\n",
       "      <td>0.0</td>\n",
       "      <td>0.0</td>\n",
       "      <td>0.0</td>\n",
       "      <td>0.0</td>\n",
       "      <td>0.0</td>\n",
       "      <td>0.0</td>\n",
       "      <td>0.0</td>\n",
       "      <td>0.0</td>\n",
       "    </tr>\n",
       "  </tbody>\n",
       "</table>\n",
       "<p>5 rows × 553 columns</p>\n",
       "</div>"
      ],
      "text/plain": [
       "            ABACAVIR-LAMIVUDINE-ZIDOVUDINE  ABILIFY  ACEBUTOLOL HCL  \\\n",
       "npi                                                                   \n",
       "1003000126                             0.0      0.0             0.0   \n",
       "1003000142                             0.0      0.0             0.0   \n",
       "1003000167                             0.0      0.0             0.0   \n",
       "1003000407                             0.0      0.0             0.0   \n",
       "1003000423                             0.0      0.0             0.0   \n",
       "\n",
       "            ACETAMINOPHEN-CODEINE  ACTONEL  ACYCLOVIR  ADEFOVIR DIPIVOXIL  \\\n",
       "npi                                                                         \n",
       "1003000126                    0.0      0.0        0.0                 0.0   \n",
       "1003000142                    0.0      0.0        0.0                 0.0   \n",
       "1003000167                    0.0      0.0        0.0                 0.0   \n",
       "1003000407                    0.0      0.0        0.0                 0.0   \n",
       "1003000423                    0.0      0.0        0.0                 0.0   \n",
       "\n",
       "            ADVAIR DISKUS  ADVAIR HFA  AFEDITAB CR        ...         ZETIA  \\\n",
       "npi                                                       ...                 \n",
       "1003000126            0.0         0.0          0.0        ...           0.0   \n",
       "1003000142            0.0         0.0          0.0        ...           0.0   \n",
       "1003000167            0.0         0.0          0.0        ...           0.0   \n",
       "1003000407            0.0         0.0          0.0        ...           0.0   \n",
       "1003000423            0.0         0.0          0.0        ...           0.0   \n",
       "\n",
       "            ZIPRASIDONE HCL  ZOHYDRO ER  ZOLPIDEM TARTRATE  \\\n",
       "npi                                                          \n",
       "1003000126              0.0         0.0                0.0   \n",
       "1003000142              0.0         0.0                0.0   \n",
       "1003000167              0.0         0.0                0.0   \n",
       "1003000407              0.0         0.0                0.0   \n",
       "1003000423              0.0         0.0                0.0   \n",
       "\n",
       "            ZOLPIDEM TARTRATE ER  ZONALON  ZONISAMIDE  ZOVIA 1-50E  ZOVIRAX  \\\n",
       "npi                                                                           \n",
       "1003000126                   0.0      0.0         0.0          0.0      0.0   \n",
       "1003000142                   0.0      0.0         0.0          0.0      0.0   \n",
       "1003000167                   0.0      0.0         0.0          0.0      0.0   \n",
       "1003000407                   0.0      0.0         0.0          0.0      0.0   \n",
       "1003000423                   0.0      0.0         0.0          0.0      0.0   \n",
       "\n",
       "            ZYPREXA RELPREVV  \n",
       "npi                           \n",
       "1003000126               0.0  \n",
       "1003000142               0.0  \n",
       "1003000167               0.0  \n",
       "1003000407               0.0  \n",
       "1003000423               0.0  \n",
       "\n",
       "[5 rows x 553 columns]"
      ]
     },
     "execution_count": 28,
     "metadata": {},
     "output_type": "execute_result"
    }
   ],
   "source": [
    "# Creating feature tables for input (row=providers, columns=cost fraction of drugs each provider sold)\n",
    "npi_drug_df = pd.DataFrame(0, index=npi_group.index, columns=drug_list)\n",
    "for drug in tqdm(drug_list):\n",
    "    npi_drug_df.loc[npi_drug_group_df.loc[drug][['total_drug_cost']].index, [drug]] = \\\n",
    "    npi_drug_group_df.loc[drug][['total_drug_cost']].values/ \\\n",
    "    npi_group.loc[npi_drug_group_df.loc[drug][['total_drug_cost']].index, ['total_drug_cost']].values\n",
    "npi_drug_df.head()"
   ]
  },
  {
   "cell_type": "code",
   "execution_count": 29,
   "metadata": {},
   "outputs": [
    {
     "name": "stdout",
     "output_type": "stream",
     "text": [
      "0\n",
      "0\n",
      "(487241, 553)\n"
     ]
    }
   ],
   "source": [
    "# Check nulls\n",
    "print(npi_drug_df.isnull().sum().sum())\n",
    "npi_drug_df = npi_drug_df.dropna(axis = 0)\n",
    "print(npi_drug_df.isnull().sum().sum())\n",
    "print(npi_drug_df.shape)\n",
    "\n",
    "# Saving\n",
    "npi_drug_df.to_pickle('npi_drug_df.pickle')\n",
    "npi_group.to_pickle('npi_group.pickle')"
   ]
  },
  {
   "cell_type": "code",
   "execution_count": 30,
   "metadata": {
    "collapsed": true
   },
   "outputs": [],
   "source": [
    "# Loading\n",
    "npi_drug_df = pd.read_pickle('npi_drug_df.pickle')\n",
    "npi_group = pd.read_pickle('npi_group.pickle')"
   ]
  },
  {
   "cell_type": "code",
   "execution_count": 31,
   "metadata": {},
   "outputs": [
    {
     "data": {
      "text/html": [
       "<div>\n",
       "<style>\n",
       "    .dataframe thead tr:only-child th {\n",
       "        text-align: right;\n",
       "    }\n",
       "\n",
       "    .dataframe thead th {\n",
       "        text-align: left;\n",
       "    }\n",
       "\n",
       "    .dataframe tbody tr th {\n",
       "        vertical-align: top;\n",
       "    }\n",
       "</style>\n",
       "<table border=\"1\" class=\"dataframe\">\n",
       "  <thead>\n",
       "    <tr style=\"text-align: right;\">\n",
       "      <th></th>\n",
       "      <th>ABACAVIR-LAMIVUDINE-ZIDOVUDINE</th>\n",
       "      <th>ABILIFY</th>\n",
       "      <th>ACEBUTOLOL HCL</th>\n",
       "      <th>ACETAMINOPHEN-CODEINE</th>\n",
       "      <th>ACTONEL</th>\n",
       "      <th>ACYCLOVIR</th>\n",
       "      <th>ADEFOVIR DIPIVOXIL</th>\n",
       "      <th>ADVAIR DISKUS</th>\n",
       "      <th>ADVAIR HFA</th>\n",
       "      <th>AFEDITAB CR</th>\n",
       "      <th>...</th>\n",
       "      <th>ZETIA</th>\n",
       "      <th>ZIPRASIDONE HCL</th>\n",
       "      <th>ZOHYDRO ER</th>\n",
       "      <th>ZOLPIDEM TARTRATE</th>\n",
       "      <th>ZOLPIDEM TARTRATE ER</th>\n",
       "      <th>ZONALON</th>\n",
       "      <th>ZONISAMIDE</th>\n",
       "      <th>ZOVIA 1-50E</th>\n",
       "      <th>ZOVIRAX</th>\n",
       "      <th>ZYPREXA RELPREVV</th>\n",
       "    </tr>\n",
       "    <tr>\n",
       "      <th>npi</th>\n",
       "      <th></th>\n",
       "      <th></th>\n",
       "      <th></th>\n",
       "      <th></th>\n",
       "      <th></th>\n",
       "      <th></th>\n",
       "      <th></th>\n",
       "      <th></th>\n",
       "      <th></th>\n",
       "      <th></th>\n",
       "      <th></th>\n",
       "      <th></th>\n",
       "      <th></th>\n",
       "      <th></th>\n",
       "      <th></th>\n",
       "      <th></th>\n",
       "      <th></th>\n",
       "      <th></th>\n",
       "      <th></th>\n",
       "      <th></th>\n",
       "      <th></th>\n",
       "    </tr>\n",
       "  </thead>\n",
       "  <tbody>\n",
       "    <tr>\n",
       "      <th>1003000126</th>\n",
       "      <td>0.0</td>\n",
       "      <td>0.0</td>\n",
       "      <td>0.0</td>\n",
       "      <td>0.0</td>\n",
       "      <td>0.0</td>\n",
       "      <td>0.0</td>\n",
       "      <td>0.0</td>\n",
       "      <td>0.0</td>\n",
       "      <td>0.0</td>\n",
       "      <td>0.0</td>\n",
       "      <td>...</td>\n",
       "      <td>0.0</td>\n",
       "      <td>0.0</td>\n",
       "      <td>0.0</td>\n",
       "      <td>0.0</td>\n",
       "      <td>0.0</td>\n",
       "      <td>0.0</td>\n",
       "      <td>0.0</td>\n",
       "      <td>0.0</td>\n",
       "      <td>0.0</td>\n",
       "      <td>0.0</td>\n",
       "    </tr>\n",
       "    <tr>\n",
       "      <th>1003000142</th>\n",
       "      <td>0.0</td>\n",
       "      <td>0.0</td>\n",
       "      <td>0.0</td>\n",
       "      <td>0.0</td>\n",
       "      <td>0.0</td>\n",
       "      <td>0.0</td>\n",
       "      <td>0.0</td>\n",
       "      <td>0.0</td>\n",
       "      <td>0.0</td>\n",
       "      <td>0.0</td>\n",
       "      <td>...</td>\n",
       "      <td>0.0</td>\n",
       "      <td>0.0</td>\n",
       "      <td>0.0</td>\n",
       "      <td>0.0</td>\n",
       "      <td>0.0</td>\n",
       "      <td>0.0</td>\n",
       "      <td>0.0</td>\n",
       "      <td>0.0</td>\n",
       "      <td>0.0</td>\n",
       "      <td>0.0</td>\n",
       "    </tr>\n",
       "    <tr>\n",
       "      <th>1003000167</th>\n",
       "      <td>0.0</td>\n",
       "      <td>0.0</td>\n",
       "      <td>0.0</td>\n",
       "      <td>0.0</td>\n",
       "      <td>0.0</td>\n",
       "      <td>0.0</td>\n",
       "      <td>0.0</td>\n",
       "      <td>0.0</td>\n",
       "      <td>0.0</td>\n",
       "      <td>0.0</td>\n",
       "      <td>...</td>\n",
       "      <td>0.0</td>\n",
       "      <td>0.0</td>\n",
       "      <td>0.0</td>\n",
       "      <td>0.0</td>\n",
       "      <td>0.0</td>\n",
       "      <td>0.0</td>\n",
       "      <td>0.0</td>\n",
       "      <td>0.0</td>\n",
       "      <td>0.0</td>\n",
       "      <td>0.0</td>\n",
       "    </tr>\n",
       "    <tr>\n",
       "      <th>1003000407</th>\n",
       "      <td>0.0</td>\n",
       "      <td>0.0</td>\n",
       "      <td>0.0</td>\n",
       "      <td>0.0</td>\n",
       "      <td>0.0</td>\n",
       "      <td>0.0</td>\n",
       "      <td>0.0</td>\n",
       "      <td>0.0</td>\n",
       "      <td>0.0</td>\n",
       "      <td>0.0</td>\n",
       "      <td>...</td>\n",
       "      <td>0.0</td>\n",
       "      <td>0.0</td>\n",
       "      <td>0.0</td>\n",
       "      <td>0.0</td>\n",
       "      <td>0.0</td>\n",
       "      <td>0.0</td>\n",
       "      <td>0.0</td>\n",
       "      <td>0.0</td>\n",
       "      <td>0.0</td>\n",
       "      <td>0.0</td>\n",
       "    </tr>\n",
       "    <tr>\n",
       "      <th>1003000423</th>\n",
       "      <td>0.0</td>\n",
       "      <td>0.0</td>\n",
       "      <td>0.0</td>\n",
       "      <td>0.0</td>\n",
       "      <td>0.0</td>\n",
       "      <td>0.0</td>\n",
       "      <td>0.0</td>\n",
       "      <td>0.0</td>\n",
       "      <td>0.0</td>\n",
       "      <td>0.0</td>\n",
       "      <td>...</td>\n",
       "      <td>0.0</td>\n",
       "      <td>0.0</td>\n",
       "      <td>0.0</td>\n",
       "      <td>0.0</td>\n",
       "      <td>0.0</td>\n",
       "      <td>0.0</td>\n",
       "      <td>0.0</td>\n",
       "      <td>0.0</td>\n",
       "      <td>0.0</td>\n",
       "      <td>0.0</td>\n",
       "    </tr>\n",
       "  </tbody>\n",
       "</table>\n",
       "<p>5 rows × 553 columns</p>\n",
       "</div>"
      ],
      "text/plain": [
       "            ABACAVIR-LAMIVUDINE-ZIDOVUDINE  ABILIFY  ACEBUTOLOL HCL  \\\n",
       "npi                                                                   \n",
       "1003000126                             0.0      0.0             0.0   \n",
       "1003000142                             0.0      0.0             0.0   \n",
       "1003000167                             0.0      0.0             0.0   \n",
       "1003000407                             0.0      0.0             0.0   \n",
       "1003000423                             0.0      0.0             0.0   \n",
       "\n",
       "            ACETAMINOPHEN-CODEINE  ACTONEL  ACYCLOVIR  ADEFOVIR DIPIVOXIL  \\\n",
       "npi                                                                         \n",
       "1003000126                    0.0      0.0        0.0                 0.0   \n",
       "1003000142                    0.0      0.0        0.0                 0.0   \n",
       "1003000167                    0.0      0.0        0.0                 0.0   \n",
       "1003000407                    0.0      0.0        0.0                 0.0   \n",
       "1003000423                    0.0      0.0        0.0                 0.0   \n",
       "\n",
       "            ADVAIR DISKUS  ADVAIR HFA  AFEDITAB CR        ...         ZETIA  \\\n",
       "npi                                                       ...                 \n",
       "1003000126            0.0         0.0          0.0        ...           0.0   \n",
       "1003000142            0.0         0.0          0.0        ...           0.0   \n",
       "1003000167            0.0         0.0          0.0        ...           0.0   \n",
       "1003000407            0.0         0.0          0.0        ...           0.0   \n",
       "1003000423            0.0         0.0          0.0        ...           0.0   \n",
       "\n",
       "            ZIPRASIDONE HCL  ZOHYDRO ER  ZOLPIDEM TARTRATE  \\\n",
       "npi                                                          \n",
       "1003000126              0.0         0.0                0.0   \n",
       "1003000142              0.0         0.0                0.0   \n",
       "1003000167              0.0         0.0                0.0   \n",
       "1003000407              0.0         0.0                0.0   \n",
       "1003000423              0.0         0.0                0.0   \n",
       "\n",
       "            ZOLPIDEM TARTRATE ER  ZONALON  ZONISAMIDE  ZOVIA 1-50E  ZOVIRAX  \\\n",
       "npi                                                                           \n",
       "1003000126                   0.0      0.0         0.0          0.0      0.0   \n",
       "1003000142                   0.0      0.0         0.0          0.0      0.0   \n",
       "1003000167                   0.0      0.0         0.0          0.0      0.0   \n",
       "1003000407                   0.0      0.0         0.0          0.0      0.0   \n",
       "1003000423                   0.0      0.0         0.0          0.0      0.0   \n",
       "\n",
       "            ZYPREXA RELPREVV  \n",
       "npi                           \n",
       "1003000126               0.0  \n",
       "1003000142               0.0  \n",
       "1003000167               0.0  \n",
       "1003000407               0.0  \n",
       "1003000423               0.0  \n",
       "\n",
       "[5 rows x 553 columns]"
      ]
     },
     "execution_count": 31,
     "metadata": {},
     "output_type": "execute_result"
    }
   ],
   "source": [
    "npi_drug_df.head()"
   ]
  },
  {
   "cell_type": "markdown",
   "metadata": {},
   "source": [
    "### Applying PCA <a name=\"classPCA\"></a>"
   ]
  },
  {
   "cell_type": "code",
   "execution_count": 32,
   "metadata": {},
   "outputs": [
    {
     "data": {
      "image/png": "[encoded data removed]",
      "text/plain": [
       "<matplotlib.figure.Figure at 0x2b72aba42f60>"
      ]
     },
     "metadata": {},
     "output_type": "display_data"
    }
   ],
   "source": [
    "# Applying PCA (2 components), but we will plot both 3 and 2 components for visualization of vairance explained\n",
    "\n",
    "pca = decomposition.PCA(n_components=3)\n",
    "pca.fit(npi_drug_df)\n",
    "npi_drug_df_transformed = pca.transform(npi_drug_df)\n",
    "plt.plot(np.cumsum(pca.explained_variance_ratio_), color='r')\n",
    "\n",
    "pca = decomposition.PCA(n_components=2)\n",
    "pca.fit(npi_drug_df)\n",
    "npi_drug_df_transformed = pca.transform(npi_drug_df)\n",
    "plt.plot(np.cumsum(pca.explained_variance_ratio_))\n",
    "plt.xlabel('number of components')\n",
    "plt.ylabel('cumulative explained variance')\n",
    "\n",
    "plt.vlines(1, color='grey', ymax=0.1, ymin=0, linestyle=':')\n",
    "plt.vlines(2, color='grey', ymax=0.1, ymin=0, linestyle=':')\n",
    "\n",
    "plt.annotate('2 components', xy=(0.6, 0.05), xytext=(0.9, 0.05), fontsize=15, rotation=90)\n",
    "plt.annotate('3 components', xy=(1.6, 0.05), xytext=(1.9, 0.05), fontsize=15, rotation=90)\n",
    "\n",
    "plt.savefig('VarExp.jpeg', dpi=1000)\n",
    "plt.tight_layout()\n",
    "plt.show()"
   ]
  },
  {
   "cell_type": "code",
   "execution_count": 33,
   "metadata": {
    "collapsed": true
   },
   "outputs": [],
   "source": [
    "npi_label = pd.DataFrame(npi_group['is_excluded'].apply(lambda x: 1 if x > 0  else 0))\n",
    "df = pd.concat([pd.DataFrame(npi_drug_df_transformed, index=npi_label.index), npi_label], axis=1)"
   ]
  },
  {
   "cell_type": "code",
   "execution_count": 34,
   "metadata": {},
   "outputs": [
    {
     "data": {
      "text/plain": [
       "0    486675\n",
       "1       566\n",
       "Name: is_excluded, dtype: int64"
      ]
     },
     "execution_count": 34,
     "metadata": {},
     "output_type": "execute_result"
    }
   ],
   "source": [
    "npi_label['is_excluded'].value_counts()"
   ]
  },
  {
   "cell_type": "code",
   "execution_count": 35,
   "metadata": {},
   "outputs": [
    {
     "data": {
      "image/png": "[encoded data removed]",
      "text/plain": [
       "<matplotlib.figure.Figure at 0x2b72aa9c0940>"
      ]
     },
     "metadata": {},
     "output_type": "display_data"
    }
   ],
   "source": [
    "df_fraud = df[df['is_excluded'] == 1]\n",
    "df_typical = df[df['is_excluded'] == 0]\n",
    "\n",
    "#fig = plt.figure()\n",
    "#ax = fig.add_subplot()\n",
    "\n",
    "plt.plot(df_typical[0].values.tolist(), df_typical[1].values.tolist(), \\\n",
    "        markersize=1, linestyle='none', marker='.', color='lightblue', label='Typical')\n",
    "plt.plot(df_fraud[0].values.tolist(), df_fraud[1].values.tolist(), \\\n",
    "        markersize=4, linestyle='none', marker='.', color='r', label='Fraud')\n",
    "\n",
    "plt.xlabel('PC1', fontsize=15)\n",
    "plt.ylabel('PC2', fontsize=15)\n",
    "plt.legend(fontsize=15)\n",
    "plt.tight_layout()\n",
    "plt.savefig('PC2.jpeg', dpi=1000)\n",
    "plt.show()"
   ]
  },
  {
   "cell_type": "code",
   "execution_count": 36,
   "metadata": {},
   "outputs": [
    {
     "name": "stderr",
     "output_type": "stream",
     "text": [
      "/mnt/home/phongpre/anaconda3-singularity/lib/python3.6/site-packages/matplotlib/figure.py:1999: UserWarning:\n",
      "\n",
      "This figure includes Axes that are not compatible with tight_layout, so results might be incorrect.\n",
      "\n"
     ]
    },
    {
     "data": {
      "image/png": "[encoded data removed]",
      "text/plain": [
       "<matplotlib.figure.Figure at 0x2b71b95039e8>"
      ]
     },
     "metadata": {},
     "output_type": "display_data"
    }
   ],
   "source": [
    "from mpl_toolkits.mplot3d import Axes3D\n",
    "\n",
    "fig = plt.figure()\n",
    "ax = Axes3D(fig)\n",
    "\n",
    "\n",
    "pca = decomposition.PCA(n_components=3)\n",
    "pca.fit(npi_drug_df)\n",
    "npi_drug_df_transformed = pca.transform(npi_drug_df)\n",
    "#plt.plot(np.cumsum(pca.explained_variance_ratio_))\n",
    "#plt.xlabel('number of components')\n",
    "#plt.ylabel('cumulative explained variance')\n",
    "#plt.show()\n",
    "\n",
    "npi_label = pd.DataFrame(npi_group['is_excluded'].apply(lambda x: 1 if x > 0  else 0))\n",
    "df3 = pd.concat([pd.DataFrame(npi_drug_df_transformed, index=npi_label.index), npi_label], axis=1)\n",
    "\n",
    "df_fraud = df3[df3['is_excluded'] == 1]\n",
    "df_typical = df3[df3['is_excluded'] == 0]\n",
    "\n",
    "ax.plot(df_typical[0].values.tolist(), df_typical[1].values.tolist(), df_typical[2].values.tolist(), \\\n",
    "        markersize=1, linestyle='none', marker='.', color='lightblue', label='Typical')\n",
    "ax.plot(df_fraud[0].values.tolist(), df_fraud[1].values.tolist(), df_fraud[2].values.tolist(), \\\n",
    "        markersize=4, linestyle='none', marker='.', color='r', label='Fraud')\n",
    "\n",
    "ax.set_xlabel('PC1', fontsize=15)\n",
    "ax.set_ylabel('PC2', fontsize=15)\n",
    "ax.set_zlabel('PC3', fontsize=15)\n",
    "ax.legend(fontsize=15)\n",
    "fig.tight_layout()\n",
    "fig.savefig('PC3.jpeg', dpi=1000)\n",
    "plt.show()"
   ]
  },
  {
   "cell_type": "markdown",
   "metadata": {},
   "source": [
    "### Training without down/upsampling <a name=\"classNoUpDown\"></a>"
   ]
  },
  {
   "cell_type": "code",
   "execution_count": 37,
   "metadata": {},
   "outputs": [
    {
     "data": {
      "text/plain": [
       "RandomForestClassifier(bootstrap=True, class_weight=None, criterion='gini',\n",
       "            max_depth=None, max_features='auto', max_leaf_nodes=None,\n",
       "            min_impurity_decrease=0.0, min_impurity_split=None,\n",
       "            min_samples_leaf=1, min_samples_split=2,\n",
       "            min_weight_fraction_leaf=0.0, n_estimators=50, n_jobs=1,\n",
       "            oob_score=False, random_state=42, verbose=0, warm_start=False)"
      ]
     },
     "execution_count": 37,
     "metadata": {},
     "output_type": "execute_result"
    }
   ],
   "source": [
    "X = df.drop(['is_excluded'], axis=1)\n",
    "y = df['is_excluded']\n",
    "\n",
    "X_train, X_test, y_train, y_test = train_test_split(X, y, test_size=0.33, random_state=42)\n",
    "\n",
    "clf = RandomForestClassifier(n_estimators=50, random_state=42)\n",
    "clf.fit(X_train, y_train)"
   ]
  },
  {
   "cell_type": "code",
   "execution_count": 38,
   "metadata": {},
   "outputs": [
    {
     "name": "stdout",
     "output_type": "stream",
     "text": [
      "0.99083152887\n"
     ]
    },
    {
     "data": {
      "text/plain": [
       "array([[326078,      0],\n",
       "       [   108,    265]])"
      ]
     },
     "execution_count": 38,
     "metadata": {},
     "output_type": "execute_result"
    }
   ],
   "source": [
    "y_pred = clf.predict(X_train)\n",
    "y_pred_prob = clf.predict_proba(X_train)\n",
    "print(roc_auc_score(y_train, y_pred_prob[:,1]))\n",
    "confusion_matrix(y_train, y_pred)"
   ]
  },
  {
   "cell_type": "code",
   "execution_count": 39,
   "metadata": {},
   "outputs": [
    {
     "name": "stdout",
     "output_type": "stream",
     "text": [
      "0.459466235133\n"
     ]
    },
    {
     "data": {
      "text/plain": [
       "array([[160596,      1],\n",
       "       [   193,      0]])"
      ]
     },
     "execution_count": 39,
     "metadata": {},
     "output_type": "execute_result"
    }
   ],
   "source": [
    "y_pred = clf.predict(X_test)\n",
    "y_pred_prob = clf.predict_proba(X_test)\n",
    "print(roc_auc_score(y_test, y_pred_prob[:,1]))\n",
    "confusion_matrix(y_test, y_pred)"
   ]
  },
  {
   "cell_type": "markdown",
   "metadata": {},
   "source": [
    "From the confusion matrix, we can see that the model was unable to capture the minor class."
   ]
  },
  {
   "cell_type": "markdown",
   "metadata": {},
   "source": [
    "### With upsampling/downsampling <a name=\"classUpDown\"></a>"
   ]
  },
  {
   "cell_type": "markdown",
   "metadata": {},
   "source": [
    "### Results from upsampling only"
   ]
  },
  {
   "cell_type": "code",
   "execution_count": 40,
   "metadata": {},
   "outputs": [
    {
     "data": {
      "text/plain": [
       "0    486675\n",
       "1      5480\n",
       "Name: is_excluded, dtype: int64"
      ]
     },
     "execution_count": 40,
     "metadata": {},
     "output_type": "execute_result"
    }
   ],
   "source": [
    "# Upsampling\n",
    "df_majority = df[df['is_excluded'] == 0]\n",
    "df_minority = df[df['is_excluded'] > 0]\n",
    "\n",
    "df_minority_upsampled = resample(df_minority, replace=True, n_samples=5480, random_state=42) # Increase by 10 times\n",
    "df_upsampled = pd.concat([df_majority, df_minority_upsampled])  \n",
    "df_upsampled['is_excluded'].value_counts()"
   ]
  },
  {
   "cell_type": "code",
   "execution_count": 41,
   "metadata": {},
   "outputs": [
    {
     "data": {
      "text/plain": [
       "RandomForestClassifier(bootstrap=True, class_weight=None, criterion='gini',\n",
       "            max_depth=None, max_features='auto', max_leaf_nodes=None,\n",
       "            min_impurity_decrease=0.0, min_impurity_split=None,\n",
       "            min_samples_leaf=1, min_samples_split=2,\n",
       "            min_weight_fraction_leaf=0.0, n_estimators=50, n_jobs=1,\n",
       "            oob_score=False, random_state=42, verbose=0, warm_start=False)"
      ]
     },
     "execution_count": 41,
     "metadata": {},
     "output_type": "execute_result"
    }
   ],
   "source": [
    "X = df_upsampled.drop(['is_excluded'], axis=1)\n",
    "y = df_upsampled['is_excluded']\n",
    "\n",
    "X_train, X_test, y_train, y_test = train_test_split(X, y, test_size=0.33, random_state=42)\n",
    "\n",
    "clf = RandomForestClassifier(n_estimators=50, random_state=42)\n",
    "clf.fit(X_train, y_train)"
   ]
  },
  {
   "cell_type": "code",
   "execution_count": 42,
   "metadata": {},
   "outputs": [
    {
     "name": "stdout",
     "output_type": "stream",
     "text": [
      "0.989403719429\n"
     ]
    },
    {
     "data": {
      "text/plain": [
       "array([[326045,     12],\n",
       "       [   748,   2938]])"
      ]
     },
     "execution_count": 42,
     "metadata": {},
     "output_type": "execute_result"
    }
   ],
   "source": [
    "y_pred = clf.predict(X_train)\n",
    "y_pred_prob = clf.predict_proba(X_train)\n",
    "print(roc_auc_score(y_train, y_pred_prob[:,1]))\n",
    "confusion_matrix(y_train, y_pred)"
   ]
  },
  {
   "cell_type": "code",
   "execution_count": 43,
   "metadata": {},
   "outputs": [
    {
     "name": "stdout",
     "output_type": "stream",
     "text": [
      "0.985691803869\n"
     ]
    },
    {
     "data": {
      "text/plain": [
       "array([[160577,     41],\n",
       "       [   413,   1381]])"
      ]
     },
     "execution_count": 43,
     "metadata": {},
     "output_type": "execute_result"
    }
   ],
   "source": [
    "y_pred = clf.predict(X_test)\n",
    "y_pred_prob = clf.predict_proba(X_test)\n",
    "print(roc_auc_score(y_test, y_pred_prob[:,1]))\n",
    "confusion_matrix(y_test, y_pred)"
   ]
  },
  {
   "cell_type": "markdown",
   "metadata": {},
   "source": [
    "### Results from downsampling only"
   ]
  },
  {
   "cell_type": "code",
   "execution_count": 44,
   "metadata": {},
   "outputs": [
    {
     "data": {
      "text/plain": [
       "0    48670\n",
       "1      566\n",
       "Name: is_excluded, dtype: int64"
      ]
     },
     "execution_count": 44,
     "metadata": {},
     "output_type": "execute_result"
    }
   ],
   "source": [
    "# Downsampling\n",
    "df_majority = df[df['is_excluded'] == 0]\n",
    "df_minority = df[df['is_excluded'] > 0]\n",
    "\n",
    "df_majority_downsampled = resample(df_majority, replace=False, n_samples=48670, random_state=42) # Reduce by 10 times\n",
    "df_downsampled = pd.concat([df_majority_downsampled, df_minority]) \n",
    "df_downsampled['is_excluded'].value_counts()"
   ]
  },
  {
   "cell_type": "code",
   "execution_count": 45,
   "metadata": {
    "scrolled": true
   },
   "outputs": [
    {
     "data": {
      "text/plain": [
       "RandomForestClassifier(bootstrap=True, class_weight=None, criterion='gini',\n",
       "            max_depth=None, max_features='auto', max_leaf_nodes=None,\n",
       "            min_impurity_decrease=0.0, min_impurity_split=None,\n",
       "            min_samples_leaf=1, min_samples_split=2,\n",
       "            min_weight_fraction_leaf=0.0, n_estimators=50, n_jobs=1,\n",
       "            oob_score=False, random_state=42, verbose=0, warm_start=False)"
      ]
     },
     "execution_count": 45,
     "metadata": {},
     "output_type": "execute_result"
    }
   ],
   "source": [
    "X = df_downsampled.drop(['is_excluded'], axis=1)\n",
    "y = df_downsampled['is_excluded']\n",
    "\n",
    "X_train, X_test, y_train, y_test = train_test_split(X, y, test_size=0.33, random_state=42)\n",
    "\n",
    "clf = RandomForestClassifier(n_estimators=50, random_state=42)\n",
    "clf.fit(X_train, y_train)"
   ]
  },
  {
   "cell_type": "code",
   "execution_count": 46,
   "metadata": {},
   "outputs": [
    {
     "name": "stdout",
     "output_type": "stream",
     "text": [
      "0.985232434081\n"
     ]
    },
    {
     "data": {
      "text/plain": [
       "array([[32608,     0],\n",
       "       [   94,   286]])"
      ]
     },
     "execution_count": 46,
     "metadata": {},
     "output_type": "execute_result"
    }
   ],
   "source": [
    "y_pred = clf.predict(X_train)\n",
    "y_pred_prob = clf.predict_proba(X_train)\n",
    "print(roc_auc_score(y_train, y_pred_prob[:,1]))\n",
    "confusion_matrix(y_train, y_pred)"
   ]
  },
  {
   "cell_type": "code",
   "execution_count": 47,
   "metadata": {},
   "outputs": [
    {
     "name": "stdout",
     "output_type": "stream",
     "text": [
      "0.464190676451\n"
     ]
    },
    {
     "data": {
      "text/plain": [
       "array([[16057,     5],\n",
       "       [  185,     1]])"
      ]
     },
     "execution_count": 47,
     "metadata": {},
     "output_type": "execute_result"
    }
   ],
   "source": [
    "y_pred = clf.predict(X_test)\n",
    "y_pred_prob = clf.predict_proba(X_test)\n",
    "print(roc_auc_score(y_test, y_pred_prob[:,1]))\n",
    "confusion_matrix(y_test, y_pred)"
   ]
  },
  {
   "cell_type": "markdown",
   "metadata": {},
   "source": [
    "### Results from combining up and down sampling"
   ]
  },
  {
   "cell_type": "code",
   "execution_count": 48,
   "metadata": {},
   "outputs": [
    {
     "data": {
      "text/plain": [
       "0    48670\n",
       "1     5480\n",
       "Name: is_excluded, dtype: int64"
      ]
     },
     "execution_count": 48,
     "metadata": {},
     "output_type": "execute_result"
    }
   ],
   "source": [
    "# Downsampling+Upsampling\n",
    "df_updownsampled = pd.concat([df_majority_downsampled, df_minority_upsampled]) \n",
    "df_updownsampled['is_excluded'].value_counts()"
   ]
  },
  {
   "cell_type": "code",
   "execution_count": 49,
   "metadata": {
    "scrolled": true
   },
   "outputs": [
    {
     "data": {
      "text/plain": [
       "RandomForestClassifier(bootstrap=True, class_weight=None, criterion='gini',\n",
       "            max_depth=None, max_features='auto', max_leaf_nodes=None,\n",
       "            min_impurity_decrease=0.0, min_impurity_split=None,\n",
       "            min_samples_leaf=1, min_samples_split=2,\n",
       "            min_weight_fraction_leaf=0.0, n_estimators=50, n_jobs=1,\n",
       "            oob_score=False, random_state=42, verbose=0, warm_start=False)"
      ]
     },
     "execution_count": 49,
     "metadata": {},
     "output_type": "execute_result"
    }
   ],
   "source": [
    "X = df_updownsampled.drop(['is_excluded'], axis=1)\n",
    "y = df_updownsampled['is_excluded']\n",
    "\n",
    "X_train, X_test, y_train, y_test = train_test_split(X, y, test_size=0.33, random_state=42)\n",
    "\n",
    "clf = RandomForestClassifier(n_estimators=50, random_state=42)\n",
    "clf.fit(X_train, y_train)"
   ]
  },
  {
   "cell_type": "code",
   "execution_count": 50,
   "metadata": {},
   "outputs": [
    {
     "name": "stdout",
     "output_type": "stream",
     "text": [
      "0.987987679252\n"
     ]
    },
    {
     "data": {
      "text/plain": [
       "array([[32553,    76],\n",
       "       [  635,  3016]])"
      ]
     },
     "execution_count": 50,
     "metadata": {},
     "output_type": "execute_result"
    }
   ],
   "source": [
    "y_pred = clf.predict(X_train)\n",
    "y_pred_prob = clf.predict_proba(X_train)\n",
    "print(roc_auc_score(y_train, y_pred_prob[:,1]))\n",
    "confusion_matrix(y_train, y_pred)"
   ]
  },
  {
   "cell_type": "code",
   "execution_count": 51,
   "metadata": {},
   "outputs": [
    {
     "name": "stdout",
     "output_type": "stream",
     "text": [
      "0.982311864938\n"
     ]
    },
    {
     "data": {
      "text/plain": [
       "array([[15926,   115],\n",
       "       [  314,  1515]])"
      ]
     },
     "execution_count": 51,
     "metadata": {},
     "output_type": "execute_result"
    }
   ],
   "source": [
    "y_pred = clf.predict(X_test)\n",
    "y_pred_prob = clf.predict_proba(X_test)\n",
    "print(roc_auc_score(y_test, y_pred_prob[:,1]))\n",
    "confusion_matrix(y_test, y_pred)"
   ]
  },
  {
   "cell_type": "markdown",
   "metadata": {},
   "source": [
    "In conclusion, results from just upsampling only is the best."
   ]
  },
  {
   "cell_type": "markdown",
   "metadata": {},
   "source": [
    "## Classification Models Comparison <a name=\"compModel\"></a>"
   ]
  },
  {
   "cell_type": "code",
   "execution_count": 52,
   "metadata": {
    "collapsed": true
   },
   "outputs": [],
   "source": [
    "def warn(*args, **kwargs):\n",
    "    pass\n",
    "\n",
    "import warnings\n",
    "warnings.warn = warn\n",
    "\n",
    "from scipy import interp\n",
    "import matplotlib.pyplot as plt\n",
    "from itertools import cycle\n",
    "\n",
    "from sklearn.neural_network import MLPClassifier\n",
    "from sklearn.neighbors import KNeighborsClassifier\n",
    "from sklearn.svm import SVC\n",
    "from sklearn.gaussian_process import GaussianProcessClassifier\n",
    "from sklearn.gaussian_process.kernels import RBF\n",
    "from sklearn.tree import DecisionTreeClassifier\n",
    "from sklearn.ensemble import RandomForestClassifier, AdaBoostClassifier, GradientBoostingClassifier, ExtraTreesClassifier\n",
    "from sklearn.naive_bayes import GaussianNB\n",
    "from sklearn.discriminant_analysis import QuadraticDiscriminantAnalysis\n",
    "from sklearn.model_selection import cross_validate, GridSearchCV, StratifiedKFold\n",
    "from sklearn.metrics import roc_curve, auc, recall_score, precision_score\n",
    "\n",
    "seed = 42"
   ]
  },
  {
   "cell_type": "code",
   "execution_count": 53,
   "metadata": {},
   "outputs": [
    {
     "data": {
      "text/plain": [
       "0    486675\n",
       "1      5480\n",
       "Name: is_excluded, dtype: int64"
      ]
     },
     "execution_count": 53,
     "metadata": {},
     "output_type": "execute_result"
    }
   ],
   "source": [
    "# Upsampling\n",
    "df_majority = df[df['is_excluded'] == 0]\n",
    "df_minority = df[df['is_excluded'] > 0]\n",
    "\n",
    "df_minority_upsampled = resample(df_minority, replace=True, n_samples=5480, random_state=42) # Increase by 10 times\n",
    "df_upsampled = pd.concat([df_majority, df_minority_upsampled])  \n",
    "df_upsampled['is_excluded'].value_counts()"
   ]
  },
  {
   "cell_type": "code",
   "execution_count": 54,
   "metadata": {},
   "outputs": [
    {
     "data": {
      "text/html": [
       "<div>\n",
       "<style>\n",
       "    .dataframe thead tr:only-child th {\n",
       "        text-align: right;\n",
       "    }\n",
       "\n",
       "    .dataframe thead th {\n",
       "        text-align: left;\n",
       "    }\n",
       "\n",
       "    .dataframe tbody tr th {\n",
       "        vertical-align: top;\n",
       "    }\n",
       "</style>\n",
       "<table border=\"1\" class=\"dataframe\">\n",
       "  <thead>\n",
       "    <tr style=\"text-align: right;\">\n",
       "      <th></th>\n",
       "      <th>0</th>\n",
       "      <th>1</th>\n",
       "      <th>is_excluded</th>\n",
       "    </tr>\n",
       "    <tr>\n",
       "      <th>npi</th>\n",
       "      <th></th>\n",
       "      <th></th>\n",
       "      <th></th>\n",
       "    </tr>\n",
       "  </thead>\n",
       "  <tbody>\n",
       "    <tr>\n",
       "      <th>1003000126</th>\n",
       "      <td>-0.032404</td>\n",
       "      <td>-0.017284</td>\n",
       "      <td>0</td>\n",
       "    </tr>\n",
       "    <tr>\n",
       "      <th>1003000142</th>\n",
       "      <td>0.771740</td>\n",
       "      <td>0.012141</td>\n",
       "      <td>0</td>\n",
       "    </tr>\n",
       "    <tr>\n",
       "      <th>1003000167</th>\n",
       "      <td>-0.040800</td>\n",
       "      <td>0.308674</td>\n",
       "      <td>0</td>\n",
       "    </tr>\n",
       "    <tr>\n",
       "      <th>1003000407</th>\n",
       "      <td>-0.037871</td>\n",
       "      <td>-0.025819</td>\n",
       "      <td>0</td>\n",
       "    </tr>\n",
       "    <tr>\n",
       "      <th>1003000423</th>\n",
       "      <td>-0.028024</td>\n",
       "      <td>-0.012454</td>\n",
       "      <td>0</td>\n",
       "    </tr>\n",
       "  </tbody>\n",
       "</table>\n",
       "</div>"
      ],
      "text/plain": [
       "                   0         1  is_excluded\n",
       "npi                                        \n",
       "1003000126 -0.032404 -0.017284            0\n",
       "1003000142  0.771740  0.012141            0\n",
       "1003000167 -0.040800  0.308674            0\n",
       "1003000407 -0.037871 -0.025819            0\n",
       "1003000423 -0.028024 -0.012454            0"
      ]
     },
     "execution_count": 54,
     "metadata": {},
     "output_type": "execute_result"
    }
   ],
   "source": [
    "df_upsampled.head()"
   ]
  },
  {
   "cell_type": "code",
   "execution_count": 55,
   "metadata": {},
   "outputs": [
    {
     "data": {
      "application/vnd.jupyter.widget-view+json": {
       "model_id": "3215403087dc4f3e867fb1b996369e79",
       "version_major": 2,
       "version_minor": 0
      },
      "text/plain": [
       "A Jupyter Widget"
      ]
     },
     "metadata": {},
     "output_type": "display_data"
    },
    {
     "name": "stdout",
     "output_type": "stream",
     "text": [
      "########################### \n",
      "For Naive Bayes\n",
      "AUC: Mean-0.5243  STD-0.0063\n",
      "Accuracy: Mean-0.9889  STD-0.0000\n",
      "F1: Mean-0.0000  STD-0.0000\n",
      "########################### \n",
      "For Nearest Neighbors\n",
      "AUC: Mean-0.9068  STD-0.0030\n",
      "Accuracy: Mean-0.9941  STD-0.0003\n",
      "F1: Mean-0.7459  STD-0.0107\n",
      "########################### \n",
      "For RBF SVM\n",
      "AUC: Mean-0.4882  STD-0.0118\n",
      "Accuracy: Mean-0.9889  STD-0.0000\n",
      "F1: Mean-0.0000  STD-0.0000\n",
      "########################### \n",
      "For AdaBoost\n",
      "AUC: Mean-0.6338  STD-0.0060\n",
      "Accuracy: Mean-0.9889  STD-0.0000\n",
      "F1: Mean-0.0000  STD-0.0000\n",
      "########################### \n",
      "For GradientBoost\n",
      "AUC: Mean-0.9650  STD-0.0041\n",
      "Accuracy: Mean-0.9937  STD-0.0003\n",
      "F1: Mean-0.6540  STD-0.0190\n",
      "########################### \n",
      "For ExtraTrees\n",
      "AUC: Mean-0.9875  STD-0.0015\n",
      "Accuracy: Mean-0.9975  STD-0.0001\n",
      "F1: Mean-0.8728  STD-0.0048\n",
      "########################### \n",
      "For Random Forest\n",
      "AUC: Mean-0.9860  STD-0.0016\n",
      "Accuracy: Mean-0.9974  STD-0.0001\n",
      "F1: Mean-0.8707  STD-0.0050\n",
      "\n"
     ]
    },
    {
     "data": {
      "text/html": [
       "<iframe id=\"igraph\" scrolling=\"no\" style=\"border:none;\" seamless=\"seamless\" src=\"https://plot.ly/~tpjoe33/13.embed\" height=\"525px\" width=\"100%\"></iframe>"
      ],
      "text/plain": [
       "<plotly.tools.PlotlyDisplay object>"
      ]
     },
     "execution_count": 55,
     "metadata": {},
     "output_type": "execute_result"
    }
   ],
   "source": [
    "# Identifying the best model algorithm\n",
    "colors = [\"#08306b\", \"#08519c\", \"#1361a9\", \"#4292c6\", \"#6baed6\", 'rgb(76,000,153)', 'rgb(153,000,153)']\n",
    "\n",
    "X = df_upsampled.drop(['is_excluded'], axis=1)\n",
    "y = df_upsampled['is_excluded']\n",
    "\n",
    "scoring = {'AUC': 'roc_auc', 'Accuracy': 'accuracy', 'F1': 'f1'}\n",
    "\n",
    "names = [\"Naive Bayes\", \"Nearest Neighbors\", \"RBF SVM\", \n",
    "         \"AdaBoost\", \"GradientBoost\", \"ExtraTrees\", \"Random Forest\"]\n",
    "        \n",
    "classifiers = [\n",
    "    GaussianNB(),\n",
    "    KNeighborsClassifier(n_neighbors=5),\n",
    "    SVC(kernel=\"rbf\", C=1, probability=True),\n",
    "    AdaBoostClassifier(n_estimators=50, random_state=seed),\n",
    "    GradientBoostingClassifier(n_estimators=1000, random_state=seed),\n",
    "    ExtraTreesClassifier(n_estimators=50, random_state=seed),\n",
    "    RandomForestClassifier(n_estimators=50, random_state=seed),]\n",
    "\n",
    "trace_dict = {}\n",
    "# iterate over classifiers\n",
    "for color, name, clf in tqdm_notebook(zip(colors, names, classifiers), total=len(names)):\n",
    "    cv_results = cross_validate(clf, X, y, scoring=scoring, cv=5, return_train_score=True)\n",
    "    print('########################### \\nFor {}'.format(name))\n",
    "    for score in scoring:\n",
    "        print('{0:s}: Mean-{1:.4f}  STD-{2:.4f}'.format(score, cv_results['test_'+score].mean(),\\\n",
    "                                                        cv_results['test_'+score].std()))\n",
    "    trace_dict.update({'trace' + name: go.Bar(x=name, y=cv_results['test_F1'].mean(), error_y=dict(type='data',\n",
    "                                              array=np.std(cv_results['test_F1']),visible=True),\n",
    "                                              name=name, marker=dict(color=color), showlegend=False)})\n",
    "\n",
    "\n",
    "layout = go.Layout(\n",
    "    title='Performance of Different Models by F1 Score',\n",
    "    #width=500,\n",
    "    xaxis=dict(autorange=True, showgrid=False, zeroline=False, showline=False, autotick=True, ticks='',\n",
    "               showticklabels=True),\n",
    "    yaxis=dict(title='F1 Score', zeroline=False),\n",
    "    margin=go.Margin(l=50, r=65, b=100, t=60, pad=4))\n",
    "\n",
    "data = [trace_dict[trace] for trace in trace_dict]\n",
    "fig= go.Figure(data=data, layout=layout)\n",
    "py.iplot(fig, filename='F1models')"
   ]
  },
  {
   "cell_type": "code",
   "execution_count": 56,
   "metadata": {},
   "outputs": [
    {
     "data": {
      "application/vnd.jupyter.widget-view+json": {
       "model_id": "e9a65f6f27cd48a7b0ffc0dd4e13d3e2",
       "version_major": 2,
       "version_minor": 0
      },
      "text/plain": [
       "A Jupyter Widget"
      ]
     },
     "metadata": {},
     "output_type": "display_data"
    },
    {
     "name": "stdout",
     "output_type": "stream",
     "text": [
      "\n"
     ]
    },
    {
     "data": {
      "text/html": [
       "<iframe id=\"igraph\" scrolling=\"no\" style=\"border:none;\" seamless=\"seamless\" src=\"https://plot.ly/~tpjoe33/17.embed\" height=\"525px\" width=\"100%\"></iframe>"
      ],
      "text/plain": [
       "<plotly.tools.PlotlyDisplay object>"
      ]
     },
     "execution_count": 56,
     "metadata": {},
     "output_type": "execute_result"
    }
   ],
   "source": [
    "# Plotting ROC curves of the models\n",
    "colors = [\"#08306b\", \"#08519c\", \"#1361a9\", \"#4292c6\", \"#6baed6\", 'rgb(76,000,153)', 'rgb(153,000,153)']\n",
    "names = [\"Naive Bayes\", \"Nearest Neighbors\", \"RBF SVM\", \n",
    "         \"AdaBoost\", \"GradientBoost\", \"ExtraTrees\", \"Random Forest\"]\n",
    "\n",
    "X = df_upsampled.drop(['is_excluded'], axis=1)\n",
    "y = df_upsampled['is_excluded']\n",
    "\n",
    "\n",
    "X_train, X_test, y_train, y_test = train_test_split(X.values, y.values, test_size=0.33, random_state=42)\n",
    "n_classes = 1\n",
    "\n",
    "fpr = dict()\n",
    "tpr = dict()\n",
    "roc_auc = dict()\n",
    "\n",
    "plt.figure()\n",
    "lw = 2\n",
    "trace_dict = {}\n",
    "\n",
    "classifiers = [\n",
    "    GaussianNB(),\n",
    "    KNeighborsClassifier(n_neighbors=5),\n",
    "    SVC(kernel=\"rbf\", C=1, probability=True),\n",
    "    AdaBoostClassifier(n_estimators=50, random_state=seed),\n",
    "    GradientBoostingClassifier(n_estimators=1000, random_state=seed),\n",
    "    ExtraTreesClassifier(n_estimators=50, random_state=seed),\n",
    "    RandomForestClassifier(n_estimators=50, random_state=seed)]\n",
    "\n",
    "for color, name, clf in tqdm_notebook(zip(colors, names, classifiers), total=len(names)):\n",
    "    y_score = clf.fit(X_train, y_train).predict_proba(X_test)\n",
    "    fpr[name], tpr[name], _ = roc_curve(y_test[:], y_score[:, 1])\n",
    "    roc_auc[name] = auc(fpr[name], tpr[name])\n",
    "    trace_dict.update({'trace' + name: go.Scatter(x=fpr[name], y=tpr[name], mode='lines', \n",
    "                                       line=dict(color=color, width=lw),\n",
    "                                       showlegend=True,\n",
    "                                       name='{0:s} AUC: {1:.2f}'.format(name, roc_auc[name]))})\n",
    "\n",
    "trace_guess = go.Scatter(x=[0, 1], y=[0, 1], \n",
    "                mode='lines', \n",
    "                line=dict(color='navy', width=lw, dash='dash'),\n",
    "                showlegend=False)\n",
    "\n",
    "data = [trace_dict[trace] for trace in trace_dict] + [trace_guess]\n",
    "\n",
    "layout = go.Layout(title='Receiver Operating Characteristics',\n",
    "                   xaxis=dict(title='False Positive Rate'),\n",
    "                   yaxis=dict(title='True Positive Rate'),\n",
    "                   margin=go.Margin(l=50, r=50, b=30, t=65, pad=4),\n",
    "                   legend=dict(x=0.7, y=0.4, font=dict(size=18))\n",
    "                  )\n",
    "\n",
    "fig = go.Figure(data=data, layout=layout)\n",
    "py.iplot(fig, filename='ROCs')"
   ]
  },
  {
   "cell_type": "markdown",
   "metadata": {},
   "source": [
    "## Model Optimization <a name=\"optModel\"></a>"
   ]
  },
  {
   "cell_type": "markdown",
   "metadata": {},
   "source": [
    "### Grid Search <a name=\"optGrid\"></a>"
   ]
  },
  {
   "cell_type": "code",
   "execution_count": 57,
   "metadata": {
    "scrolled": true
   },
   "outputs": [
    {
     "name": "stdout",
     "output_type": "stream",
     "text": [
      "Fitting 3 folds for each of 24 candidates, totalling 72 fits\n"
     ]
    },
    {
     "name": "stderr",
     "output_type": "stream",
     "text": [
      "[Parallel(n_jobs=1)]: Done  72 out of  72 | elapsed: 67.6min finished\n"
     ]
    }
   ],
   "source": [
    "# Gridsearch of the best algorithm\n",
    "# The scorers can be either be one of the predefined metric strings or a scorer\n",
    "# callable, like the one returned by make_scorer\n",
    "\n",
    "X = df_upsampled.drop(['is_excluded'], axis=1)\n",
    "y = df_upsampled['is_excluded']\n",
    "\n",
    "scoring = {'AUC': 'roc_auc', 'F1': 'f1'}\n",
    "\n",
    "clf = ExtraTreesClassifier()\n",
    "params ={'n_estimators': [75, 100, 150, 200, 250, 300], 'max_features':('auto', None), \\\n",
    "         'min_samples_split': [2, 4]}\n",
    "\n",
    "gs = GridSearchCV(clf, params, scoring=scoring, cv=3, refit='F1', verbose=1)\n",
    "\n",
    "gs.fit(X, y)\n",
    "results = gs.cv_results_"
   ]
  },
  {
   "cell_type": "code",
   "execution_count": 58,
   "metadata": {},
   "outputs": [
    {
     "data": {
      "text/plain": [
       "ExtraTreesClassifier(bootstrap=False, class_weight=None, criterion='gini',\n",
       "           max_depth=None, max_features=None, max_leaf_nodes=None,\n",
       "           min_impurity_decrease=0.0, min_impurity_split=None,\n",
       "           min_samples_leaf=1, min_samples_split=2,\n",
       "           min_weight_fraction_leaf=0.0, n_estimators=300, n_jobs=1,\n",
       "           oob_score=False, random_state=None, verbose=0, warm_start=False)"
      ]
     },
     "execution_count": 58,
     "metadata": {},
     "output_type": "execute_result"
    }
   ],
   "source": [
    "gs.best_estimator_"
   ]
  },
  {
   "cell_type": "markdown",
   "metadata": {},
   "source": [
    "### Optimizing PCA components <a name=\"optPCA\"></a>"
   ]
  },
  {
   "cell_type": "code",
   "execution_count": 59,
   "metadata": {},
   "outputs": [
    {
     "data": {
      "application/vnd.jupyter.widget-view+json": {
       "model_id": "b26250f7496c4289bef5fd670ebeae68",
       "version_major": 2,
       "version_minor": 0
      },
      "text/plain": [
       "A Jupyter Widget"
      ]
     },
     "metadata": {},
     "output_type": "display_data"
    },
    {
     "name": "stdout",
     "output_type": "stream",
     "text": [
      "\n"
     ]
    },
    {
     "data": {
      "text/html": [
       "<iframe id=\"igraph\" scrolling=\"no\" style=\"border:none;\" seamless=\"seamless\" src=\"https://plot.ly/~tpjoe33/15.embed\" height=\"525px\" width=\"100%\"></iframe>"
      ],
      "text/plain": [
       "<plotly.tools.PlotlyDisplay object>"
      ]
     },
     "execution_count": 59,
     "metadata": {},
     "output_type": "execute_result"
    }
   ],
   "source": [
    "npi_drug_df = pd.read_pickle('npi_drug_df.pickle')\n",
    "npi_group = pd.read_pickle('npi_group.pickle')\n",
    "\n",
    "pcas = [1, 2, 3, 5] #20, 50, 100]\n",
    "F1_avg = []\n",
    "F1_std = []\n",
    "prec_avg = []\n",
    "prec_std = []\n",
    "recall_avg = []\n",
    "recall_std = []\n",
    "\n",
    "scoring = {'prec': 'precision', 'recall': 'recall', 'F1': 'f1'}\n",
    "\n",
    "clf = ExtraTreesClassifier(bootstrap=False, class_weight=None, criterion='gini',\n",
    "           max_depth=None, max_features=None, max_leaf_nodes=None,\n",
    "           min_impurity_decrease=0.0, min_impurity_split=None,\n",
    "           min_samples_leaf=1, min_samples_split=2,\n",
    "           min_weight_fraction_leaf=0.0, n_estimators=200, n_jobs=1,\n",
    "           oob_score=False, random_state=None, verbose=0, warm_start=False)\n",
    "\n",
    "for pca in tqdm_notebook(pcas):\n",
    "    pca = decomposition.PCA(n_components=pca)\n",
    "    pca.fit(npi_drug_df)\n",
    "    npi_drug_df_transformed = pca.transform(npi_drug_df)\n",
    "    npi_label = pd.DataFrame(npi_group['is_excluded'].apply(lambda x: 1 if x > 0  else 0))\n",
    "    df = pd.concat([pd.DataFrame(npi_drug_df_transformed, index=npi_label.index), npi_label], axis=1)\n",
    "\n",
    "    df_majority = df[df['is_excluded'] == 0]\n",
    "    df_minority = df[df['is_excluded'] > 0]\n",
    "\n",
    "    df_minority_upsampled = resample(df_minority, replace=True, n_samples=5480, random_state=42) # Increase by 10 times\n",
    "    df_upsampled = pd.concat([df_majority, df_minority_upsampled])  \n",
    "    df_upsampled['is_excluded'].value_counts()\n",
    "    X = df_upsampled.drop(['is_excluded'], axis=1)\n",
    "    y = df_upsampled['is_excluded']\n",
    "\n",
    "    cv_results = cross_validate(clf, X, y, scoring=scoring, cv=3, return_train_score=False)\n",
    "    F1_avg.append(cv_results['test_F1'].mean())\n",
    "    F1_std.append(np.std(cv_results['test_F1']))\n",
    "    prec_avg.append(cv_results['test_prec'].mean())\n",
    "    prec_std.append(np.std(cv_results['test_prec']))\n",
    "    recall_avg.append(cv_results['test_recall'].mean())\n",
    "    recall_std.append(np.std(cv_results['test_recall']))\n",
    "    \n",
    "# Plotting\n",
    "data = [go.Scatter(x=pcas, y=F1_avg, error_y=dict(type='data', array=F1_std, visible=True, color=\"#6baed6\", thickness=1.5),\n",
    "                  marker=dict(color=\"#9ecae1\",size=8))]\n",
    "\n",
    "layout = go.Layout(\n",
    "    title='Performance of Random Forest with Increasing Components',\n",
    "    #width=500,\n",
    "    xaxis=dict(autorange=True, showgrid=True, zeroline=False, showline=False, autotick=True, ticks='',\n",
    "               showticklabels=True, title='Number of Components'),\n",
    "    yaxis=dict(title='F1 Score', zeroline=False))\n",
    "\n",
    "fig= go.Figure(data=data, layout=layout)\n",
    "py.iplot(fig, filename='PCAEffects')"
   ]
  },
  {
   "cell_type": "code",
   "execution_count": 60,
   "metadata": {},
   "outputs": [
    {
     "name": "stdout",
     "output_type": "stream",
     "text": [
      "[0.83406932192084049, 0.98339384662382046, 0.98727058276672464, 0.98569544681954469]\n",
      "[0.0067902392995953936, 0.0059130734892458535, 0.0075255581821799403, 0.0079151057653170064]\n",
      "[0.76149570167019265, 0.78430645505842855, 0.78430645505842855, 0.78430645505842855]\n",
      "[0.0090699373780474598, 0.0078333762893784305, 0.0078333762893784305, 0.0078333762893784305]\n"
     ]
    }
   ],
   "source": [
    "print(prec_avg)\n",
    "print(prec_std)\n",
    "print(recall_avg)\n",
    "print(recall_std)"
   ]
  }
 ],
 "metadata": {
  "kernelspec": {
   "display_name": "Python 3",
   "language": "python",
   "name": "python3"
  },
  "language_info": {
   "codemirror_mode": {
    "name": "ipython",
    "version": 3
   },
   "file_extension": ".py",
   "mimetype": "text/x-python",
   "name": "python",
   "nbconvert_exporter": "python",
   "pygments_lexer": "ipython3",
   "version": "3.6.3"
  }
 },
 "nbformat": 4,
 "nbformat_minor": 2
}
